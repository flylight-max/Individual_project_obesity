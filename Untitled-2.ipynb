{
 "cells": [
  {
   "cell_type": "markdown",
   "metadata": {},
   "source": [
    "# **Packages**"
   ]
  },
  {
   "cell_type": "code",
   "execution_count": 207,
   "metadata": {},
   "outputs": [],
   "source": [
    "import pandas as pd\n",
    "import ipywidgets as widgets\n",
    "import matplotlib.pyplot as plt\n",
    "import seaborn as sns\n",
    "import numpy as np\n",
    "import missingno as msno\n",
    "\n",
    "from my_module import *\n",
    "\n",
    "from statsmodels.stats.proportion import proportions_ztest as pz\n",
    "from scipy.stats import mannwhitneyu\n",
    "\n",
    "from sklearn.linear_model import LogisticRegression\n",
    "from sklearn.multiclass import OneVsRestClassifier\n",
    "from sklearn.tree import DecisionTreeClassifier\n",
    "from sklearn.model_selection import cross_val_score, KFold\n",
    "from sklearn.preprocessing import StandardScaler, LabelEncoder\n",
    "from sklearn.experimental import enable_iterative_imputer\n",
    "from sklearn.impute import IterativeImputer, KNNImputer\n",
    "from sklearn.model_selection import train_test_split\n"
   ]
  },
  {
   "cell_type": "code",
   "execution_count": 208,
   "metadata": {},
   "outputs": [],
   "source": [
    "#!pip install missingno"
   ]
  },
  {
   "cell_type": "markdown",
   "metadata": {},
   "source": [
    "# **Dataset description**"
   ]
  },
  {
   "cell_type": "markdown",
   "metadata": {},
   "source": [
    "The Dataset was dowloaded from kaggle. It belongs to a competition where the goal was to make the best predictive model for \"NObeyesdad\" (class of weight) using a specific metric as the common reference for all participants. It is made of real and synthetic data. Hence, I wouldn't trust the biological insights taken from there.  \n",
    "On principle, this doesn't seem that challenging, however, the challenge comes from the missing values as you will see.  \n",
    "Therefore, before getting any further into information extraction, I had first to impute the missing values and find a way to trust it.  \n",
    "\n",
    "The output variable \"NObeyesdad\":  \n",
    "Composed of 7 classes.  \n",
    "- \"Insufficient_Weight\";  \n",
    "- \"Normal_Weight\";  \n",
    "- \"Overweight_Level_I\";  \n",
    "- \"Overweight_Level_II\";  \n",
    "- \"Obesity_Type_I\";  \n",
    "- \"Obesity_Type_II\";  \n",
    "- \"Obesity_Type_III\"  \n",
    "\n",
    "Features:  \n",
    "The features can be divided into 3 groups.  \n",
    "\n",
    "- **Demographic**: Gender, Age, Height, Weight, family_history_with_overweight;  \n",
    "\n",
    "- **Dietary**: FAVC (Frequent High Calorie Food), FCVC (Vegetable Consumption Frequency), NCP (Number of Daily Meals), CAEC (Consumption of Food Between Meals);  \n",
    "    \n",
    "- **Lifestyle**: SMOKE (Smoking Habit), CH2O (Daily Water Intake), SCC (Calorie Monitoring), FAF (Physical Activity Frequency), TUE (Technological Device Usage Time), CALC (Alcohol Consumption Frequency), MTRANS (Main Mode of Transportation).  \n",
    "\n",
    "Once the dataset cleaned (mostly imputed the missing values), I could start to extract information from it. The analysis will follow three main questions.  \n",
    "- Is one of these 3 features subdivisions more prevalent on obesity?  \n",
    "- Are the factors that influence overweight and obesity different between male and females?  \n",
    "- We all know that snacking (CAEC) on a long run is not good for our metabolism and health, however, does snacking inevitably leads to obesity? And if not, why?\n"
   ]
  },
  {
   "cell_type": "markdown",
   "metadata": {},
   "source": [
    "# **Obesity dataset exploration**"
   ]
  },
  {
   "cell_type": "code",
   "execution_count": 209,
   "metadata": {},
   "outputs": [
    {
     "data": {
      "text/html": [
       "<div>\n",
       "<style scoped>\n",
       "    .dataframe tbody tr th:only-of-type {\n",
       "        vertical-align: middle;\n",
       "    }\n",
       "\n",
       "    .dataframe tbody tr th {\n",
       "        vertical-align: top;\n",
       "    }\n",
       "\n",
       "    .dataframe thead th {\n",
       "        text-align: right;\n",
       "    }\n",
       "</style>\n",
       "<table border=\"1\" class=\"dataframe\">\n",
       "  <thead>\n",
       "    <tr style=\"text-align: right;\">\n",
       "      <th></th>\n",
       "      <th>ID</th>\n",
       "      <th>Age</th>\n",
       "      <th>Gender</th>\n",
       "      <th>Height</th>\n",
       "      <th>Weight</th>\n",
       "      <th>CALC</th>\n",
       "      <th>FAVC</th>\n",
       "      <th>FCVC</th>\n",
       "      <th>NCP</th>\n",
       "      <th>SCC</th>\n",
       "      <th>SMOKE</th>\n",
       "      <th>CH2O</th>\n",
       "      <th>family_history_with_overweight</th>\n",
       "      <th>FAF</th>\n",
       "      <th>TUE</th>\n",
       "      <th>CAEC</th>\n",
       "      <th>MTRANS</th>\n",
       "      <th>NObeyesdad</th>\n",
       "    </tr>\n",
       "  </thead>\n",
       "  <tbody>\n",
       "    <tr>\n",
       "      <th>0</th>\n",
       "      <td>1</td>\n",
       "      <td>21.0</td>\n",
       "      <td>Female</td>\n",
       "      <td>1.62</td>\n",
       "      <td>64.0</td>\n",
       "      <td>no</td>\n",
       "      <td>no</td>\n",
       "      <td>2.0</td>\n",
       "      <td>3.0</td>\n",
       "      <td>no</td>\n",
       "      <td>no</td>\n",
       "      <td>2.0</td>\n",
       "      <td>yes</td>\n",
       "      <td>0.0</td>\n",
       "      <td>1.0</td>\n",
       "      <td>Sometimes</td>\n",
       "      <td>Public_Transportation</td>\n",
       "      <td>Normal_Weight</td>\n",
       "    </tr>\n",
       "    <tr>\n",
       "      <th>1</th>\n",
       "      <td>2</td>\n",
       "      <td>21.0</td>\n",
       "      <td>NaN</td>\n",
       "      <td>1.52</td>\n",
       "      <td>56.0</td>\n",
       "      <td>Sometimes</td>\n",
       "      <td>no</td>\n",
       "      <td>3.0</td>\n",
       "      <td>3.0</td>\n",
       "      <td>yes</td>\n",
       "      <td>yes</td>\n",
       "      <td>3.0</td>\n",
       "      <td>yes</td>\n",
       "      <td>3.0</td>\n",
       "      <td>NaN</td>\n",
       "      <td>Sometimes</td>\n",
       "      <td>Public_Transportation</td>\n",
       "      <td>Normal_Weight</td>\n",
       "    </tr>\n",
       "    <tr>\n",
       "      <th>2</th>\n",
       "      <td>3</td>\n",
       "      <td>NaN</td>\n",
       "      <td>Male</td>\n",
       "      <td>NaN</td>\n",
       "      <td>77.0</td>\n",
       "      <td>Frequently</td>\n",
       "      <td>no</td>\n",
       "      <td>2.0</td>\n",
       "      <td>3.0</td>\n",
       "      <td>no</td>\n",
       "      <td>no</td>\n",
       "      <td>2.0</td>\n",
       "      <td>yes</td>\n",
       "      <td>2.0</td>\n",
       "      <td>NaN</td>\n",
       "      <td>Sometimes</td>\n",
       "      <td>Public_Transportation</td>\n",
       "      <td>Normal_Weight</td>\n",
       "    </tr>\n",
       "    <tr>\n",
       "      <th>3</th>\n",
       "      <td>4</td>\n",
       "      <td>27.0</td>\n",
       "      <td>NaN</td>\n",
       "      <td>NaN</td>\n",
       "      <td>87.0</td>\n",
       "      <td>Frequently</td>\n",
       "      <td>no</td>\n",
       "      <td>3.0</td>\n",
       "      <td>3.0</td>\n",
       "      <td>no</td>\n",
       "      <td>NaN</td>\n",
       "      <td>2.0</td>\n",
       "      <td>NaN</td>\n",
       "      <td>2.0</td>\n",
       "      <td>0.0</td>\n",
       "      <td>NaN</td>\n",
       "      <td>Walking</td>\n",
       "      <td>Overweight_Level_I</td>\n",
       "    </tr>\n",
       "    <tr>\n",
       "      <th>4</th>\n",
       "      <td>5</td>\n",
       "      <td>22.0</td>\n",
       "      <td>Male</td>\n",
       "      <td>1.78</td>\n",
       "      <td>89.8</td>\n",
       "      <td>Sometimes</td>\n",
       "      <td>no</td>\n",
       "      <td>2.0</td>\n",
       "      <td>1.0</td>\n",
       "      <td>no</td>\n",
       "      <td>no</td>\n",
       "      <td>2.0</td>\n",
       "      <td>no</td>\n",
       "      <td>0.0</td>\n",
       "      <td>0.0</td>\n",
       "      <td>Sometimes</td>\n",
       "      <td>Public_Transportation</td>\n",
       "      <td>Overweight_Level_II</td>\n",
       "    </tr>\n",
       "  </tbody>\n",
       "</table>\n",
       "</div>"
      ],
      "text/plain": [
       "   ID   Age  Gender  Height  Weight        CALC FAVC  FCVC  NCP  SCC SMOKE  \\\n",
       "0   1  21.0  Female    1.62    64.0          no   no   2.0  3.0   no    no   \n",
       "1   2  21.0     NaN    1.52    56.0   Sometimes   no   3.0  3.0  yes   yes   \n",
       "2   3   NaN    Male     NaN    77.0  Frequently   no   2.0  3.0   no    no   \n",
       "3   4  27.0     NaN     NaN    87.0  Frequently   no   3.0  3.0   no   NaN   \n",
       "4   5  22.0    Male    1.78    89.8   Sometimes   no   2.0  1.0   no    no   \n",
       "\n",
       "   CH2O family_history_with_overweight  FAF  TUE       CAEC  \\\n",
       "0   2.0                            yes  0.0  1.0  Sometimes   \n",
       "1   3.0                            yes  3.0  NaN  Sometimes   \n",
       "2   2.0                            yes  2.0  NaN  Sometimes   \n",
       "3   2.0                            NaN  2.0  0.0        NaN   \n",
       "4   2.0                             no  0.0  0.0  Sometimes   \n",
       "\n",
       "                  MTRANS           NObeyesdad  \n",
       "0  Public_Transportation        Normal_Weight  \n",
       "1  Public_Transportation        Normal_Weight  \n",
       "2  Public_Transportation        Normal_Weight  \n",
       "3                Walking   Overweight_Level_I  \n",
       "4  Public_Transportation  Overweight_Level_II  "
      ]
     },
     "execution_count": 209,
     "metadata": {},
     "output_type": "execute_result"
    }
   ],
   "source": [
    "train_set_df = pd.read_csv(\"train.csv\")\n",
    "train_set_df.head()"
   ]
  },
  {
   "cell_type": "code",
   "execution_count": 210,
   "metadata": {},
   "outputs": [
    {
     "data": {
      "text/plain": [
       "NObeyesdad\n",
       "Overweight_Level_I     290\n",
       "Normal_Weight          287\n",
       "Insufficient_Weight    272\n",
       "Overweight_Level_II    191\n",
       "Obesity_Type_I          47\n",
       "Obesity_Type_III        12\n",
       "Obesity_Type_II         11\n",
       "Name: count, dtype: int64"
      ]
     },
     "execution_count": 210,
     "metadata": {},
     "output_type": "execute_result"
    }
   ],
   "source": [
    "train_set_df[\"NObeyesdad\"].value_counts()"
   ]
  },
  {
   "cell_type": "code",
   "execution_count": 211,
   "metadata": {},
   "outputs": [],
   "source": [
    "train_set_df = train_set_df[[\"ID\",\"Gender\",\"Age\",\"Height\",\"Weight\",\"family_history_with_overweight\",\"FAVC\",\"FCVC\",\"NCP\",\"CAEC\",\"SMOKE\",\"CH2O\",\"SCC\",\"FAF\",\"TUE\",\"CALC\",\"MTRANS\",\"NObeyesdad\"]]"
   ]
  },
  {
   "cell_type": "code",
   "execution_count": 212,
   "metadata": {},
   "outputs": [
    {
     "name": "stdout",
     "output_type": "stream",
     "text": [
      "<class 'pandas.core.frame.DataFrame'>\n",
      "RangeIndex: 1110 entries, 0 to 1109\n",
      "Data columns (total 18 columns):\n",
      " #   Column                          Non-Null Count  Dtype  \n",
      "---  ------                          --------------  -----  \n",
      " 0   ID                              1110 non-null   int64  \n",
      " 1   Gender                          760 non-null    object \n",
      " 2   Age                             801 non-null    float64\n",
      " 3   Height                          873 non-null    float64\n",
      " 4   Weight                          753 non-null    float64\n",
      " 5   family_history_with_overweight  990 non-null    object \n",
      " 6   FAVC                            609 non-null    object \n",
      " 7   FCVC                            1110 non-null   float64\n",
      " 8   NCP                             1108 non-null   float64\n",
      " 9   CAEC                            790 non-null    object \n",
      " 10  SMOKE                           777 non-null    object \n",
      " 11  CH2O                            1110 non-null   float64\n",
      " 12  SCC                             1110 non-null   object \n",
      " 13  FAF                             1097 non-null   float64\n",
      " 14  TUE                             895 non-null    float64\n",
      " 15  CALC                            1056 non-null   object \n",
      " 16  MTRANS                          924 non-null    object \n",
      " 17  NObeyesdad                      1110 non-null   object \n",
      "dtypes: float64(8), int64(1), object(9)\n",
      "memory usage: 156.2+ KB\n"
     ]
    }
   ],
   "source": [
    "train_set_df.info()"
   ]
  },
  {
   "cell_type": "markdown",
   "metadata": {},
   "source": [
    "Only 3 features are complete (outside the ID). All the others have missing values. "
   ]
  },
  {
   "cell_type": "code",
   "execution_count": 213,
   "metadata": {},
   "outputs": [
    {
     "data": {
      "image/png": "[encoded data removed]",
      "text/plain": [
       "<Figure size 2500x1000 with 2 Axes>"
      ]
     },
     "metadata": {},
     "output_type": "display_data"
    }
   ],
   "source": [
    "msno.matrix(train_set_df)\n",
    "plt.show()"
   ]
  },
  {
   "cell_type": "markdown",
   "metadata": {},
   "source": [
    "The category that has the most of missing values is Demographic. Those features won't be helpful to implement the missing values of the other features. "
   ]
  },
  {
   "cell_type": "code",
   "execution_count": 214,
   "metadata": {},
   "outputs": [
    {
     "data": {
      "application/vnd.jupyter.widget-view+json": {
       "model_id": "31c0ca8222324c63aa6d2c357026fa6d",
       "version_major": 2,
       "version_minor": 0
      },
      "text/plain": [
       "interactive(children=(Dropdown(description='attribute', options=('ID', 'Gender', 'Age', 'Height', 'Weight', 'f…"
      ]
     },
     "metadata": {},
     "output_type": "display_data"
    }
   ],
   "source": [
    "@widgets.interact\n",
    "def missing_vals(attribute = list(train_set_df.columns)):\n",
    "    prop = train_set_df[attribute].isna().sum()/len(train_set_df)\n",
    "    print(f\"Proportion of missing values for the column {attribute}: {prop}\")"
   ]
  },
  {
   "cell_type": "code",
   "execution_count": 215,
   "metadata": {},
   "outputs": [
    {
     "data": {
      "text/html": [
       "<div>\n",
       "<style scoped>\n",
       "    .dataframe tbody tr th:only-of-type {\n",
       "        vertical-align: middle;\n",
       "    }\n",
       "\n",
       "    .dataframe tbody tr th {\n",
       "        vertical-align: top;\n",
       "    }\n",
       "\n",
       "    .dataframe thead th {\n",
       "        text-align: right;\n",
       "    }\n",
       "</style>\n",
       "<table border=\"1\" class=\"dataframe\">\n",
       "  <thead>\n",
       "    <tr style=\"text-align: right;\">\n",
       "      <th></th>\n",
       "      <th>ID</th>\n",
       "      <th>Gender</th>\n",
       "      <th>Age</th>\n",
       "      <th>Height</th>\n",
       "      <th>Weight</th>\n",
       "      <th>family_history_with_overweight</th>\n",
       "      <th>FAVC</th>\n",
       "      <th>FCVC</th>\n",
       "      <th>NCP</th>\n",
       "      <th>CAEC</th>\n",
       "      <th>SMOKE</th>\n",
       "      <th>CH2O</th>\n",
       "      <th>SCC</th>\n",
       "      <th>FAF</th>\n",
       "      <th>TUE</th>\n",
       "      <th>CALC</th>\n",
       "      <th>MTRANS</th>\n",
       "      <th>NObeyesdad</th>\n",
       "    </tr>\n",
       "  </thead>\n",
       "  <tbody>\n",
       "    <tr>\n",
       "      <th>188</th>\n",
       "      <td>189</td>\n",
       "      <td>NaN</td>\n",
       "      <td>35.0</td>\n",
       "      <td>1.78</td>\n",
       "      <td>NaN</td>\n",
       "      <td>yes</td>\n",
       "      <td>NaN</td>\n",
       "      <td>3.000000</td>\n",
       "      <td>NaN</td>\n",
       "      <td>no</td>\n",
       "      <td>no</td>\n",
       "      <td>3.000000</td>\n",
       "      <td>no</td>\n",
       "      <td>3.0</td>\n",
       "      <td>1.000000</td>\n",
       "      <td>Frequently</td>\n",
       "      <td>Automobile</td>\n",
       "      <td>Obesity_Type_I</td>\n",
       "    </tr>\n",
       "    <tr>\n",
       "      <th>1009</th>\n",
       "      <td>1010</td>\n",
       "      <td>Male</td>\n",
       "      <td>23.0</td>\n",
       "      <td>NaN</td>\n",
       "      <td>90.0</td>\n",
       "      <td>yes</td>\n",
       "      <td>yes</td>\n",
       "      <td>2.067817</td>\n",
       "      <td>NaN</td>\n",
       "      <td>Sometimes</td>\n",
       "      <td>NaN</td>\n",
       "      <td>1.082084</td>\n",
       "      <td>no</td>\n",
       "      <td>0.0</td>\n",
       "      <td>1.922364</td>\n",
       "      <td>Sometimes</td>\n",
       "      <td>Public_Transportation</td>\n",
       "      <td>Overweight_Level_II</td>\n",
       "    </tr>\n",
       "  </tbody>\n",
       "</table>\n",
       "</div>"
      ],
      "text/plain": [
       "        ID Gender   Age  Height  Weight family_history_with_overweight FAVC  \\\n",
       "188    189    NaN  35.0    1.78     NaN                            yes  NaN   \n",
       "1009  1010   Male  23.0     NaN    90.0                            yes  yes   \n",
       "\n",
       "          FCVC  NCP       CAEC SMOKE      CH2O SCC  FAF       TUE        CALC  \\\n",
       "188   3.000000  NaN         no    no  3.000000  no  3.0  1.000000  Frequently   \n",
       "1009  2.067817  NaN  Sometimes   NaN  1.082084  no  0.0  1.922364   Sometimes   \n",
       "\n",
       "                     MTRANS           NObeyesdad  \n",
       "188              Automobile       Obesity_Type_I  \n",
       "1009  Public_Transportation  Overweight_Level_II  "
      ]
     },
     "execution_count": 215,
     "metadata": {},
     "output_type": "execute_result"
    }
   ],
   "source": [
    "miss_NCP = train_set_df[train_set_df[\"NCP\"].isna()]\n",
    "miss_NCP"
   ]
  },
  {
   "cell_type": "code",
   "execution_count": 216,
   "metadata": {},
   "outputs": [],
   "source": [
    "train_set_df = train_set_df.dropna(subset=[\"NCP\"])"
   ]
  },
  {
   "cell_type": "code",
   "execution_count": 217,
   "metadata": {},
   "outputs": [
    {
     "data": {
      "text/plain": [
       "dtype('O')"
      ]
     },
     "execution_count": 217,
     "metadata": {},
     "output_type": "execute_result"
    }
   ],
   "source": [
    "train_set_df[\"Gender\"].dtype"
   ]
  },
  {
   "cell_type": "code",
   "execution_count": 218,
   "metadata": {},
   "outputs": [
    {
     "data": {
      "text/plain": [
       "1108"
      ]
     },
     "execution_count": 218,
     "metadata": {},
     "output_type": "execute_result"
    }
   ],
   "source": [
    "len(train_set_df)"
   ]
  },
  {
   "cell_type": "markdown",
   "metadata": {},
   "source": [
    "## **Duplicates**"
   ]
  },
  {
   "cell_type": "code",
   "execution_count": 219,
   "metadata": {},
   "outputs": [
    {
     "data": {
      "text/plain": [
       "1108"
      ]
     },
     "execution_count": 219,
     "metadata": {},
     "output_type": "execute_result"
    }
   ],
   "source": [
    "len(train_set_df[\"ID\"].unique())"
   ]
  },
  {
   "cell_type": "code",
   "execution_count": 220,
   "metadata": {},
   "outputs": [
    {
     "data": {
      "text/html": [
       "<div>\n",
       "<style scoped>\n",
       "    .dataframe tbody tr th:only-of-type {\n",
       "        vertical-align: middle;\n",
       "    }\n",
       "\n",
       "    .dataframe tbody tr th {\n",
       "        vertical-align: top;\n",
       "    }\n",
       "\n",
       "    .dataframe thead th {\n",
       "        text-align: right;\n",
       "    }\n",
       "</style>\n",
       "<table border=\"1\" class=\"dataframe\">\n",
       "  <thead>\n",
       "    <tr style=\"text-align: right;\">\n",
       "      <th></th>\n",
       "      <th>ID</th>\n",
       "      <th>Gender</th>\n",
       "      <th>Age</th>\n",
       "      <th>Height</th>\n",
       "      <th>Weight</th>\n",
       "      <th>family_history_with_overweight</th>\n",
       "      <th>FAVC</th>\n",
       "      <th>FCVC</th>\n",
       "      <th>NCP</th>\n",
       "      <th>CAEC</th>\n",
       "      <th>SMOKE</th>\n",
       "      <th>CH2O</th>\n",
       "      <th>SCC</th>\n",
       "      <th>FAF</th>\n",
       "      <th>TUE</th>\n",
       "      <th>CALC</th>\n",
       "      <th>MTRANS</th>\n",
       "      <th>NObeyesdad</th>\n",
       "    </tr>\n",
       "  </thead>\n",
       "  <tbody>\n",
       "    <tr>\n",
       "      <th>179</th>\n",
       "      <td>180</td>\n",
       "      <td>NaN</td>\n",
       "      <td>21.0</td>\n",
       "      <td>1.62</td>\n",
       "      <td>70.0</td>\n",
       "      <td>no</td>\n",
       "      <td>yes</td>\n",
       "      <td>2.0</td>\n",
       "      <td>1.0</td>\n",
       "      <td>no</td>\n",
       "      <td>no</td>\n",
       "      <td>3.0</td>\n",
       "      <td>no</td>\n",
       "      <td>1.0</td>\n",
       "      <td>0.0</td>\n",
       "      <td>Sometimes</td>\n",
       "      <td>Public_Transportation</td>\n",
       "      <td>Overweight_Level_I</td>\n",
       "    </tr>\n",
       "    <tr>\n",
       "      <th>763</th>\n",
       "      <td>764</td>\n",
       "      <td>NaN</td>\n",
       "      <td>21.0</td>\n",
       "      <td>1.62</td>\n",
       "      <td>70.0</td>\n",
       "      <td>no</td>\n",
       "      <td>yes</td>\n",
       "      <td>2.0</td>\n",
       "      <td>1.0</td>\n",
       "      <td>no</td>\n",
       "      <td>no</td>\n",
       "      <td>3.0</td>\n",
       "      <td>no</td>\n",
       "      <td>1.0</td>\n",
       "      <td>0.0</td>\n",
       "      <td>Sometimes</td>\n",
       "      <td>Public_Transportation</td>\n",
       "      <td>Overweight_Level_I</td>\n",
       "    </tr>\n",
       "  </tbody>\n",
       "</table>\n",
       "</div>"
      ],
      "text/plain": [
       "      ID Gender   Age  Height  Weight family_history_with_overweight FAVC  \\\n",
       "179  180    NaN  21.0    1.62    70.0                             no  yes   \n",
       "763  764    NaN  21.0    1.62    70.0                             no  yes   \n",
       "\n",
       "     FCVC  NCP CAEC SMOKE  CH2O SCC  FAF  TUE       CALC  \\\n",
       "179   2.0  1.0   no    no   3.0  no  1.0  0.0  Sometimes   \n",
       "763   2.0  1.0   no    no   3.0  no  1.0  0.0  Sometimes   \n",
       "\n",
       "                    MTRANS          NObeyesdad  \n",
       "179  Public_Transportation  Overweight_Level_I  \n",
       "763  Public_Transportation  Overweight_Level_I  "
      ]
     },
     "execution_count": 220,
     "metadata": {},
     "output_type": "execute_result"
    }
   ],
   "source": [
    "columns_list = train_set_df.columns\n",
    "duplicates = train_set_df[train_set_df.duplicated(subset=columns_list[1:], keep=False)]\n",
    "duplicates"
   ]
  },
  {
   "cell_type": "markdown",
   "metadata": {},
   "source": [
    "Apart from the ID number, the 2 rows are exactly the same.  \n",
    "I am removing one of them."
   ]
  },
  {
   "cell_type": "code",
   "execution_count": 221,
   "metadata": {},
   "outputs": [],
   "source": [
    "train_set_df.drop(duplicates.index[0], inplace=True)"
   ]
  },
  {
   "cell_type": "code",
   "execution_count": 222,
   "metadata": {},
   "outputs": [],
   "source": [
    "train_set_df.reset_index(drop=True, inplace=True)"
   ]
  },
  {
   "cell_type": "code",
   "execution_count": 223,
   "metadata": {},
   "outputs": [
    {
     "name": "stdout",
     "output_type": "stream",
     "text": [
      "<class 'pandas.core.frame.DataFrame'>\n",
      "RangeIndex: 1107 entries, 0 to 1106\n",
      "Data columns (total 18 columns):\n",
      " #   Column                          Non-Null Count  Dtype  \n",
      "---  ------                          --------------  -----  \n",
      " 0   ID                              1107 non-null   int64  \n",
      " 1   Gender                          759 non-null    object \n",
      " 2   Age                             798 non-null    float64\n",
      " 3   Height                          871 non-null    float64\n",
      " 4   Weight                          751 non-null    float64\n",
      " 5   family_history_with_overweight  987 non-null    object \n",
      " 6   FAVC                            607 non-null    object \n",
      " 7   FCVC                            1107 non-null   float64\n",
      " 8   NCP                             1107 non-null   float64\n",
      " 9   CAEC                            787 non-null    object \n",
      " 10  SMOKE                           775 non-null    object \n",
      " 11  CH2O                            1107 non-null   float64\n",
      " 12  SCC                             1107 non-null   object \n",
      " 13  FAF                             1094 non-null   float64\n",
      " 14  TUE                             892 non-null    float64\n",
      " 15  CALC                            1053 non-null   object \n",
      " 16  MTRANS                          921 non-null    object \n",
      " 17  NObeyesdad                      1107 non-null   object \n",
      "dtypes: float64(8), int64(1), object(9)\n",
      "memory usage: 155.8+ KB\n"
     ]
    }
   ],
   "source": [
    "train_set_df.info()"
   ]
  },
  {
   "cell_type": "code",
   "execution_count": 224,
   "metadata": {},
   "outputs": [
    {
     "name": "stdout",
     "output_type": "stream",
     "text": [
      "Proportion of missing values: 0.1500050185687042\n"
     ]
    }
   ],
   "source": [
    "missing_values = pd.DataFrame(train_set_df.isna().sum(), columns=[\"missing values\"])\n",
    "missing_values[\"cummulative nan\"] = missing_values[\"missing values\"].cumsum()\n",
    "total_missing_vals = missing_values.loc[\"NObeyesdad\", \"cummulative nan\"]\n",
    "prop_missing_vals = total_missing_vals/(18*1107)\n",
    "print(f\"Proportion of missing values: {prop_missing_vals}\")"
   ]
  },
  {
   "cell_type": "markdown",
   "metadata": {},
   "source": [
    "# **One hot encoding**  \n"
   ]
  },
  {
   "cell_type": "markdown",
   "metadata": {},
   "source": [
    "## **binomial features**"
   ]
  },
  {
   "cell_type": "code",
   "execution_count": 225,
   "metadata": {},
   "outputs": [
    {
     "data": {
      "application/vnd.jupyter.widget-view+json": {
       "model_id": "1a44def35ac8495f97db2d60c5e5c071",
       "version_major": 2,
       "version_minor": 0
      },
      "text/plain": [
       "interactive(children=(Dropdown(description='attribute', options=('Gender', 'family_history_with_overweight', '…"
      ]
     },
     "metadata": {},
     "output_type": "display_data"
    }
   ],
   "source": [
    "for col in train_set_df.columns:\n",
    "    if train_set_df[col].dtype == \"O\":\n",
    "        train_set_df[col] = train_set_df[col].astype(\"category\")\n",
    "\n",
    "@widgets.interact\n",
    "def binom_multinom(attribute=list(train_set_df.select_dtypes(\"category\").columns)):\n",
    "    n_cat = len(train_set_df[attribute].cat.categories)\n",
    "    categories = train_set_df[attribute].cat.categories\n",
    "    print(f\"the feature {attribute} has {n_cat} categories. \\nThey are: \\n{categories}\")"
   ]
  },
  {
   "cell_type": "markdown",
   "metadata": {},
   "source": [
    "Most of the categorical features are binomiale."
   ]
  },
  {
   "cell_type": "code",
   "execution_count": 226,
   "metadata": {},
   "outputs": [],
   "source": [
    "def binom_bool(df,col,cat_1):\n",
    "    new = np.where(df[col] == cat_1,0,np.where(pd.isna(df[col]),np.nan,1))\n",
    "    return new\n"
   ]
  },
  {
   "cell_type": "code",
   "execution_count": 227,
   "metadata": {},
   "outputs": [
    {
     "data": {
      "text/plain": [
       "'Female'"
      ]
     },
     "execution_count": 227,
     "metadata": {},
     "output_type": "execute_result"
    }
   ],
   "source": [
    "train_set_df[\"Gender\"].cat.categories[0]"
   ]
  },
  {
   "cell_type": "code",
   "execution_count": 228,
   "metadata": {},
   "outputs": [
    {
     "data": {
      "text/plain": [
       "nan"
      ]
     },
     "execution_count": 228,
     "metadata": {},
     "output_type": "execute_result"
    }
   ],
   "source": [
    "counts_gender = train_set_df[\"Gender\"].value_counts(dropna=False)\n",
    "counts_gender.index[2]"
   ]
  },
  {
   "cell_type": "code",
   "execution_count": 229,
   "metadata": {},
   "outputs": [
    {
     "name": "stdout",
     "output_type": "stream",
     "text": [
      "Gender\n",
      "1.0    385\n",
      "0.0    374\n",
      "NaN    348\n",
      "Name: count, dtype: int64\n",
      "Gender\n",
      "Male      385\n",
      "Female    374\n",
      "NaN       348\n",
      "Name: count, dtype: int64\n",
      "['Gender', 'family_history_with_overweight', 'FAVC', 'SMOKE', 'SCC']\n",
      "[{'Female': 0, 'Male': 1}, {'no': 0, 'yes': 1}, {'no': 0, 'yes': 1}, {'no': 0, 'yes': 1}, {'no': 0, 'yes': 1}]\n"
     ]
    }
   ],
   "source": [
    "data_num = train_set_df.copy()\n",
    "\n",
    "list_binom_bool_dict = []\n",
    "list_binom_cols = []\n",
    "for col in data_num.select_dtypes(\"category\").columns:\n",
    "    n_cat = len(data_num[col].cat.categories)\n",
    "    dict_col = {}\n",
    "    if n_cat == 2:\n",
    "        cats = data_num[col].cat.categories\n",
    "        cat_1 = cats[0]\n",
    "        data_num[col] = binom_bool(data_num,col,cat_1)\n",
    "        dict_col[cat_1] = 0\n",
    "        dict_col[cats[1]] = 1\n",
    "        list_binom_bool_dict.append(dict_col)\n",
    "        list_binom_cols.append(col)\n",
    "    \n",
    "print(data_num[\"Gender\"].value_counts(dropna=False))\n",
    "print(train_set_df[\"Gender\"].value_counts(dropna=False))\n",
    "print(list_binom_cols)\n",
    "print(list_binom_bool_dict)\n",
    "\n"
   ]
  },
  {
   "cell_type": "code",
   "execution_count": 230,
   "metadata": {},
   "outputs": [
    {
     "name": "stdout",
     "output_type": "stream",
     "text": [
      "<class 'pandas.core.frame.DataFrame'>\n",
      "RangeIndex: 1107 entries, 0 to 1106\n",
      "Data columns (total 18 columns):\n",
      " #   Column                          Non-Null Count  Dtype   \n",
      "---  ------                          --------------  -----   \n",
      " 0   ID                              1107 non-null   int64   \n",
      " 1   Gender                          759 non-null    float64 \n",
      " 2   Age                             798 non-null    float64 \n",
      " 3   Height                          871 non-null    float64 \n",
      " 4   Weight                          751 non-null    float64 \n",
      " 5   family_history_with_overweight  987 non-null    float64 \n",
      " 6   FAVC                            607 non-null    float64 \n",
      " 7   FCVC                            1107 non-null   float64 \n",
      " 8   NCP                             1107 non-null   float64 \n",
      " 9   CAEC                            787 non-null    category\n",
      " 10  SMOKE                           775 non-null    float64 \n",
      " 11  CH2O                            1107 non-null   float64 \n",
      " 12  SCC                             1107 non-null   float64 \n",
      " 13  FAF                             1094 non-null   float64 \n",
      " 14  TUE                             892 non-null    float64 \n",
      " 15  CALC                            1053 non-null   category\n",
      " 16  MTRANS                          921 non-null    category\n",
      " 17  NObeyesdad                      1107 non-null   category\n",
      "dtypes: category(4), float64(13), int64(1)\n",
      "memory usage: 126.4 KB\n"
     ]
    }
   ],
   "source": [
    "data_num.info()"
   ]
  },
  {
   "cell_type": "markdown",
   "metadata": {},
   "source": [
    "To impute the missing values, I will exclude the last columns \"NObeyesdad\". I should not include the dependent variable."
   ]
  },
  {
   "cell_type": "code",
   "execution_count": 231,
   "metadata": {},
   "outputs": [],
   "source": [
    "y = data_num[[\"NObeyesdad\"]]"
   ]
  },
  {
   "cell_type": "markdown",
   "metadata": {},
   "source": [
    "## **Multinomial features**"
   ]
  },
  {
   "cell_type": "code",
   "execution_count": 232,
   "metadata": {},
   "outputs": [
    {
     "name": "stdout",
     "output_type": "stream",
     "text": [
      "<class 'pandas.core.frame.DataFrame'>\n",
      "RangeIndex: 1107 entries, 0 to 1106\n",
      "Data columns (total 18 columns):\n",
      " #   Column                          Non-Null Count  Dtype   \n",
      "---  ------                          --------------  -----   \n",
      " 0   ID                              1107 non-null   int64   \n",
      " 1   Gender                          759 non-null    float64 \n",
      " 2   Age                             798 non-null    float64 \n",
      " 3   Height                          871 non-null    float64 \n",
      " 4   Weight                          751 non-null    float64 \n",
      " 5   family_history_with_overweight  987 non-null    float64 \n",
      " 6   FAVC                            607 non-null    float64 \n",
      " 7   FCVC                            1107 non-null   float64 \n",
      " 8   NCP                             1107 non-null   float64 \n",
      " 9   CAEC                            787 non-null    category\n",
      " 10  SMOKE                           775 non-null    float64 \n",
      " 11  CH2O                            1107 non-null   float64 \n",
      " 12  SCC                             1107 non-null   float64 \n",
      " 13  FAF                             1094 non-null   float64 \n",
      " 14  TUE                             892 non-null    float64 \n",
      " 15  CALC                            1053 non-null   category\n",
      " 16  MTRANS                          921 non-null    category\n",
      " 17  NObeyesdad                      1107 non-null   category\n",
      "dtypes: category(4), float64(13), int64(1)\n",
      "memory usage: 126.4 KB\n"
     ]
    }
   ],
   "source": [
    "data_num.info()"
   ]
  },
  {
   "cell_type": "code",
   "execution_count": 233,
   "metadata": {},
   "outputs": [
    {
     "data": {
      "application/vnd.jupyter.widget-view+json": {
       "model_id": "88e0074d27054d1e82dcf0c243879aca",
       "version_major": 2,
       "version_minor": 0
      },
      "text/plain": [
       "interactive(children=(Dropdown(description='attribute', options=('CAEC', 'CALC', 'MTRANS', 'NObeyesdad'), valu…"
      ]
     },
     "metadata": {},
     "output_type": "display_data"
    }
   ],
   "source": [
    "@widgets.interact\n",
    "def binom_multinom(attribute=list(data_num.select_dtypes(\"category\").columns)):\n",
    "    n_cat = len(data_num[attribute].cat.categories)\n",
    "    categories = data_num[attribute].cat.categories\n",
    "    print(f\"the feature {attribute} has {n_cat} categories. \\nThey are: \\n{categories}\")"
   ]
  },
  {
   "cell_type": "code",
   "execution_count": 234,
   "metadata": {},
   "outputs": [],
   "source": [
    "data_num[\"CALC\"] = data_num[\"CALC\"].cat.reorder_categories(new_categories=[\"no\",\"Sometimes\",\"Frequently\"], ordered=True)\n",
    "data_num[\"CAEC\"] = data_num[\"CAEC\"].cat.reorder_categories(new_categories=[\"no\",\"Sometimes\",\"Frequently\",\"Always\"], ordered=True)\n"
   ]
  },
  {
   "cell_type": "code",
   "execution_count": 235,
   "metadata": {},
   "outputs": [
    {
     "data": {
      "application/vnd.jupyter.widget-view+json": {
       "model_id": "1d31d1d8552f4a8f9615b9746a97a9af",
       "version_major": 2,
       "version_minor": 0
      },
      "text/plain": [
       "interactive(children=(Dropdown(description='attribute', options=('CAEC', 'CALC', 'MTRANS', 'NObeyesdad'), valu…"
      ]
     },
     "metadata": {},
     "output_type": "display_data"
    }
   ],
   "source": [
    "@widgets.interact\n",
    "def binom_multinom(attribute=list(data_num.select_dtypes(\"category\").columns)):\n",
    "    n_cat = len(data_num[attribute].cat.categories)\n",
    "    categories = data_num[attribute].cat.categories\n",
    "    print(f\"the feature {attribute} has {n_cat} categories. \\nThey are: \\n{categories}\")"
   ]
  },
  {
   "cell_type": "code",
   "execution_count": 236,
   "metadata": {},
   "outputs": [
    {
     "name": "stdout",
     "output_type": "stream",
     "text": [
      "CALC_num\n",
      "1       632\n",
      "0       363\n",
      "2        58\n",
      "<NA>     54\n",
      "Name: count, dtype: Int64\n",
      "{'no': 0, 'Sometimes': 1, 'Frequently': 2}\n"
     ]
    }
   ],
   "source": [
    "Encod_CALC = my_labelEncoder()\n",
    "Encod_CALC.fit(data_num,\"CALC\")\n",
    "dict_CALC = Encod_CALC.dict_cat\n",
    "data_num[\"CALC_num\"] = Encod_CALC.transform(data_num,\"CALC\")\n",
    "print(data_num[\"CALC_num\"].value_counts(dropna=False))\n",
    "print(dict_CALC)"
   ]
  },
  {
   "cell_type": "code",
   "execution_count": 237,
   "metadata": {},
   "outputs": [
    {
     "name": "stdout",
     "output_type": "stream",
     "text": [
      "{'no': 0, 'Sometimes': 1, 'Frequently': 2, 'Always': 3}\n"
     ]
    }
   ],
   "source": [
    "Encod_CAEC = my_labelEncoder()\n",
    "Encod_CAEC.fit(data_num,\"CAEC\")\n",
    "dict_CAEC = Encod_CAEC.dict_cat\n",
    "data_num[\"CAEC_num\"] = Encod_CAEC.transform(data_num,\"CAEC\")\n",
    "print(dict_CAEC)"
   ]
  },
  {
   "cell_type": "code",
   "execution_count": 238,
   "metadata": {},
   "outputs": [],
   "source": [
    "Encod_MTRANS = my_labelEncoder()\n",
    "Encod_MTRANS.fit(data_num,\"MTRANS\")\n",
    "dict_MTRANS = Encod_MTRANS.dict_cat\n",
    "data_num[\"MTRANS_num\"] = Encod_MTRANS.transform(data_num,\"MTRANS\")\n"
   ]
  },
  {
   "cell_type": "code",
   "execution_count": 239,
   "metadata": {},
   "outputs": [
    {
     "name": "stdout",
     "output_type": "stream",
     "text": [
      "{'Insufficient_Weight': 0, 'Normal_Weight': 1, 'Obesity_Type_I': 2, 'Obesity_Type_II': 3, 'Obesity_Type_III': 4, 'Overweight_Level_I': 5, 'Overweight_Level_II': 6}\n"
     ]
    }
   ],
   "source": [
    "Encod_y = my_labelEncoder()\n",
    "Encod_y.fit(data_num,\"NObeyesdad\")\n",
    "dict_y = Encod_y.dict_cat\n",
    "data_num[\"NObeyesdad_num\"] = Encod_y.transform(data_num,\"NObeyesdad\")\n",
    "print(dict_y)"
   ]
  },
  {
   "cell_type": "code",
   "execution_count": 240,
   "metadata": {},
   "outputs": [
    {
     "name": "stdout",
     "output_type": "stream",
     "text": [
      "<class 'pandas.core.frame.DataFrame'>\n",
      "RangeIndex: 1107 entries, 0 to 1106\n",
      "Data columns (total 22 columns):\n",
      " #   Column                          Non-Null Count  Dtype   \n",
      "---  ------                          --------------  -----   \n",
      " 0   ID                              1107 non-null   int64   \n",
      " 1   Gender                          759 non-null    float64 \n",
      " 2   Age                             798 non-null    float64 \n",
      " 3   Height                          871 non-null    float64 \n",
      " 4   Weight                          751 non-null    float64 \n",
      " 5   family_history_with_overweight  987 non-null    float64 \n",
      " 6   FAVC                            607 non-null    float64 \n",
      " 7   FCVC                            1107 non-null   float64 \n",
      " 8   NCP                             1107 non-null   float64 \n",
      " 9   CAEC                            787 non-null    category\n",
      " 10  SMOKE                           775 non-null    float64 \n",
      " 11  CH2O                            1107 non-null   float64 \n",
      " 12  SCC                             1107 non-null   float64 \n",
      " 13  FAF                             1094 non-null   float64 \n",
      " 14  TUE                             892 non-null    float64 \n",
      " 15  CALC                            1053 non-null   category\n",
      " 16  MTRANS                          921 non-null    category\n",
      " 17  NObeyesdad                      1107 non-null   category\n",
      " 18  CALC_num                        1053 non-null   Int64   \n",
      " 19  CAEC_num                        787 non-null    Int64   \n",
      " 20  MTRANS_num                      921 non-null    Int64   \n",
      " 21  NObeyesdad_num                  1107 non-null   Int64   \n",
      "dtypes: Int64(4), category(4), float64(13), int64(1)\n",
      "memory usage: 165.3 KB\n"
     ]
    }
   ],
   "source": [
    "data_num.info()"
   ]
  },
  {
   "cell_type": "code",
   "execution_count": 241,
   "metadata": {},
   "outputs": [],
   "source": [
    "dataNum_miss = data_num.copy()\n",
    "dataNum_miss.drop([\"ID\",\"CALC\",\"CAEC\",\"MTRANS\",\"NObeyesdad\"], axis=1, inplace=True)"
   ]
  },
  {
   "cell_type": "markdown",
   "metadata": {},
   "source": [
    "# **Imputing missing values with KNNImputer**"
   ]
  },
  {
   "cell_type": "code",
   "execution_count": 242,
   "metadata": {},
   "outputs": [],
   "source": [
    "knnImput = KNNImputer(n_neighbors=5)\n",
    "Data_num_noMiss = knnImput.fit_transform(dataNum_miss)\n",
    "Data_num_noMiss = pd.DataFrame(Data_num_noMiss, columns=dataNum_miss.columns)   "
   ]
  },
  {
   "cell_type": "code",
   "execution_count": 243,
   "metadata": {},
   "outputs": [
    {
     "name": "stdout",
     "output_type": "stream",
     "text": [
      "<class 'pandas.core.frame.DataFrame'>\n",
      "RangeIndex: 1107 entries, 0 to 1106\n",
      "Data columns (total 17 columns):\n",
      " #   Column                          Non-Null Count  Dtype  \n",
      "---  ------                          --------------  -----  \n",
      " 0   Gender                          1107 non-null   float64\n",
      " 1   Age                             1107 non-null   float64\n",
      " 2   Height                          1107 non-null   float64\n",
      " 3   Weight                          1107 non-null   float64\n",
      " 4   family_history_with_overweight  1107 non-null   float64\n",
      " 5   FAVC                            1107 non-null   float64\n",
      " 6   FCVC                            1107 non-null   float64\n",
      " 7   NCP                             1107 non-null   float64\n",
      " 8   SMOKE                           1107 non-null   float64\n",
      " 9   CH2O                            1107 non-null   float64\n",
      " 10  SCC                             1107 non-null   float64\n",
      " 11  FAF                             1107 non-null   float64\n",
      " 12  TUE                             1107 non-null   float64\n",
      " 13  CALC_num                        1107 non-null   float64\n",
      " 14  CAEC_num                        1107 non-null   float64\n",
      " 15  MTRANS_num                      1107 non-null   float64\n",
      " 16  NObeyesdad_num                  1107 non-null   float64\n",
      "dtypes: float64(17)\n",
      "memory usage: 147.2 KB\n"
     ]
    }
   ],
   "source": [
    "Data_num_noMiss.info()"
   ]
  },
  {
   "cell_type": "code",
   "execution_count": 244,
   "metadata": {},
   "outputs": [
    {
     "data": {
      "text/plain": [
       "<Axes: >"
      ]
     },
     "execution_count": 244,
     "metadata": {},
     "output_type": "execute_result"
    },
    {
     "data": {
      "image/png": "[encoded data removed]",
      "text/plain": [
       "<Figure size 2500x1000 with 2 Axes>"
      ]
     },
     "metadata": {},
     "output_type": "display_data"
    }
   ],
   "source": [
    "msno.matrix(train_set_df)"
   ]
  },
  {
   "cell_type": "code",
   "execution_count": 245,
   "metadata": {},
   "outputs": [
    {
     "data": {
      "application/vnd.jupyter.widget-view+json": {
       "model_id": "edbde30d28ea44f7b153a3047271e97d",
       "version_major": 2,
       "version_minor": 0
      },
      "text/plain": [
       "interactive(children=(Dropdown(description='attribute', options=('ID', 'Gender', 'Age', 'Height', 'Weight', 'f…"
      ]
     },
     "metadata": {},
     "output_type": "display_data"
    }
   ],
   "source": [
    "@widgets.interact\n",
    "def missing_vals(attribute = list(train_set_df.columns)):\n",
    "    prop = train_set_df[attribute].isna().sum()/len(train_set_df)\n",
    "    print(f\"Proportion of missing values for the column {attribute}: {prop}\")"
   ]
  },
  {
   "cell_type": "markdown",
   "metadata": {},
   "source": [
    "45% of FAVC (Frequent High Caloric Food) has no value. Furthermore, it's only a yes/no answer. I believe therefore that this column won't be informative. "
   ]
  },
  {
   "cell_type": "markdown",
   "metadata": {},
   "source": [
    "## **Exemple of imputed feature: Age**"
   ]
  },
  {
   "cell_type": "code",
   "execution_count": 246,
   "metadata": {},
   "outputs": [
    {
     "name": "stdout",
     "output_type": "stream",
     "text": [
      "<class 'pandas.core.frame.DataFrame'>\n",
      "RangeIndex: 1107 entries, 0 to 1106\n",
      "Data columns (total 18 columns):\n",
      " #   Column                          Non-Null Count  Dtype   \n",
      "---  ------                          --------------  -----   \n",
      " 0   ID                              1107 non-null   int64   \n",
      " 1   Gender                          759 non-null    category\n",
      " 2   Age                             798 non-null    float64 \n",
      " 3   Height                          871 non-null    float64 \n",
      " 4   Weight                          751 non-null    float64 \n",
      " 5   family_history_with_overweight  987 non-null    category\n",
      " 6   FAVC                            607 non-null    category\n",
      " 7   FCVC                            1107 non-null   float64 \n",
      " 8   NCP                             1107 non-null   float64 \n",
      " 9   CAEC                            787 non-null    category\n",
      " 10  SMOKE                           775 non-null    category\n",
      " 11  CH2O                            1107 non-null   float64 \n",
      " 12  SCC                             1107 non-null   category\n",
      " 13  FAF                             1094 non-null   float64 \n",
      " 14  TUE                             892 non-null    float64 \n",
      " 15  CALC                            1053 non-null   category\n",
      " 16  MTRANS                          921 non-null    category\n",
      " 17  NObeyesdad                      1107 non-null   category\n",
      "dtypes: category(9), float64(8), int64(1)\n",
      "memory usage: 89.2 KB\n"
     ]
    }
   ],
   "source": [
    "train_set_df.info()"
   ]
  },
  {
   "cell_type": "code",
   "execution_count": 247,
   "metadata": {},
   "outputs": [
    {
     "data": {
      "image/png": "[encoded data removed]",
      "text/plain": [
       "<Figure size 640x480 with 1 Axes>"
      ]
     },
     "metadata": {},
     "output_type": "display_data"
    }
   ],
   "source": [
    "sns.histplot(train_set_df[\"Age\"], bins=20, color=\"blue\")    \n",
    "sns.histplot(Data_num_noMiss[\"Age\"], bins=20, color=\"red\", alpha=0.5)\n",
    "plt.show()"
   ]
  },
  {
   "cell_type": "markdown",
   "metadata": {},
   "source": [
    "We can see with this example that the model respected the distribution pattern."
   ]
  },
  {
   "cell_type": "markdown",
   "metadata": {},
   "source": [
    "## **Reversing from numbers to categories**"
   ]
  },
  {
   "cell_type": "markdown",
   "metadata": {},
   "source": [
    "### **Multinomiales**"
   ]
  },
  {
   "cell_type": "code",
   "execution_count": 248,
   "metadata": {},
   "outputs": [
    {
     "data": {
      "text/plain": [
       "{'Automobile': 0,\n",
       " 'Bike': 1,\n",
       " 'Motorbike': 2,\n",
       " 'Public_Transportation': 3,\n",
       " 'Walking': 4}"
      ]
     },
     "execution_count": 248,
     "metadata": {},
     "output_type": "execute_result"
    }
   ],
   "source": [
    "Encod_MTRANS.dict_cat"
   ]
  },
  {
   "cell_type": "code",
   "execution_count": 249,
   "metadata": {},
   "outputs": [
    {
     "name": "stdout",
     "output_type": "stream",
     "text": [
      "<class 'pandas.core.frame.DataFrame'>\n",
      "RangeIndex: 1107 entries, 0 to 1106\n",
      "Data columns (total 17 columns):\n",
      " #   Column                          Non-Null Count  Dtype  \n",
      "---  ------                          --------------  -----  \n",
      " 0   Gender                          1107 non-null   float64\n",
      " 1   Age                             1107 non-null   float64\n",
      " 2   Height                          1107 non-null   float64\n",
      " 3   Weight                          1107 non-null   float64\n",
      " 4   family_history_with_overweight  1107 non-null   float64\n",
      " 5   FAVC                            1107 non-null   float64\n",
      " 6   FCVC                            1107 non-null   float64\n",
      " 7   NCP                             1107 non-null   float64\n",
      " 8   SMOKE                           1107 non-null   float64\n",
      " 9   CH2O                            1107 non-null   float64\n",
      " 10  SCC                             1107 non-null   float64\n",
      " 11  FAF                             1107 non-null   float64\n",
      " 12  TUE                             1107 non-null   float64\n",
      " 13  CALC_num                        1107 non-null   float64\n",
      " 14  CAEC_num                        1107 non-null   float64\n",
      " 15  MTRANS_num                      1107 non-null   float64\n",
      " 16  NObeyesdad_num                  1107 non-null   float64\n",
      "dtypes: float64(17)\n",
      "memory usage: 147.2 KB\n"
     ]
    }
   ],
   "source": [
    "X = Data_num_noMiss.copy()\n",
    "X.info()"
   ]
  },
  {
   "cell_type": "code",
   "execution_count": 250,
   "metadata": {},
   "outputs": [],
   "source": [
    "categorical_cols = [\"CALC_num\",\"CAEC_num\",\"MTRANS_num\",\"Gender\",\\\n",
    "                    \"family_history_with_overweight\",\"FAVC\",\"SMOKE\",\"SCC\", \"NObeyesdad_num\"]\n",
    "for col in categorical_cols:\n",
    "    X[col] = X[col].astype(\"int32\")"
   ]
  },
  {
   "cell_type": "code",
   "execution_count": 251,
   "metadata": {},
   "outputs": [],
   "source": [
    "for col in categorical_cols:\n",
    "    Data_num_noMiss[col] = Data_num_noMiss[col].astype(\"int32\")"
   ]
  },
  {
   "cell_type": "code",
   "execution_count": 252,
   "metadata": {},
   "outputs": [
    {
     "data": {
      "text/plain": [
       "MTRANS_num\n",
       "3    751\n",
       "0    219\n",
       "2     65\n",
       "4     47\n",
       "1     25\n",
       "Name: count, dtype: int64"
      ]
     },
     "execution_count": 252,
     "metadata": {},
     "output_type": "execute_result"
    }
   ],
   "source": [
    "Data_num_noMiss[\"MTRANS_num\"].value_counts(dropna=False)"
   ]
  },
  {
   "cell_type": "code",
   "execution_count": 253,
   "metadata": {},
   "outputs": [],
   "source": [
    "Data_num_noMiss[\"CALC\"] = Encod_CALC.reverse_transform(Data_num_noMiss,\"CALC_num\")\n",
    "Data_num_noMiss[\"CAEC\"] = Encod_CAEC.reverse_transform(Data_num_noMiss,\"CAEC_num\")\n",
    "Data_num_noMiss[\"MTRANS\"] = Encod_MTRANS.reverse_transform(Data_num_noMiss,\"MTRANS_num\")\n",
    "Data_num_noMiss[\"NObeyesdad\"] = Encod_y.reverse_transform(Data_num_noMiss,\"NObeyesdad_num\")"
   ]
  },
  {
   "cell_type": "code",
   "execution_count": 254,
   "metadata": {},
   "outputs": [],
   "source": [
    "Data_num_noMiss.drop([\"CALC_num\",\"CAEC_num\",\"MTRANS_num\", \"NObeyesdad_num\"], axis=1, inplace=True)"
   ]
  },
  {
   "cell_type": "code",
   "execution_count": 255,
   "metadata": {},
   "outputs": [
    {
     "name": "stdout",
     "output_type": "stream",
     "text": [
      "<class 'pandas.core.frame.DataFrame'>\n",
      "RangeIndex: 1107 entries, 0 to 1106\n",
      "Data columns (total 17 columns):\n",
      " #   Column                          Non-Null Count  Dtype  \n",
      "---  ------                          --------------  -----  \n",
      " 0   Gender                          1107 non-null   int32  \n",
      " 1   Age                             1107 non-null   float64\n",
      " 2   Height                          1107 non-null   float64\n",
      " 3   Weight                          1107 non-null   float64\n",
      " 4   family_history_with_overweight  1107 non-null   int32  \n",
      " 5   FAVC                            1107 non-null   int32  \n",
      " 6   FCVC                            1107 non-null   float64\n",
      " 7   NCP                             1107 non-null   float64\n",
      " 8   SMOKE                           1107 non-null   int32  \n",
      " 9   CH2O                            1107 non-null   float64\n",
      " 10  SCC                             1107 non-null   int32  \n",
      " 11  FAF                             1107 non-null   float64\n",
      " 12  TUE                             1107 non-null   float64\n",
      " 13  CALC                            1107 non-null   object \n",
      " 14  CAEC                            1107 non-null   object \n",
      " 15  MTRANS                          1107 non-null   object \n",
      " 16  NObeyesdad                      1107 non-null   object \n",
      "dtypes: float64(8), int32(5), object(4)\n",
      "memory usage: 125.5+ KB\n"
     ]
    }
   ],
   "source": [
    "Data_num_noMiss.info()"
   ]
  },
  {
   "cell_type": "markdown",
   "metadata": {},
   "source": [
    "## **Binomiale features**"
   ]
  },
  {
   "cell_type": "code",
   "execution_count": 256,
   "metadata": {},
   "outputs": [
    {
     "data": {
      "application/vnd.jupyter.widget-view+json": {
       "model_id": "a938d47dc02048b096a06ba047b1743b",
       "version_major": 2,
       "version_minor": 0
      },
      "text/plain": [
       "interactive(children=(Dropdown(description='attribute', options=('Gender', 'family_history_with_overweight', '…"
      ]
     },
     "metadata": {},
     "output_type": "display_data"
    }
   ],
   "source": [
    "@widgets.interact\n",
    "def binom_multinom(attribute=list(train_set_df.select_dtypes(\"category\").columns)):\n",
    "    n_cat = len(train_set_df[attribute].cat.categories)\n",
    "    categories = train_set_df[attribute].cat.categories\n",
    "    print(f\"the feature {attribute} has {n_cat} categories. \\nThey are: \\n{categories}\")"
   ]
  },
  {
   "cell_type": "code",
   "execution_count": 257,
   "metadata": {},
   "outputs": [
    {
     "name": "stdout",
     "output_type": "stream",
     "text": [
      "[{'Female': 0, 'Male': 1}, {'no': 0, 'yes': 1}, {'no': 0, 'yes': 1}, {'no': 0, 'yes': 1}, {'no': 0, 'yes': 1}]\n",
      "['Gender', 'family_history_with_overweight', 'FAVC', 'SMOKE', 'SCC']\n"
     ]
    }
   ],
   "source": [
    "print(list_binom_bool_dict)\n",
    "print(list_binom_cols)"
   ]
  },
  {
   "cell_type": "code",
   "execution_count": 258,
   "metadata": {},
   "outputs": [],
   "source": [
    "list_bool_binom_dict = []\n",
    "for dicti in list_binom_bool_dict:\n",
    "    dicti_bool = {v:k for k,v in dicti.items()}\n",
    "    list_bool_binom_dict.append(dicti_bool)\n"
   ]
  },
  {
   "cell_type": "code",
   "execution_count": 259,
   "metadata": {},
   "outputs": [],
   "source": [
    "for col,dicti in zip(list_binom_cols,list_bool_binom_dict):\n",
    "    Data_num_noMiss[col] = Data_num_noMiss[col].map(dicti)"
   ]
  },
  {
   "cell_type": "code",
   "execution_count": 260,
   "metadata": {},
   "outputs": [
    {
     "name": "stdout",
     "output_type": "stream",
     "text": [
      "<class 'pandas.core.frame.DataFrame'>\n",
      "RangeIndex: 1107 entries, 0 to 1106\n",
      "Data columns (total 17 columns):\n",
      " #   Column                          Non-Null Count  Dtype  \n",
      "---  ------                          --------------  -----  \n",
      " 0   Gender                          1107 non-null   object \n",
      " 1   Age                             1107 non-null   float64\n",
      " 2   Height                          1107 non-null   float64\n",
      " 3   Weight                          1107 non-null   float64\n",
      " 4   family_history_with_overweight  1107 non-null   object \n",
      " 5   FAVC                            1107 non-null   object \n",
      " 6   FCVC                            1107 non-null   float64\n",
      " 7   NCP                             1107 non-null   float64\n",
      " 8   SMOKE                           1107 non-null   object \n",
      " 9   CH2O                            1107 non-null   float64\n",
      " 10  SCC                             1107 non-null   object \n",
      " 11  FAF                             1107 non-null   float64\n",
      " 12  TUE                             1107 non-null   float64\n",
      " 13  CALC                            1107 non-null   object \n",
      " 14  CAEC                            1107 non-null   object \n",
      " 15  MTRANS                          1107 non-null   object \n",
      " 16  NObeyesdad                      1107 non-null   object \n",
      "dtypes: float64(8), object(9)\n",
      "memory usage: 147.2+ KB\n",
      "None\n"
     ]
    }
   ],
   "source": [
    "print(Data_num_noMiss.info())"
   ]
  },
  {
   "cell_type": "code",
   "execution_count": 261,
   "metadata": {},
   "outputs": [
    {
     "name": "stdout",
     "output_type": "stream",
     "text": [
      "Gender                                     Male\n",
      "Age                                   18.256218\n",
      "Height                                     1.62\n",
      "Weight                                     53.0\n",
      "family_history_with_overweight               no\n",
      "FAVC                                        yes\n",
      "FCVC                                        2.0\n",
      "NCP                                         3.0\n",
      "SMOKE                                        no\n",
      "CH2O                                        2.0\n",
      "SCC                                          no\n",
      "FAF                                         0.0\n",
      "TUE                                    1.297674\n",
      "CALC                                  Sometimes\n",
      "CAEC                                  Sometimes\n",
      "MTRANS                               Automobile\n",
      "NObeyesdad                        Normal_Weight\n",
      "Name: 5, dtype: object\n",
      "ID                                            6\n",
      "Gender                                     Male\n",
      "Age                                         NaN\n",
      "Height                                     1.62\n",
      "Weight                                     53.0\n",
      "family_history_with_overweight               no\n",
      "FAVC                                        yes\n",
      "FCVC                                        2.0\n",
      "NCP                                         3.0\n",
      "CAEC                                  Sometimes\n",
      "SMOKE                                        no\n",
      "CH2O                                        2.0\n",
      "SCC                                          no\n",
      "FAF                                         0.0\n",
      "TUE                                         NaN\n",
      "CALC                                  Sometimes\n",
      "MTRANS                               Automobile\n",
      "NObeyesdad                        Normal_Weight\n",
      "Name: 5, dtype: object\n"
     ]
    }
   ],
   "source": [
    "print(Data_num_noMiss.iloc[5])\n",
    "print(train_set_df.iloc[5])"
   ]
  },
  {
   "cell_type": "markdown",
   "metadata": {},
   "source": [
    "# **EDA**"
   ]
  },
  {
   "cell_type": "markdown",
   "metadata": {},
   "source": [
    "## **1) From Demographic, dietary and lifestyle, which one is more prevalent to determine the obesity?**"
   ]
  },
  {
   "cell_type": "markdown",
   "metadata": {},
   "source": [
    "Features:  \n",
    "The features can be divided into 3 groups.  \n",
    "\n",
    "- **Demographic**: Gender, Age, Height, Weight, family_history_with_overweight;  \n",
    "\n",
    "- **Dietary**: FAVC (Frequent High Calorie Food), FCVC (Vegetable Consumption Frequency), NCP (Number of Daily Meals), CAEC (Consumption of Food Between Meals);  \n",
    "    \n",
    "- **Lifestyle**: SMOKE (Smoking Habit), CH2O (Daily Water Intake), SCC (Calorie Monitoring), FAF (Physical Activity Frequency), TUE (Technological Device Usage Time), CALC (Alcohol Consumption Frequency), MTRANS (Main Mode of Transportation).  \n",
    " \n",
    "One would think the Dietary would be more prevalent, however, not only this category has at the begining the least number of features (4), but I am removing one of them FAVC since it has too many null values (45%) to be interpretable and the imputed values trusted.  \n",
    "Hence, would the 3 remaining features be the most influencial?  \n",
    "\n",
    "Note that among the Demographic subgroup is the feature \"Weight\". Together with \"Height\", they are sufficient to determine the weight class. Hence, they are important to keep to impute the missing values.  \n",
    "However, for the EDA, \"Weight\" has a too heavy influence (even without the \"Height\"). Hence, I am removing it in addition to \"FAVC\". "
   ]
  },
  {
   "cell_type": "code",
   "execution_count": 262,
   "metadata": {},
   "outputs": [],
   "source": [
    "new_obesity = Data_num_noMiss.copy()\n",
    "new_obesity.drop([\"FAVC\",\"Weight\"], axis=1, inplace=True)"
   ]
  },
  {
   "cell_type": "code",
   "execution_count": 263,
   "metadata": {},
   "outputs": [
    {
     "name": "stdout",
     "output_type": "stream",
     "text": [
      "<class 'pandas.core.frame.DataFrame'>\n",
      "RangeIndex: 1107 entries, 0 to 1106\n",
      "Data columns (total 15 columns):\n",
      " #   Column                          Non-Null Count  Dtype  \n",
      "---  ------                          --------------  -----  \n",
      " 0   Gender                          1107 non-null   object \n",
      " 1   Age                             1107 non-null   float64\n",
      " 2   Height                          1107 non-null   float64\n",
      " 3   family_history_with_overweight  1107 non-null   object \n",
      " 4   FCVC                            1107 non-null   float64\n",
      " 5   NCP                             1107 non-null   float64\n",
      " 6   SMOKE                           1107 non-null   object \n",
      " 7   CH2O                            1107 non-null   float64\n",
      " 8   SCC                             1107 non-null   object \n",
      " 9   FAF                             1107 non-null   float64\n",
      " 10  TUE                             1107 non-null   float64\n",
      " 11  CALC                            1107 non-null   object \n",
      " 12  CAEC                            1107 non-null   object \n",
      " 13  MTRANS                          1107 non-null   object \n",
      " 14  NObeyesdad                      1107 non-null   object \n",
      "dtypes: float64(7), object(8)\n",
      "memory usage: 129.9+ KB\n"
     ]
    }
   ],
   "source": [
    "new_obesity.info()"
   ]
  },
  {
   "cell_type": "code",
   "execution_count": 264,
   "metadata": {},
   "outputs": [],
   "source": [
    "for col in new_obesity.columns:\n",
    "    if new_obesity[col].dtype == \"O\":\n",
    "        new_obesity[col] = new_obesity[col].astype(\"category\")"
   ]
  },
  {
   "cell_type": "markdown",
   "metadata": {},
   "source": [
    "Since here the goal is not to build a predictive model, but to class the features by importance, I am going to use the entire dataset and apply a simple LogisticRegression model for multiclasses. "
   ]
  },
  {
   "cell_type": "code",
   "execution_count": 265,
   "metadata": {},
   "outputs": [
    {
     "name": "stdout",
     "output_type": "stream",
     "text": [
      "NObeyesdad         \n",
      "Overweight_Level_I     0.261066\n",
      "Normal_Weight          0.259259\n",
      "Insufficient_Weight    0.245709\n",
      "Overweight_Level_II    0.171635\n",
      "Obesity_Type_I         0.041554\n",
      "Obesity_Type_III       0.010840\n",
      "Obesity_Type_II        0.009937\n",
      "Name: proportion, dtype: float64\n"
     ]
    },
    {
     "name": "stderr",
     "output_type": "stream",
     "text": [
      "C:\\Users\\Angelique\\AppData\\Local\\Temp\\ipykernel_14120\\66865521.py:3: SettingWithCopyWarning: \n",
      "A value is trying to be set on a copy of a slice from a DataFrame.\n",
      "Try using .loc[row_indexer,col_indexer] = value instead\n",
      "\n",
      "See the caveats in the documentation: https://pandas.pydata.org/pandas-docs/stable/user_guide/indexing.html#returning-a-view-versus-a-copy\n",
      "  y[\"NObeyesdad\"] = y[\"NObeyesdad\"].cat.reorder_categories(new_categories=order_classes, ordered=True)\n"
     ]
    },
    {
     "data": {
      "text/plain": [
       "Index(['Insufficient_Weight', 'Normal_Weight', 'Overweight_Level_I',\n",
       "       'Overweight_Level_II', 'Obesity_Type_I', 'Obesity_Type_II',\n",
       "       'Obesity_Type_III'],\n",
       "      dtype='object')"
      ]
     },
     "execution_count": 265,
     "metadata": {},
     "output_type": "execute_result"
    }
   ],
   "source": [
    "print(y.value_counts(normalize=True))\n",
    "order_classes = [\"Insufficient_Weight\",\"Normal_Weight\",\"Overweight_Level_I\",\"Overweight_Level_II\",\"Obesity_Type_I\",\"Obesity_Type_II\",\"Obesity_Type_III\"]\n",
    "y[\"NObeyesdad\"] = y[\"NObeyesdad\"].cat.reorder_categories(new_categories=order_classes, ordered=True)\n",
    "new_obesity[\"NObeyesdad\"] = new_obesity[\"NObeyesdad\"].cat.reorder_categories(new_categories=order_classes, ordered=True)\n",
    "\n",
    "classes = y[\"NObeyesdad\"].cat.categories\n",
    "classes"
   ]
  },
  {
   "cell_type": "code",
   "execution_count": 266,
   "metadata": {},
   "outputs": [
    {
     "data": {
      "text/plain": [
       "(1107, 1)"
      ]
     },
     "execution_count": 266,
     "metadata": {},
     "output_type": "execute_result"
    }
   ],
   "source": [
    "y.shape"
   ]
  },
  {
   "cell_type": "code",
   "execution_count": 267,
   "metadata": {},
   "outputs": [
    {
     "data": {
      "text/plain": [
       "(1107,)"
      ]
     },
     "execution_count": 267,
     "metadata": {},
     "output_type": "execute_result"
    }
   ],
   "source": [
    "y_resh = y.values.reshape(-1)\n",
    "y_resh.shape"
   ]
  },
  {
   "cell_type": "code",
   "execution_count": 268,
   "metadata": {},
   "outputs": [
    {
     "name": "stdout",
     "output_type": "stream",
     "text": [
      "<class 'pandas.core.frame.DataFrame'>\n",
      "RangeIndex: 1107 entries, 0 to 1106\n",
      "Data columns (total 17 columns):\n",
      " #   Column                          Non-Null Count  Dtype  \n",
      "---  ------                          --------------  -----  \n",
      " 0   Gender                          1107 non-null   int32  \n",
      " 1   Age                             1107 non-null   float64\n",
      " 2   Height                          1107 non-null   float64\n",
      " 3   Weight                          1107 non-null   float64\n",
      " 4   family_history_with_overweight  1107 non-null   int32  \n",
      " 5   FAVC                            1107 non-null   int32  \n",
      " 6   FCVC                            1107 non-null   float64\n",
      " 7   NCP                             1107 non-null   float64\n",
      " 8   SMOKE                           1107 non-null   int32  \n",
      " 9   CH2O                            1107 non-null   float64\n",
      " 10  SCC                             1107 non-null   int32  \n",
      " 11  FAF                             1107 non-null   float64\n",
      " 12  TUE                             1107 non-null   float64\n",
      " 13  CALC_num                        1107 non-null   int32  \n",
      " 14  CAEC_num                        1107 non-null   int32  \n",
      " 15  MTRANS_num                      1107 non-null   int32  \n",
      " 16  NObeyesdad_num                  1107 non-null   int32  \n",
      "dtypes: float64(8), int32(9)\n",
      "memory usage: 108.2 KB\n"
     ]
    }
   ],
   "source": [
    "X.info()"
   ]
  },
  {
   "cell_type": "code",
   "execution_count": 269,
   "metadata": {},
   "outputs": [
    {
     "data": {
      "text/html": [
       "<style>#sk-container-id-3 {\n",
       "  /* Definition of color scheme common for light and dark mode */\n",
       "  --sklearn-color-text: black;\n",
       "  --sklearn-color-line: gray;\n",
       "  /* Definition of color scheme for unfitted estimators */\n",
       "  --sklearn-color-unfitted-level-0: #fff5e6;\n",
       "  --sklearn-color-unfitted-level-1: #f6e4d2;\n",
       "  --sklearn-color-unfitted-level-2: #ffe0b3;\n",
       "  --sklearn-color-unfitted-level-3: chocolate;\n",
       "  /* Definition of color scheme for fitted estimators */\n",
       "  --sklearn-color-fitted-level-0: #f0f8ff;\n",
       "  --sklearn-color-fitted-level-1: #d4ebff;\n",
       "  --sklearn-color-fitted-level-2: #b3dbfd;\n",
       "  --sklearn-color-fitted-level-3: cornflowerblue;\n",
       "\n",
       "  /* Specific color for light theme */\n",
       "  --sklearn-color-text-on-default-background: var(--sg-text-color, var(--theme-code-foreground, var(--jp-content-font-color1, black)));\n",
       "  --sklearn-color-background: var(--sg-background-color, var(--theme-background, var(--jp-layout-color0, white)));\n",
       "  --sklearn-color-border-box: var(--sg-text-color, var(--theme-code-foreground, var(--jp-content-font-color1, black)));\n",
       "  --sklearn-color-icon: #696969;\n",
       "\n",
       "  @media (prefers-color-scheme: dark) {\n",
       "    /* Redefinition of color scheme for dark theme */\n",
       "    --sklearn-color-text-on-default-background: var(--sg-text-color, var(--theme-code-foreground, var(--jp-content-font-color1, white)));\n",
       "    --sklearn-color-background: var(--sg-background-color, var(--theme-background, var(--jp-layout-color0, #111)));\n",
       "    --sklearn-color-border-box: var(--sg-text-color, var(--theme-code-foreground, var(--jp-content-font-color1, white)));\n",
       "    --sklearn-color-icon: #878787;\n",
       "  }\n",
       "}\n",
       "\n",
       "#sk-container-id-3 {\n",
       "  color: var(--sklearn-color-text);\n",
       "}\n",
       "\n",
       "#sk-container-id-3 pre {\n",
       "  padding: 0;\n",
       "}\n",
       "\n",
       "#sk-container-id-3 input.sk-hidden--visually {\n",
       "  border: 0;\n",
       "  clip: rect(1px 1px 1px 1px);\n",
       "  clip: rect(1px, 1px, 1px, 1px);\n",
       "  height: 1px;\n",
       "  margin: -1px;\n",
       "  overflow: hidden;\n",
       "  padding: 0;\n",
       "  position: absolute;\n",
       "  width: 1px;\n",
       "}\n",
       "\n",
       "#sk-container-id-3 div.sk-dashed-wrapped {\n",
       "  border: 1px dashed var(--sklearn-color-line);\n",
       "  margin: 0 0.4em 0.5em 0.4em;\n",
       "  box-sizing: border-box;\n",
       "  padding-bottom: 0.4em;\n",
       "  background-color: var(--sklearn-color-background);\n",
       "}\n",
       "\n",
       "#sk-container-id-3 div.sk-container {\n",
       "  /* jupyter's `normalize.less` sets `[hidden] { display: none; }`\n",
       "     but bootstrap.min.css set `[hidden] { display: none !important; }`\n",
       "     so we also need the `!important` here to be able to override the\n",
       "     default hidden behavior on the sphinx rendered scikit-learn.org.\n",
       "     See: https://github.com/scikit-learn/scikit-learn/issues/21755 */\n",
       "  display: inline-block !important;\n",
       "  position: relative;\n",
       "}\n",
       "\n",
       "#sk-container-id-3 div.sk-text-repr-fallback {\n",
       "  display: none;\n",
       "}\n",
       "\n",
       "div.sk-parallel-item,\n",
       "div.sk-serial,\n",
       "div.sk-item {\n",
       "  /* draw centered vertical line to link estimators */\n",
       "  background-image: linear-gradient(var(--sklearn-color-text-on-default-background), var(--sklearn-color-text-on-default-background));\n",
       "  background-size: 2px 100%;\n",
       "  background-repeat: no-repeat;\n",
       "  background-position: center center;\n",
       "}\n",
       "\n",
       "/* Parallel-specific style estimator block */\n",
       "\n",
       "#sk-container-id-3 div.sk-parallel-item::after {\n",
       "  content: \"\";\n",
       "  width: 100%;\n",
       "  border-bottom: 2px solid var(--sklearn-color-text-on-default-background);\n",
       "  flex-grow: 1;\n",
       "}\n",
       "\n",
       "#sk-container-id-3 div.sk-parallel {\n",
       "  display: flex;\n",
       "  align-items: stretch;\n",
       "  justify-content: center;\n",
       "  background-color: var(--sklearn-color-background);\n",
       "  position: relative;\n",
       "}\n",
       "\n",
       "#sk-container-id-3 div.sk-parallel-item {\n",
       "  display: flex;\n",
       "  flex-direction: column;\n",
       "}\n",
       "\n",
       "#sk-container-id-3 div.sk-parallel-item:first-child::after {\n",
       "  align-self: flex-end;\n",
       "  width: 50%;\n",
       "}\n",
       "\n",
       "#sk-container-id-3 div.sk-parallel-item:last-child::after {\n",
       "  align-self: flex-start;\n",
       "  width: 50%;\n",
       "}\n",
       "\n",
       "#sk-container-id-3 div.sk-parallel-item:only-child::after {\n",
       "  width: 0;\n",
       "}\n",
       "\n",
       "/* Serial-specific style estimator block */\n",
       "\n",
       "#sk-container-id-3 div.sk-serial {\n",
       "  display: flex;\n",
       "  flex-direction: column;\n",
       "  align-items: center;\n",
       "  background-color: var(--sklearn-color-background);\n",
       "  padding-right: 1em;\n",
       "  padding-left: 1em;\n",
       "}\n",
       "\n",
       "\n",
       "/* Toggleable style: style used for estimator/Pipeline/ColumnTransformer box that is\n",
       "clickable and can be expanded/collapsed.\n",
       "- Pipeline and ColumnTransformer use this feature and define the default style\n",
       "- Estimators will overwrite some part of the style using the `sk-estimator` class\n",
       "*/\n",
       "\n",
       "/* Pipeline and ColumnTransformer style (default) */\n",
       "\n",
       "#sk-container-id-3 div.sk-toggleable {\n",
       "  /* Default theme specific background. It is overwritten whether we have a\n",
       "  specific estimator or a Pipeline/ColumnTransformer */\n",
       "  background-color: var(--sklearn-color-background);\n",
       "}\n",
       "\n",
       "/* Toggleable label */\n",
       "#sk-container-id-3 label.sk-toggleable__label {\n",
       "  cursor: pointer;\n",
       "  display: block;\n",
       "  width: 100%;\n",
       "  margin-bottom: 0;\n",
       "  padding: 0.5em;\n",
       "  box-sizing: border-box;\n",
       "  text-align: center;\n",
       "}\n",
       "\n",
       "#sk-container-id-3 label.sk-toggleable__label-arrow:before {\n",
       "  /* Arrow on the left of the label */\n",
       "  content: \"▸\";\n",
       "  float: left;\n",
       "  margin-right: 0.25em;\n",
       "  color: var(--sklearn-color-icon);\n",
       "}\n",
       "\n",
       "#sk-container-id-3 label.sk-toggleable__label-arrow:hover:before {\n",
       "  color: var(--sklearn-color-text);\n",
       "}\n",
       "\n",
       "/* Toggleable content - dropdown */\n",
       "\n",
       "#sk-container-id-3 div.sk-toggleable__content {\n",
       "  max-height: 0;\n",
       "  max-width: 0;\n",
       "  overflow: hidden;\n",
       "  text-align: left;\n",
       "  /* unfitted */\n",
       "  background-color: var(--sklearn-color-unfitted-level-0);\n",
       "}\n",
       "\n",
       "#sk-container-id-3 div.sk-toggleable__content.fitted {\n",
       "  /* fitted */\n",
       "  background-color: var(--sklearn-color-fitted-level-0);\n",
       "}\n",
       "\n",
       "#sk-container-id-3 div.sk-toggleable__content pre {\n",
       "  margin: 0.2em;\n",
       "  border-radius: 0.25em;\n",
       "  color: var(--sklearn-color-text);\n",
       "  /* unfitted */\n",
       "  background-color: var(--sklearn-color-unfitted-level-0);\n",
       "}\n",
       "\n",
       "#sk-container-id-3 div.sk-toggleable__content.fitted pre {\n",
       "  /* unfitted */\n",
       "  background-color: var(--sklearn-color-fitted-level-0);\n",
       "}\n",
       "\n",
       "#sk-container-id-3 input.sk-toggleable__control:checked~div.sk-toggleable__content {\n",
       "  /* Expand drop-down */\n",
       "  max-height: 200px;\n",
       "  max-width: 100%;\n",
       "  overflow: auto;\n",
       "}\n",
       "\n",
       "#sk-container-id-3 input.sk-toggleable__control:checked~label.sk-toggleable__label-arrow:before {\n",
       "  content: \"▾\";\n",
       "}\n",
       "\n",
       "/* Pipeline/ColumnTransformer-specific style */\n",
       "\n",
       "#sk-container-id-3 div.sk-label input.sk-toggleable__control:checked~label.sk-toggleable__label {\n",
       "  color: var(--sklearn-color-text);\n",
       "  background-color: var(--sklearn-color-unfitted-level-2);\n",
       "}\n",
       "\n",
       "#sk-container-id-3 div.sk-label.fitted input.sk-toggleable__control:checked~label.sk-toggleable__label {\n",
       "  background-color: var(--sklearn-color-fitted-level-2);\n",
       "}\n",
       "\n",
       "/* Estimator-specific style */\n",
       "\n",
       "/* Colorize estimator box */\n",
       "#sk-container-id-3 div.sk-estimator input.sk-toggleable__control:checked~label.sk-toggleable__label {\n",
       "  /* unfitted */\n",
       "  background-color: var(--sklearn-color-unfitted-level-2);\n",
       "}\n",
       "\n",
       "#sk-container-id-3 div.sk-estimator.fitted input.sk-toggleable__control:checked~label.sk-toggleable__label {\n",
       "  /* fitted */\n",
       "  background-color: var(--sklearn-color-fitted-level-2);\n",
       "}\n",
       "\n",
       "#sk-container-id-3 div.sk-label label.sk-toggleable__label,\n",
       "#sk-container-id-3 div.sk-label label {\n",
       "  /* The background is the default theme color */\n",
       "  color: var(--sklearn-color-text-on-default-background);\n",
       "}\n",
       "\n",
       "/* On hover, darken the color of the background */\n",
       "#sk-container-id-3 div.sk-label:hover label.sk-toggleable__label {\n",
       "  color: var(--sklearn-color-text);\n",
       "  background-color: var(--sklearn-color-unfitted-level-2);\n",
       "}\n",
       "\n",
       "/* Label box, darken color on hover, fitted */\n",
       "#sk-container-id-3 div.sk-label.fitted:hover label.sk-toggleable__label.fitted {\n",
       "  color: var(--sklearn-color-text);\n",
       "  background-color: var(--sklearn-color-fitted-level-2);\n",
       "}\n",
       "\n",
       "/* Estimator label */\n",
       "\n",
       "#sk-container-id-3 div.sk-label label {\n",
       "  font-family: monospace;\n",
       "  font-weight: bold;\n",
       "  display: inline-block;\n",
       "  line-height: 1.2em;\n",
       "}\n",
       "\n",
       "#sk-container-id-3 div.sk-label-container {\n",
       "  text-align: center;\n",
       "}\n",
       "\n",
       "/* Estimator-specific */\n",
       "#sk-container-id-3 div.sk-estimator {\n",
       "  font-family: monospace;\n",
       "  border: 1px dotted var(--sklearn-color-border-box);\n",
       "  border-radius: 0.25em;\n",
       "  box-sizing: border-box;\n",
       "  margin-bottom: 0.5em;\n",
       "  /* unfitted */\n",
       "  background-color: var(--sklearn-color-unfitted-level-0);\n",
       "}\n",
       "\n",
       "#sk-container-id-3 div.sk-estimator.fitted {\n",
       "  /* fitted */\n",
       "  background-color: var(--sklearn-color-fitted-level-0);\n",
       "}\n",
       "\n",
       "/* on hover */\n",
       "#sk-container-id-3 div.sk-estimator:hover {\n",
       "  /* unfitted */\n",
       "  background-color: var(--sklearn-color-unfitted-level-2);\n",
       "}\n",
       "\n",
       "#sk-container-id-3 div.sk-estimator.fitted:hover {\n",
       "  /* fitted */\n",
       "  background-color: var(--sklearn-color-fitted-level-2);\n",
       "}\n",
       "\n",
       "/* Specification for estimator info (e.g. \"i\" and \"?\") */\n",
       "\n",
       "/* Common style for \"i\" and \"?\" */\n",
       "\n",
       ".sk-estimator-doc-link,\n",
       "a:link.sk-estimator-doc-link,\n",
       "a:visited.sk-estimator-doc-link {\n",
       "  float: right;\n",
       "  font-size: smaller;\n",
       "  line-height: 1em;\n",
       "  font-family: monospace;\n",
       "  background-color: var(--sklearn-color-background);\n",
       "  border-radius: 1em;\n",
       "  height: 1em;\n",
       "  width: 1em;\n",
       "  text-decoration: none !important;\n",
       "  margin-left: 1ex;\n",
       "  /* unfitted */\n",
       "  border: var(--sklearn-color-unfitted-level-1) 1pt solid;\n",
       "  color: var(--sklearn-color-unfitted-level-1);\n",
       "}\n",
       "\n",
       ".sk-estimator-doc-link.fitted,\n",
       "a:link.sk-estimator-doc-link.fitted,\n",
       "a:visited.sk-estimator-doc-link.fitted {\n",
       "  /* fitted */\n",
       "  border: var(--sklearn-color-fitted-level-1) 1pt solid;\n",
       "  color: var(--sklearn-color-fitted-level-1);\n",
       "}\n",
       "\n",
       "/* On hover */\n",
       "div.sk-estimator:hover .sk-estimator-doc-link:hover,\n",
       ".sk-estimator-doc-link:hover,\n",
       "div.sk-label-container:hover .sk-estimator-doc-link:hover,\n",
       ".sk-estimator-doc-link:hover {\n",
       "  /* unfitted */\n",
       "  background-color: var(--sklearn-color-unfitted-level-3);\n",
       "  color: var(--sklearn-color-background);\n",
       "  text-decoration: none;\n",
       "}\n",
       "\n",
       "div.sk-estimator.fitted:hover .sk-estimator-doc-link.fitted:hover,\n",
       ".sk-estimator-doc-link.fitted:hover,\n",
       "div.sk-label-container:hover .sk-estimator-doc-link.fitted:hover,\n",
       ".sk-estimator-doc-link.fitted:hover {\n",
       "  /* fitted */\n",
       "  background-color: var(--sklearn-color-fitted-level-3);\n",
       "  color: var(--sklearn-color-background);\n",
       "  text-decoration: none;\n",
       "}\n",
       "\n",
       "/* Span, style for the box shown on hovering the info icon */\n",
       ".sk-estimator-doc-link span {\n",
       "  display: none;\n",
       "  z-index: 9999;\n",
       "  position: relative;\n",
       "  font-weight: normal;\n",
       "  right: .2ex;\n",
       "  padding: .5ex;\n",
       "  margin: .5ex;\n",
       "  width: min-content;\n",
       "  min-width: 20ex;\n",
       "  max-width: 50ex;\n",
       "  color: var(--sklearn-color-text);\n",
       "  box-shadow: 2pt 2pt 4pt #999;\n",
       "  /* unfitted */\n",
       "  background: var(--sklearn-color-unfitted-level-0);\n",
       "  border: .5pt solid var(--sklearn-color-unfitted-level-3);\n",
       "}\n",
       "\n",
       ".sk-estimator-doc-link.fitted span {\n",
       "  /* fitted */\n",
       "  background: var(--sklearn-color-fitted-level-0);\n",
       "  border: var(--sklearn-color-fitted-level-3);\n",
       "}\n",
       "\n",
       ".sk-estimator-doc-link:hover span {\n",
       "  display: block;\n",
       "}\n",
       "\n",
       "/* \"?\"-specific style due to the `<a>` HTML tag */\n",
       "\n",
       "#sk-container-id-3 a.estimator_doc_link {\n",
       "  float: right;\n",
       "  font-size: 1rem;\n",
       "  line-height: 1em;\n",
       "  font-family: monospace;\n",
       "  background-color: var(--sklearn-color-background);\n",
       "  border-radius: 1rem;\n",
       "  height: 1rem;\n",
       "  width: 1rem;\n",
       "  text-decoration: none;\n",
       "  /* unfitted */\n",
       "  color: var(--sklearn-color-unfitted-level-1);\n",
       "  border: var(--sklearn-color-unfitted-level-1) 1pt solid;\n",
       "}\n",
       "\n",
       "#sk-container-id-3 a.estimator_doc_link.fitted {\n",
       "  /* fitted */\n",
       "  border: var(--sklearn-color-fitted-level-1) 1pt solid;\n",
       "  color: var(--sklearn-color-fitted-level-1);\n",
       "}\n",
       "\n",
       "/* On hover */\n",
       "#sk-container-id-3 a.estimator_doc_link:hover {\n",
       "  /* unfitted */\n",
       "  background-color: var(--sklearn-color-unfitted-level-3);\n",
       "  color: var(--sklearn-color-background);\n",
       "  text-decoration: none;\n",
       "}\n",
       "\n",
       "#sk-container-id-3 a.estimator_doc_link.fitted:hover {\n",
       "  /* fitted */\n",
       "  background-color: var(--sklearn-color-fitted-level-3);\n",
       "}\n",
       "</style><div id=\"sk-container-id-3\" class=\"sk-top-container\"><div class=\"sk-text-repr-fallback\"><pre>LogisticRegression(max_iter=1000)</pre><b>In a Jupyter environment, please rerun this cell to show the HTML representation or trust the notebook. <br />On GitHub, the HTML representation is unable to render, please try loading this page with nbviewer.org.</b></div><div class=\"sk-container\" hidden><div class=\"sk-item\"><div class=\"sk-estimator fitted sk-toggleable\"><input class=\"sk-toggleable__control sk-hidden--visually\" id=\"sk-estimator-id-3\" type=\"checkbox\" checked><label for=\"sk-estimator-id-3\" class=\"sk-toggleable__label fitted sk-toggleable__label-arrow fitted\">&nbsp;&nbsp;LogisticRegression<a class=\"sk-estimator-doc-link fitted\" rel=\"noreferrer\" target=\"_blank\" href=\"https://scikit-learn.org/1.5/modules/generated/sklearn.linear_model.LogisticRegression.html\">?<span>Documentation for LogisticRegression</span></a><span class=\"sk-estimator-doc-link fitted\">i<span>Fitted</span></span></label><div class=\"sk-toggleable__content fitted\"><pre>LogisticRegression(max_iter=1000)</pre></div> </div></div></div></div>"
      ],
      "text/plain": [
       "LogisticRegression(max_iter=1000)"
      ]
     },
     "execution_count": 269,
     "metadata": {},
     "output_type": "execute_result"
    }
   ],
   "source": [
    "X_mod = X.drop([\"FAVC\",\"NObeyesdad_num\",\"Weight\"], axis=1)\n",
    "logReg = LogisticRegression(max_iter=1000)\n",
    "stScale = StandardScaler()\n",
    "X_scale = stScale.fit_transform(X_mod)\n",
    "logReg.fit(X_scale,y_resh)"
   ]
  },
  {
   "cell_type": "code",
   "execution_count": 270,
   "metadata": {},
   "outputs": [
    {
     "data": {
      "text/plain": [
       "(7, 14)"
      ]
     },
     "execution_count": 270,
     "metadata": {},
     "output_type": "execute_result"
    }
   ],
   "source": [
    "feature_coefs = logReg.coef_\n",
    "feature_coefs.shape"
   ]
  },
  {
   "cell_type": "code",
   "execution_count": 271,
   "metadata": {},
   "outputs": [],
   "source": [
    "df_coefs = pd.DataFrame(feature_coefs, columns=X_mod.columns, index=classes)\n"
   ]
  },
  {
   "cell_type": "code",
   "execution_count": 272,
   "metadata": {},
   "outputs": [],
   "source": [
    "def most_import_negFeature(df_coefs, weight_class):\n",
    "    sorted_coefs = df_coefs.loc[weight_class].sort_values()\n",
    "    return sorted_coefs[:3]\n",
    "\n",
    "def most_import_posFeature(df_coefs, weight_class):\n",
    "    sorted_coefs = df_coefs.loc[weight_class].sort_values(ascending=False)\n",
    "    return sorted_coefs[:3]"
   ]
  },
  {
   "cell_type": "code",
   "execution_count": 273,
   "metadata": {},
   "outputs": [
    {
     "data": {
      "application/vnd.jupyter.widget-view+json": {
       "model_id": "660b979724b54136a12c8ddc0653ea60",
       "version_major": 2,
       "version_minor": 0
      },
      "text/plain": [
       "interactive(children=(Dropdown(description='weight_class', options=('Insufficient_Weight', 'Normal_Weight', 'O…"
      ]
     },
     "metadata": {},
     "output_type": "display_data"
    }
   ],
   "source": [
    "@widgets.interact\n",
    "def most_important_negFeature(weight_class = classes):\n",
    "    print(most_import_negFeature(df_coefs, weight_class))"
   ]
  },
  {
   "cell_type": "code",
   "execution_count": 274,
   "metadata": {},
   "outputs": [
    {
     "data": {
      "application/vnd.jupyter.widget-view+json": {
       "model_id": "2fa8e8a2ea9e445fa957c13f9a8a80ce",
       "version_major": 2,
       "version_minor": 0
      },
      "text/plain": [
       "interactive(children=(Dropdown(description='weight_class', options=('Insufficient_Weight', 'Normal_Weight', 'O…"
      ]
     },
     "metadata": {},
     "output_type": "display_data"
    }
   ],
   "source": [
    "@widgets.interact\n",
    "def most_important_posFeature(weight_class = classes):\n",
    "    print(most_import_posFeature(df_coefs, weight_class))"
   ]
  },
  {
   "cell_type": "markdown",
   "metadata": {},
   "source": [
    "**Influence of the 3 categories (Demographic, diet, life style) on the weight classes.**    \n",
    ". *Insufficient weight*: While demographic (Age and family history) and lifestyle (transportation. This one is difficult to understand as I haven't ordered it) negatively influence the insufficient weight class, the dietary (snacking and nb of daily meals) and lifestyle (physical act frq) positively influence this class. Interestingly, if we believe the model, this class would have a tendency to snack (although 0.58 is not that much). Nonetheless, the **demographic** category has more influence. The insufficient weight are on average slightly younger and are less likely to have a family history of overweight.  \n",
    ". *Normal weight*: Here the influence is a bit more distributed with **demographic** (family history) being the more negative influencer and **dietery** (snacking) being the most positive. Then comes lifestyle with physical act (FAF) and calories  monitoring (SCC).  \n",
    ". *Overweight Level I*: Although the values here again are not so high, we can say that clearly **Dietary** has a strong influence (FCVC, NCP, CAEC). Comes after the demographic (Age and gender).  \n",
    ". *Overweight Level II*: Interestingly for this class **lifestyle** is the most influencial (CH2O, FAF, transportation). Note the negative influence of the number of daily meal (NCP) suggesting that this class is more likely to eat on average less frequently than the other classes.  \n",
    ". *Obesity type I*: If we believe the model, FCVC (Vegetables consumption frequency) has a positive influence. This class would be on average more likely to eat frequently vegetables (this needs to be verify manually). Also snacking (CAEC) is the second most negative influencer suggesting (if we believe the model) that this class is less likely to snack frequently but slightly more likely to eat more daily meals. Nonetheless, overall, the **dietary** is the category more prevalent for this class.  \n",
    ". *Obesity type II*: Here clearly **lifestyle** is the most prevalent category for this class (SMOKE, SCC, CALC, CH2O).  \n",
    ". *Obesity type III*: **Dietary and demographic** are here the most prevalent. Interestingly, family history only arrives second in the most positive factors. "
   ]
  },
  {
   "cell_type": "markdown",
   "metadata": {},
   "source": [
    "### **Age**"
   ]
  },
  {
   "cell_type": "code",
   "execution_count": 275,
   "metadata": {},
   "outputs": [
    {
     "data": {
      "text/plain": [
       "<Axes: xlabel='Age', ylabel='Count'>"
      ]
     },
     "execution_count": 275,
     "metadata": {},
     "output_type": "execute_result"
    },
    {
     "data": {
      "image/png": "[encoded data removed]",
      "text/plain": [
       "<Figure size 640x480 with 1 Axes>"
      ]
     },
     "metadata": {},
     "output_type": "display_data"
    }
   ],
   "source": [
    "sns.histplot(new_obesity[\"Age\"], bins=20)"
   ]
  },
  {
   "cell_type": "markdown",
   "metadata": {},
   "source": [
    "Our population is quite young. "
   ]
  },
  {
   "cell_type": "code",
   "execution_count": 276,
   "metadata": {},
   "outputs": [
    {
     "name": "stderr",
     "output_type": "stream",
     "text": [
      "C:\\Users\\Angelique\\AppData\\Local\\Temp\\ipykernel_14120\\1567212041.py:1: FutureWarning: The default of observed=False is deprecated and will be changed to True in a future version of pandas. Pass observed=False to retain current behavior or observed=True to adopt the future default and silence this warning.\n",
      "  new_obesity.groupby(\"NObeyesdad\")[\"Age\"].describe()\n"
     ]
    },
    {
     "data": {
      "text/html": [
       "<div>\n",
       "<style scoped>\n",
       "    .dataframe tbody tr th:only-of-type {\n",
       "        vertical-align: middle;\n",
       "    }\n",
       "\n",
       "    .dataframe tbody tr th {\n",
       "        vertical-align: top;\n",
       "    }\n",
       "\n",
       "    .dataframe thead th {\n",
       "        text-align: right;\n",
       "    }\n",
       "</style>\n",
       "<table border=\"1\" class=\"dataframe\">\n",
       "  <thead>\n",
       "    <tr style=\"text-align: right;\">\n",
       "      <th></th>\n",
       "      <th>count</th>\n",
       "      <th>mean</th>\n",
       "      <th>std</th>\n",
       "      <th>min</th>\n",
       "      <th>25%</th>\n",
       "      <th>50%</th>\n",
       "      <th>75%</th>\n",
       "      <th>max</th>\n",
       "    </tr>\n",
       "    <tr>\n",
       "      <th>NObeyesdad</th>\n",
       "      <th></th>\n",
       "      <th></th>\n",
       "      <th></th>\n",
       "      <th></th>\n",
       "      <th></th>\n",
       "      <th></th>\n",
       "      <th></th>\n",
       "      <th></th>\n",
       "    </tr>\n",
       "  </thead>\n",
       "  <tbody>\n",
       "    <tr>\n",
       "      <th>Insufficient_Weight</th>\n",
       "      <td>272.0</td>\n",
       "      <td>19.607639</td>\n",
       "      <td>2.124778</td>\n",
       "      <td>16.000000</td>\n",
       "      <td>18.000000</td>\n",
       "      <td>19.101671</td>\n",
       "      <td>20.890513</td>\n",
       "      <td>32.383858</td>\n",
       "    </tr>\n",
       "    <tr>\n",
       "      <th>Normal_Weight</th>\n",
       "      <td>287.0</td>\n",
       "      <td>21.632753</td>\n",
       "      <td>4.439705</td>\n",
       "      <td>14.000000</td>\n",
       "      <td>19.000000</td>\n",
       "      <td>21.000000</td>\n",
       "      <td>23.000000</td>\n",
       "      <td>51.000000</td>\n",
       "    </tr>\n",
       "    <tr>\n",
       "      <th>Overweight_Level_I</th>\n",
       "      <td>289.0</td>\n",
       "      <td>23.323072</td>\n",
       "      <td>5.587727</td>\n",
       "      <td>16.240576</td>\n",
       "      <td>19.816228</td>\n",
       "      <td>21.236316</td>\n",
       "      <td>24.284861</td>\n",
       "      <td>55.000000</td>\n",
       "    </tr>\n",
       "    <tr>\n",
       "      <th>Overweight_Level_II</th>\n",
       "      <td>190.0</td>\n",
       "      <td>27.161485</td>\n",
       "      <td>7.716985</td>\n",
       "      <td>17.000000</td>\n",
       "      <td>21.920980</td>\n",
       "      <td>24.308320</td>\n",
       "      <td>31.397210</td>\n",
       "      <td>55.246250</td>\n",
       "    </tr>\n",
       "    <tr>\n",
       "      <th>Obesity_Type_I</th>\n",
       "      <td>46.0</td>\n",
       "      <td>26.221739</td>\n",
       "      <td>8.161615</td>\n",
       "      <td>15.000000</td>\n",
       "      <td>21.000000</td>\n",
       "      <td>23.000000</td>\n",
       "      <td>29.000000</td>\n",
       "      <td>52.000000</td>\n",
       "    </tr>\n",
       "    <tr>\n",
       "      <th>Obesity_Type_II</th>\n",
       "      <td>11.0</td>\n",
       "      <td>28.090909</td>\n",
       "      <td>7.206865</td>\n",
       "      <td>20.000000</td>\n",
       "      <td>23.500000</td>\n",
       "      <td>25.000000</td>\n",
       "      <td>31.000000</td>\n",
       "      <td>41.000000</td>\n",
       "    </tr>\n",
       "    <tr>\n",
       "      <th>Obesity_Type_III</th>\n",
       "      <td>12.0</td>\n",
       "      <td>23.136257</td>\n",
       "      <td>3.240239</td>\n",
       "      <td>18.000000</td>\n",
       "      <td>21.852796</td>\n",
       "      <td>22.838692</td>\n",
       "      <td>23.843692</td>\n",
       "      <td>30.922709</td>\n",
       "    </tr>\n",
       "  </tbody>\n",
       "</table>\n",
       "</div>"
      ],
      "text/plain": [
       "                     count       mean       std        min        25%  \\\n",
       "NObeyesdad                                                              \n",
       "Insufficient_Weight  272.0  19.607639  2.124778  16.000000  18.000000   \n",
       "Normal_Weight        287.0  21.632753  4.439705  14.000000  19.000000   \n",
       "Overweight_Level_I   289.0  23.323072  5.587727  16.240576  19.816228   \n",
       "Overweight_Level_II  190.0  27.161485  7.716985  17.000000  21.920980   \n",
       "Obesity_Type_I        46.0  26.221739  8.161615  15.000000  21.000000   \n",
       "Obesity_Type_II       11.0  28.090909  7.206865  20.000000  23.500000   \n",
       "Obesity_Type_III      12.0  23.136257  3.240239  18.000000  21.852796   \n",
       "\n",
       "                           50%        75%        max  \n",
       "NObeyesdad                                            \n",
       "Insufficient_Weight  19.101671  20.890513  32.383858  \n",
       "Normal_Weight        21.000000  23.000000  51.000000  \n",
       "Overweight_Level_I   21.236316  24.284861  55.000000  \n",
       "Overweight_Level_II  24.308320  31.397210  55.246250  \n",
       "Obesity_Type_I       23.000000  29.000000  52.000000  \n",
       "Obesity_Type_II      25.000000  31.000000  41.000000  \n",
       "Obesity_Type_III     22.838692  23.843692  30.922709  "
      ]
     },
     "execution_count": 276,
     "metadata": {},
     "output_type": "execute_result"
    }
   ],
   "source": [
    "new_obesity.groupby(\"NObeyesdad\")[\"Age\"].describe()"
   ]
  },
  {
   "cell_type": "code",
   "execution_count": 277,
   "metadata": {},
   "outputs": [
    {
     "data": {
      "image/png": "[encoded data removed]",
      "text/plain": [
       "<Figure size 640x480 with 1 Axes>"
      ]
     },
     "metadata": {},
     "output_type": "display_data"
    }
   ],
   "source": [
    "sns.countplot(x=\"NObeyesdad\", data=new_obesity, order=order_classes, hue=\"family_history_with_overweight\")\n",
    "plt.xticks(rotation=90)\n",
    "plt.show()"
   ]
  },
  {
   "cell_type": "markdown",
   "metadata": {},
   "source": [
    "when the count is not that high the famliy feature takes more importance. "
   ]
  },
  {
   "cell_type": "markdown",
   "metadata": {},
   "source": [
    "## **2) Difference between male and female**"
   ]
  },
  {
   "cell_type": "code",
   "execution_count": 278,
   "metadata": {},
   "outputs": [
    {
     "data": {
      "text/plain": [
       "Gender\n",
       "0    656\n",
       "1    451\n",
       "Name: count, dtype: int64"
      ]
     },
     "execution_count": 278,
     "metadata": {},
     "output_type": "execute_result"
    }
   ],
   "source": [
    "X[\"Gender\"].value_counts()"
   ]
  },
  {
   "cell_type": "code",
   "execution_count": 279,
   "metadata": {},
   "outputs": [
    {
     "data": {
      "image/png": "[encoded data removed]",
      "text/plain": [
       "<Figure size 600.25x500 with 1 Axes>"
      ]
     },
     "metadata": {},
     "output_type": "display_data"
    }
   ],
   "source": [
    "sns.displot(x=\"NObeyesdad\", data=new_obesity, hue=\"Gender\")\n",
    "plt.xticks(rotation=90)\n",
    "plt.show()"
   ]
  },
  {
   "cell_type": "code",
   "execution_count": 280,
   "metadata": {},
   "outputs": [
    {
     "data": {
      "text/plain": [
       "Gender\n",
       "Female    656\n",
       "Male      451\n",
       "Name: count, dtype: int64"
      ]
     },
     "execution_count": 280,
     "metadata": {},
     "output_type": "execute_result"
    }
   ],
   "source": [
    "new_obesity[\"Gender\"].value_counts()"
   ]
  },
  {
   "cell_type": "code",
   "execution_count": 281,
   "metadata": {},
   "outputs": [
    {
     "data": {
      "text/plain": [
       "Gender\n",
       "Male      0.347787\n",
       "Female    0.337850\n",
       "NaN       0.314363\n",
       "Name: proportion, dtype: float64"
      ]
     },
     "execution_count": 281,
     "metadata": {},
     "output_type": "execute_result"
    }
   ],
   "source": [
    "train_set_df[\"Gender\"].value_counts(dropna=False, normalize=True)"
   ]
  },
  {
   "cell_type": "code",
   "execution_count": 282,
   "metadata": {},
   "outputs": [],
   "source": [
    "train_set_df[\"NObeyesdad\"] = train_set_df[\"NObeyesdad\"].cat.reorder_categories(new_categories=order_classes, ordered=True)"
   ]
  },
  {
   "cell_type": "code",
   "execution_count": 283,
   "metadata": {},
   "outputs": [
    {
     "name": "stderr",
     "output_type": "stream",
     "text": [
      "C:\\Users\\Angelique\\AppData\\Local\\Temp\\ipykernel_14120\\2324649428.py:4: UserWarning: set_ticklabels() should only be used with a fixed number of ticks, i.e. after set_ticks() or using a FixedLocator.\n",
      "  ax1.set_xticklabels(ax1.get_xticklabels(), rotation=90)\n",
      "C:\\Users\\Angelique\\AppData\\Local\\Temp\\ipykernel_14120\\2324649428.py:7: UserWarning: set_ticklabels() should only be used with a fixed number of ticks, i.e. after set_ticks() or using a FixedLocator.\n",
      "  ax2.set_xticklabels(ax2.get_xticklabels(), rotation=90)\n"
     ]
    },
    {
     "data": {
      "image/png": "[encoded data removed]",
      "text/plain": [
       "<Figure size 1000x500 with 2 Axes>"
      ]
     },
     "metadata": {},
     "output_type": "display_data"
    }
   ],
   "source": [
    "fig,(ax1,ax2) = plt.subplots(1,2, figsize=(10,5))\n",
    "sns.countplot(x=\"NObeyesdad\", data=train_set_df, hue=\"Gender\", ax=ax1)\n",
    "ax1.set_title(\"Original Data\")\n",
    "ax1.set_xticklabels(ax1.get_xticklabels(), rotation=90)\n",
    "sns.countplot(x=\"NObeyesdad\", data=new_obesity, hue=\"Gender\", ax=ax2)\n",
    "ax2.set_title(\"imputed Data\")\n",
    "ax2.set_xticklabels(ax2.get_xticklabels(), rotation=90)\n",
    "plt.show()"
   ]
  },
  {
   "cell_type": "markdown",
   "metadata": {},
   "source": [
    "Almost 1/3 of the Gender column was originally Nan. After imputing the distribution of the genders among the different classes is changed. Only Insufficient weight and obesity type III remain consistent. However, among the gender the distribution of the output classes remain the same. Interestingly, this was true when imputing with or without the output feature. "
   ]
  },
  {
   "cell_type": "code",
   "execution_count": 284,
   "metadata": {},
   "outputs": [
    {
     "name": "stderr",
     "output_type": "stream",
     "text": [
      "C:\\Users\\Angelique\\AppData\\Local\\Temp\\ipykernel_14120\\169190405.py:1: FutureWarning: The default of observed=False is deprecated and will be changed to True in a future version of pandas. Pass observed=False to retain current behavior or observed=True to adopt the future default and silence this warning.\n",
      "  train_set_df.groupby(\"Gender\")[\"NObeyesdad\"].value_counts(dropna=False)\n"
     ]
    },
    {
     "data": {
      "text/plain": [
       "Gender  NObeyesdad         \n",
       "Female  Insufficient_Weight    130\n",
       "        Overweight_Level_I      95\n",
       "        Normal_Weight           81\n",
       "        Overweight_Level_II     47\n",
       "        Obesity_Type_I          10\n",
       "        Obesity_Type_III         9\n",
       "        Obesity_Type_II          2\n",
       "Male    Normal_Weight          106\n",
       "        Overweight_Level_I      99\n",
       "        Overweight_Level_II     80\n",
       "        Insufficient_Weight     72\n",
       "        Obesity_Type_I          21\n",
       "        Obesity_Type_II          7\n",
       "        Obesity_Type_III         0\n",
       "Name: count, dtype: int64"
      ]
     },
     "execution_count": 284,
     "metadata": {},
     "output_type": "execute_result"
    }
   ],
   "source": [
    "train_set_df.groupby(\"Gender\")[\"NObeyesdad\"].value_counts(dropna=False)"
   ]
  },
  {
   "cell_type": "code",
   "execution_count": 285,
   "metadata": {},
   "outputs": [
    {
     "name": "stderr",
     "output_type": "stream",
     "text": [
      "C:\\Users\\Angelique\\AppData\\Local\\Temp\\ipykernel_14120\\1265887194.py:1: FutureWarning: The default of observed=False is deprecated and will be changed to True in a future version of pandas. Pass observed=False to retain current behavior or observed=True to adopt the future default and silence this warning.\n",
      "  new_obesity.groupby(\"Gender\")[\"NObeyesdad\"].value_counts(dropna=False)\n"
     ]
    },
    {
     "data": {
      "text/plain": [
       "Gender  NObeyesdad         \n",
       "Female  Insufficient_Weight    183\n",
       "        Normal_Weight          170\n",
       "        Overweight_Level_I     164\n",
       "        Overweight_Level_II    100\n",
       "        Obesity_Type_I          23\n",
       "        Obesity_Type_III        12\n",
       "        Obesity_Type_II          4\n",
       "Male    Overweight_Level_I     125\n",
       "        Normal_Weight          117\n",
       "        Overweight_Level_II     90\n",
       "        Insufficient_Weight     89\n",
       "        Obesity_Type_I          23\n",
       "        Obesity_Type_II          7\n",
       "        Obesity_Type_III         0\n",
       "Name: count, dtype: int64"
      ]
     },
     "execution_count": 285,
     "metadata": {},
     "output_type": "execute_result"
    }
   ],
   "source": [
    "new_obesity.groupby(\"Gender\")[\"NObeyesdad\"].value_counts(dropna=False)"
   ]
  },
  {
   "cell_type": "markdown",
   "metadata": {},
   "source": [
    "I will therefore divide the dataset into 2 males and females and run again a logistic regression to see the feature importances by their coeficients. "
   ]
  },
  {
   "cell_type": "code",
   "execution_count": 286,
   "metadata": {},
   "outputs": [
    {
     "name": "stdout",
     "output_type": "stream",
     "text": [
      "<class 'pandas.core.frame.DataFrame'>\n",
      "RangeIndex: 1107 entries, 0 to 1106\n",
      "Data columns (total 17 columns):\n",
      " #   Column                          Non-Null Count  Dtype  \n",
      "---  ------                          --------------  -----  \n",
      " 0   Gender                          1107 non-null   int32  \n",
      " 1   Age                             1107 non-null   float64\n",
      " 2   Height                          1107 non-null   float64\n",
      " 3   Weight                          1107 non-null   float64\n",
      " 4   family_history_with_overweight  1107 non-null   int32  \n",
      " 5   FAVC                            1107 non-null   int32  \n",
      " 6   FCVC                            1107 non-null   float64\n",
      " 7   NCP                             1107 non-null   float64\n",
      " 8   SMOKE                           1107 non-null   int32  \n",
      " 9   CH2O                            1107 non-null   float64\n",
      " 10  SCC                             1107 non-null   int32  \n",
      " 11  FAF                             1107 non-null   float64\n",
      " 12  TUE                             1107 non-null   float64\n",
      " 13  CALC_num                        1107 non-null   int32  \n",
      " 14  CAEC_num                        1107 non-null   int32  \n",
      " 15  MTRANS_num                      1107 non-null   int32  \n",
      " 16  NObeyesdad_num                  1107 non-null   int32  \n",
      "dtypes: float64(8), int32(9)\n",
      "memory usage: 108.2 KB\n",
      "None\n"
     ]
    }
   ],
   "source": [
    "print(X.info())"
   ]
  },
  {
   "cell_type": "code",
   "execution_count": 287,
   "metadata": {},
   "outputs": [],
   "source": [
    "X[\"NObeyesdad\"] = Encod_y.reverse_transform(X,\"NObeyesdad_num\")\n",
    "X.drop(\"NObeyesdad_num\", axis=1, inplace=True)"
   ]
  },
  {
   "cell_type": "code",
   "execution_count": 288,
   "metadata": {},
   "outputs": [
    {
     "name": "stdout",
     "output_type": "stream",
     "text": [
      "<class 'pandas.core.frame.DataFrame'>\n",
      "RangeIndex: 1107 entries, 0 to 1106\n",
      "Data columns (total 17 columns):\n",
      " #   Column                          Non-Null Count  Dtype  \n",
      "---  ------                          --------------  -----  \n",
      " 0   Gender                          1107 non-null   int32  \n",
      " 1   Age                             1107 non-null   float64\n",
      " 2   Height                          1107 non-null   float64\n",
      " 3   Weight                          1107 non-null   float64\n",
      " 4   family_history_with_overweight  1107 non-null   int32  \n",
      " 5   FAVC                            1107 non-null   int32  \n",
      " 6   FCVC                            1107 non-null   float64\n",
      " 7   NCP                             1107 non-null   float64\n",
      " 8   SMOKE                           1107 non-null   int32  \n",
      " 9   CH2O                            1107 non-null   float64\n",
      " 10  SCC                             1107 non-null   int32  \n",
      " 11  FAF                             1107 non-null   float64\n",
      " 12  TUE                             1107 non-null   float64\n",
      " 13  CALC_num                        1107 non-null   int32  \n",
      " 14  CAEC_num                        1107 non-null   int32  \n",
      " 15  MTRANS_num                      1107 non-null   int32  \n",
      " 16  NObeyesdad                      1107 non-null   object \n",
      "dtypes: float64(8), int32(8), object(1)\n",
      "memory usage: 112.6+ KB\n"
     ]
    }
   ],
   "source": [
    "X.info()"
   ]
  },
  {
   "cell_type": "code",
   "execution_count": 289,
   "metadata": {},
   "outputs": [],
   "source": [
    "X[\"NObeyesdad\"] = X[\"NObeyesdad\"].astype(\"category\")"
   ]
  },
  {
   "cell_type": "code",
   "execution_count": 290,
   "metadata": {},
   "outputs": [
    {
     "data": {
      "text/plain": [
       "[{'Female': 0, 'Male': 1},\n",
       " {'no': 0, 'yes': 1},\n",
       " {'no': 0, 'yes': 1},\n",
       " {'no': 0, 'yes': 1},\n",
       " {'no': 0, 'yes': 1}]"
      ]
     },
     "execution_count": 290,
     "metadata": {},
     "output_type": "execute_result"
    }
   ],
   "source": [
    "list_binom_bool_dict"
   ]
  },
  {
   "cell_type": "code",
   "execution_count": 291,
   "metadata": {},
   "outputs": [],
   "source": [
    "X_fem = X[X[\"Gender\"] == 0].copy()\n",
    "X_mal = X[X[\"Gender\"] == 1].copy()\n",
    "y_fem = X_fem[\"NObeyesdad\"]\n",
    "y_mal = X_mal[\"NObeyesdad\"]\n",
    "X_fem.drop([\"NObeyesdad\",\"Weight\"], axis=1, inplace=True)\n",
    "X_mal.drop([\"NObeyesdad\",\"Weight\"], axis=1, inplace=True)\n"
   ]
  },
  {
   "cell_type": "code",
   "execution_count": 292,
   "metadata": {},
   "outputs": [
    {
     "data": {
      "text/plain": [
       "NObeyesdad\n",
       "Overweight_Level_I     125\n",
       "Normal_Weight          117\n",
       "Overweight_Level_II     90\n",
       "Insufficient_Weight     89\n",
       "Obesity_Type_I          23\n",
       "Obesity_Type_II          7\n",
       "Obesity_Type_III         0\n",
       "Name: count, dtype: int64"
      ]
     },
     "execution_count": 292,
     "metadata": {},
     "output_type": "execute_result"
    }
   ],
   "source": [
    "y_mal.value_counts()"
   ]
  },
  {
   "cell_type": "code",
   "execution_count": 293,
   "metadata": {},
   "outputs": [],
   "source": [
    "y_mal = y_mal.cat.remove_categories([\"Obesity_Type_III\"])\n",
    "y_classes = y_mal.cat.categories"
   ]
  },
  {
   "cell_type": "code",
   "execution_count": 294,
   "metadata": {},
   "outputs": [
    {
     "data": {
      "text/plain": [
       "NObeyesdad\n",
       "Insufficient_Weight    183\n",
       "Normal_Weight          170\n",
       "Overweight_Level_I     164\n",
       "Overweight_Level_II    100\n",
       "Obesity_Type_I          23\n",
       "Obesity_Type_III        12\n",
       "Obesity_Type_II          4\n",
       "Name: count, dtype: int64"
      ]
     },
     "execution_count": 294,
     "metadata": {},
     "output_type": "execute_result"
    }
   ],
   "source": [
    "y_fem.value_counts()"
   ]
  },
  {
   "cell_type": "code",
   "execution_count": 295,
   "metadata": {},
   "outputs": [
    {
     "data": {
      "text/plain": [
       "{'Insufficient_Weight': 0,\n",
       " 'Normal_Weight': 1,\n",
       " 'Obesity_Type_I': 2,\n",
       " 'Obesity_Type_II': 3,\n",
       " 'Obesity_Type_III': 4,\n",
       " 'Overweight_Level_I': 5,\n",
       " 'Overweight_Level_II': 6}"
      ]
     },
     "execution_count": 295,
     "metadata": {},
     "output_type": "execute_result"
    }
   ],
   "source": [
    "dict_y"
   ]
  },
  {
   "cell_type": "code",
   "execution_count": 296,
   "metadata": {},
   "outputs": [],
   "source": [
    "female_logReg = LogisticRegression(max_iter=1000)\n",
    "male_logReg = LogisticRegression(max_iter=1000)\n",
    "\n",
    "X_fem_scale = stScale.fit_transform(X_fem)\n",
    "X_mal_scale = stScale.fit_transform(X_mal)\n",
    "\n",
    "female_logReg.fit(X_fem_scale, y_fem)\n",
    "male_logReg.fit(X_mal_scale, y_mal)\n",
    "\n",
    "fem_coefs = female_logReg.coef_\n",
    "mal_coefs = male_logReg.coef_"
   ]
  },
  {
   "cell_type": "code",
   "execution_count": 297,
   "metadata": {},
   "outputs": [],
   "source": [
    "df_fem_coefs = pd.DataFrame(fem_coefs, columns=X_fem.columns, index=classes)\n",
    "df_mal_coefs = pd.DataFrame(mal_coefs, columns=X_mal.columns, index=y_classes)"
   ]
  },
  {
   "cell_type": "markdown",
   "metadata": {},
   "source": [
    "### **Females**"
   ]
  },
  {
   "cell_type": "code",
   "execution_count": 298,
   "metadata": {},
   "outputs": [
    {
     "data": {
      "application/vnd.jupyter.widget-view+json": {
       "model_id": "ae255929553d4253a3c9f045f12278b5",
       "version_major": 2,
       "version_minor": 0
      },
      "text/plain": [
       "interactive(children=(Dropdown(description='weight_class', options=('Insufficient_Weight', 'Normal_Weight', 'O…"
      ]
     },
     "metadata": {},
     "output_type": "display_data"
    }
   ],
   "source": [
    "@widgets.interact\n",
    "def most_important_negFeature(weight_class = classes):\n",
    "    print(most_import_negFeature(df_fem_coefs, weight_class))"
   ]
  },
  {
   "cell_type": "code",
   "execution_count": 299,
   "metadata": {},
   "outputs": [
    {
     "data": {
      "application/vnd.jupyter.widget-view+json": {
       "model_id": "585565ec13ce4f16b834efb431b4989d",
       "version_major": 2,
       "version_minor": 0
      },
      "text/plain": [
       "interactive(children=(Dropdown(description='weight_class', options=('Insufficient_Weight', 'Normal_Weight', 'O…"
      ]
     },
     "metadata": {},
     "output_type": "display_data"
    }
   ],
   "source": [
    "@widgets.interact\n",
    "def most_important_posFeature(weight_class = classes):\n",
    "    print(most_import_posFeature(df_fem_coefs, weight_class))"
   ]
  },
  {
   "cell_type": "markdown",
   "metadata": {},
   "source": [
    "### **Males**"
   ]
  },
  {
   "cell_type": "code",
   "execution_count": 300,
   "metadata": {},
   "outputs": [
    {
     "data": {
      "application/vnd.jupyter.widget-view+json": {
       "model_id": "f352940e11ad4e7bb2bee705effab6ac",
       "version_major": 2,
       "version_minor": 0
      },
      "text/plain": [
       "interactive(children=(Dropdown(description='weight_class', options=('Insufficient_Weight', 'Normal_Weight', 'O…"
      ]
     },
     "metadata": {},
     "output_type": "display_data"
    }
   ],
   "source": [
    "@widgets.interact\n",
    "def most_important_negFeature(weight_class = y_classes):\n",
    "    print(most_import_negFeature(df_mal_coefs, weight_class))"
   ]
  },
  {
   "cell_type": "code",
   "execution_count": 301,
   "metadata": {},
   "outputs": [
    {
     "data": {
      "application/vnd.jupyter.widget-view+json": {
       "model_id": "92ec13b1806c49ce8bd33b1bca37b685",
       "version_major": 2,
       "version_minor": 0
      },
      "text/plain": [
       "interactive(children=(Dropdown(description='weight_class', options=('Insufficient_Weight', 'Normal_Weight', 'O…"
      ]
     },
     "metadata": {},
     "output_type": "display_data"
    }
   ],
   "source": [
    "@widgets.interact\n",
    "def most_important_posFeature(weight_class = y_classes):\n",
    "    print(most_import_posFeature(df_mal_coefs, weight_class))"
   ]
  },
  {
   "cell_type": "markdown",
   "metadata": {},
   "source": [
    "## **3) Snacking and obesity**  \n",
    "\n",
    "CAEC: Consumption of food between meals  \n",
    "NCP: Number of daily meals"
   ]
  },
  {
   "cell_type": "code",
   "execution_count": 302,
   "metadata": {},
   "outputs": [
    {
     "data": {
      "text/plain": [
       "CAEC\n",
       "Sometimes     827\n",
       "Frequently    186\n",
       "no             58\n",
       "Always         36\n",
       "Name: count, dtype: int64"
      ]
     },
     "execution_count": 302,
     "metadata": {},
     "output_type": "execute_result"
    }
   ],
   "source": [
    "new_obesity[\"CAEC\"].value_counts()"
   ]
  },
  {
   "cell_type": "code",
   "execution_count": 303,
   "metadata": {},
   "outputs": [
    {
     "data": {
      "image/png": "[encoded data removed]",
      "text/plain": [
       "<Figure size 627.75x500 with 1 Axes>"
      ]
     },
     "metadata": {},
     "output_type": "display_data"
    }
   ],
   "source": [
    "sns.relplot(x=\"CAEC\", y=\"NObeyesdad\", data=new_obesity, kind=\"scatter\", size=\"CAEC\")\n",
    "plt.show()"
   ]
  },
  {
   "cell_type": "code",
   "execution_count": 304,
   "metadata": {},
   "outputs": [
    {
     "data": {
      "image/png": "[encoded data removed]",
      "text/plain": [
       "<Figure size 640x480 with 1 Axes>"
      ]
     },
     "metadata": {},
     "output_type": "display_data"
    }
   ],
   "source": [
    "sns.violinplot(x=\"NObeyesdad\", y=\"NCP\", data=new_obesity)\n",
    "plt.xticks(rotation=90)\n",
    "plt.show()"
   ]
  },
  {
   "cell_type": "markdown",
   "metadata": {},
   "source": [
    "Apart from the most severe overweight (Obesity type III), all the classes have a larger group of snackers. "
   ]
  }
 ],
 "metadata": {
  "kernelspec": {
   "display_name": "Essai",
   "language": "python",
   "name": "python3"
  },
  "language_info": {
   "codemirror_mode": {
    "name": "ipython",
    "version": 3
   },
   "file_extension": ".py",
   "mimetype": "text/x-python",
   "name": "python",
   "nbconvert_exporter": "python",
   "pygments_lexer": "ipython3",
   "version": "3.12.3"
  }
 },
 "nbformat": 4,
 "nbformat_minor": 2
}
