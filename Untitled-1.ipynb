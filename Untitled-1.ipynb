{
 "cells": [
  {
   "cell_type": "markdown",
   "metadata": {},
   "source": [
    "# **Packages**"
   ]
  },
  {
   "cell_type": "code",
   "execution_count": 361,
   "metadata": {},
   "outputs": [],
   "source": [
    "import pandas as pd\n",
    "import ipywidgets as widgets\n",
    "import matplotlib.pyplot as plt\n",
    "import seaborn as sns\n",
    "import numpy as np\n",
    "import missingno as msno\n",
    "\n",
    "from my_module import *\n",
    "\n",
    "from statsmodels.stats.proportion import proportions_ztest as pz\n",
    "from scipy.stats import mannwhitneyu\n",
    "\n",
    "from sklearn.linear_model import LogisticRegression\n",
    "from sklearn.multiclass import OneVsRestClassifier\n",
    "from sklearn.tree import DecisionTreeClassifier\n",
    "from sklearn.model_selection import cross_val_score, KFold\n",
    "from sklearn.preprocessing import StandardScaler, LabelEncoder\n",
    "from sklearn.experimental import enable_iterative_imputer\n",
    "from sklearn.impute import IterativeImputer, KNNImputer\n",
    "from sklearn.model_selection import train_test_split\n"
   ]
  },
  {
   "cell_type": "code",
   "execution_count": 362,
   "metadata": {},
   "outputs": [],
   "source": [
    "#!pip install missingno"
   ]
  },
  {
   "cell_type": "markdown",
   "metadata": {},
   "source": [
    "# **Dataset description**"
   ]
  },
  {
   "cell_type": "markdown",
   "metadata": {},
   "source": [
    "Features:  \n",
    "\n",
    "**Demographic**: Gender, Age, Height, Weight, family_history_with_overweight  \n",
    "\n",
    "**Dietary**: FAVC (Frequent High Calorie Food), FCVC (Vegetable Consumption Frequency), NCP (Number of Daily Meals), CAEC (Consumption of Food Between Meals)  \n",
    "    \n",
    "**Lifestyle**: SMOKE (Smoking Habit), CH2O (Daily Water Intake), SCC (Calorie Monitoring), FAF (Physical Activity Frequency), TUE (Technological Device Usage Time), CALC (Alcohol Consumption Frequency), MTRANS (Main Mode of Transportation).  \n",
    "\n",
    "The features are divided into 3 categories: demographic, dietary and lifestyle.\n",
    "Is one of these 3 categories more prevalent on obesity?\n",
    "Are the factors that influence overweight and obesity different between male and females?  \n",
    "We all know that snacking on a long run is not good for our metabolism and health (CAEC), however, does snacking inevitably leads to obesity? And if not, why?\n"
   ]
  },
  {
   "cell_type": "markdown",
   "metadata": {},
   "source": [
    "# **Obesity dataset exploration**"
   ]
  },
  {
   "cell_type": "code",
   "execution_count": 363,
   "metadata": {},
   "outputs": [
    {
     "data": {
      "text/html": [
       "<div>\n",
       "<style scoped>\n",
       "    .dataframe tbody tr th:only-of-type {\n",
       "        vertical-align: middle;\n",
       "    }\n",
       "\n",
       "    .dataframe tbody tr th {\n",
       "        vertical-align: top;\n",
       "    }\n",
       "\n",
       "    .dataframe thead th {\n",
       "        text-align: right;\n",
       "    }\n",
       "</style>\n",
       "<table border=\"1\" class=\"dataframe\">\n",
       "  <thead>\n",
       "    <tr style=\"text-align: right;\">\n",
       "      <th></th>\n",
       "      <th>ID</th>\n",
       "      <th>Age</th>\n",
       "      <th>Gender</th>\n",
       "      <th>Height</th>\n",
       "      <th>Weight</th>\n",
       "      <th>CALC</th>\n",
       "      <th>FAVC</th>\n",
       "      <th>FCVC</th>\n",
       "      <th>NCP</th>\n",
       "      <th>SCC</th>\n",
       "      <th>SMOKE</th>\n",
       "      <th>CH2O</th>\n",
       "      <th>family_history_with_overweight</th>\n",
       "      <th>FAF</th>\n",
       "      <th>TUE</th>\n",
       "      <th>CAEC</th>\n",
       "      <th>MTRANS</th>\n",
       "      <th>NObeyesdad</th>\n",
       "    </tr>\n",
       "  </thead>\n",
       "  <tbody>\n",
       "    <tr>\n",
       "      <th>0</th>\n",
       "      <td>1</td>\n",
       "      <td>21.0</td>\n",
       "      <td>Female</td>\n",
       "      <td>1.62</td>\n",
       "      <td>64.0</td>\n",
       "      <td>no</td>\n",
       "      <td>no</td>\n",
       "      <td>2.0</td>\n",
       "      <td>3.0</td>\n",
       "      <td>no</td>\n",
       "      <td>no</td>\n",
       "      <td>2.0</td>\n",
       "      <td>yes</td>\n",
       "      <td>0.0</td>\n",
       "      <td>1.0</td>\n",
       "      <td>Sometimes</td>\n",
       "      <td>Public_Transportation</td>\n",
       "      <td>Normal_Weight</td>\n",
       "    </tr>\n",
       "    <tr>\n",
       "      <th>1</th>\n",
       "      <td>2</td>\n",
       "      <td>21.0</td>\n",
       "      <td>NaN</td>\n",
       "      <td>1.52</td>\n",
       "      <td>56.0</td>\n",
       "      <td>Sometimes</td>\n",
       "      <td>no</td>\n",
       "      <td>3.0</td>\n",
       "      <td>3.0</td>\n",
       "      <td>yes</td>\n",
       "      <td>yes</td>\n",
       "      <td>3.0</td>\n",
       "      <td>yes</td>\n",
       "      <td>3.0</td>\n",
       "      <td>NaN</td>\n",
       "      <td>Sometimes</td>\n",
       "      <td>Public_Transportation</td>\n",
       "      <td>Normal_Weight</td>\n",
       "    </tr>\n",
       "    <tr>\n",
       "      <th>2</th>\n",
       "      <td>3</td>\n",
       "      <td>NaN</td>\n",
       "      <td>Male</td>\n",
       "      <td>NaN</td>\n",
       "      <td>77.0</td>\n",
       "      <td>Frequently</td>\n",
       "      <td>no</td>\n",
       "      <td>2.0</td>\n",
       "      <td>3.0</td>\n",
       "      <td>no</td>\n",
       "      <td>no</td>\n",
       "      <td>2.0</td>\n",
       "      <td>yes</td>\n",
       "      <td>2.0</td>\n",
       "      <td>NaN</td>\n",
       "      <td>Sometimes</td>\n",
       "      <td>Public_Transportation</td>\n",
       "      <td>Normal_Weight</td>\n",
       "    </tr>\n",
       "    <tr>\n",
       "      <th>3</th>\n",
       "      <td>4</td>\n",
       "      <td>27.0</td>\n",
       "      <td>NaN</td>\n",
       "      <td>NaN</td>\n",
       "      <td>87.0</td>\n",
       "      <td>Frequently</td>\n",
       "      <td>no</td>\n",
       "      <td>3.0</td>\n",
       "      <td>3.0</td>\n",
       "      <td>no</td>\n",
       "      <td>NaN</td>\n",
       "      <td>2.0</td>\n",
       "      <td>NaN</td>\n",
       "      <td>2.0</td>\n",
       "      <td>0.0</td>\n",
       "      <td>NaN</td>\n",
       "      <td>Walking</td>\n",
       "      <td>Overweight_Level_I</td>\n",
       "    </tr>\n",
       "    <tr>\n",
       "      <th>4</th>\n",
       "      <td>5</td>\n",
       "      <td>22.0</td>\n",
       "      <td>Male</td>\n",
       "      <td>1.78</td>\n",
       "      <td>89.8</td>\n",
       "      <td>Sometimes</td>\n",
       "      <td>no</td>\n",
       "      <td>2.0</td>\n",
       "      <td>1.0</td>\n",
       "      <td>no</td>\n",
       "      <td>no</td>\n",
       "      <td>2.0</td>\n",
       "      <td>no</td>\n",
       "      <td>0.0</td>\n",
       "      <td>0.0</td>\n",
       "      <td>Sometimes</td>\n",
       "      <td>Public_Transportation</td>\n",
       "      <td>Overweight_Level_II</td>\n",
       "    </tr>\n",
       "  </tbody>\n",
       "</table>\n",
       "</div>"
      ],
      "text/plain": [
       "   ID   Age  Gender  Height  Weight        CALC FAVC  FCVC  NCP  SCC SMOKE  \\\n",
       "0   1  21.0  Female    1.62    64.0          no   no   2.0  3.0   no    no   \n",
       "1   2  21.0     NaN    1.52    56.0   Sometimes   no   3.0  3.0  yes   yes   \n",
       "2   3   NaN    Male     NaN    77.0  Frequently   no   2.0  3.0   no    no   \n",
       "3   4  27.0     NaN     NaN    87.0  Frequently   no   3.0  3.0   no   NaN   \n",
       "4   5  22.0    Male    1.78    89.8   Sometimes   no   2.0  1.0   no    no   \n",
       "\n",
       "   CH2O family_history_with_overweight  FAF  TUE       CAEC  \\\n",
       "0   2.0                            yes  0.0  1.0  Sometimes   \n",
       "1   3.0                            yes  3.0  NaN  Sometimes   \n",
       "2   2.0                            yes  2.0  NaN  Sometimes   \n",
       "3   2.0                            NaN  2.0  0.0        NaN   \n",
       "4   2.0                             no  0.0  0.0  Sometimes   \n",
       "\n",
       "                  MTRANS           NObeyesdad  \n",
       "0  Public_Transportation        Normal_Weight  \n",
       "1  Public_Transportation        Normal_Weight  \n",
       "2  Public_Transportation        Normal_Weight  \n",
       "3                Walking   Overweight_Level_I  \n",
       "4  Public_Transportation  Overweight_Level_II  "
      ]
     },
     "execution_count": 363,
     "metadata": {},
     "output_type": "execute_result"
    }
   ],
   "source": [
    "train_set_df = pd.read_csv(\"train.csv\")\n",
    "train_set_df.head()"
   ]
  },
  {
   "cell_type": "code",
   "execution_count": 364,
   "metadata": {},
   "outputs": [],
   "source": [
    "train_set_df = train_set_df[[\"ID\",\"Gender\",\"Age\",\"Height\",\"Weight\",\"family_history_with_overweight\",\"FAVC\",\"FCVC\",\"NCP\",\"CAEC\",\"SMOKE\",\"CH2O\",\"SCC\",\"FAF\",\"TUE\",\"CALC\",\"MTRANS\",\"NObeyesdad\"]]"
   ]
  },
  {
   "cell_type": "code",
   "execution_count": 365,
   "metadata": {},
   "outputs": [
    {
     "name": "stdout",
     "output_type": "stream",
     "text": [
      "<class 'pandas.core.frame.DataFrame'>\n",
      "RangeIndex: 1110 entries, 0 to 1109\n",
      "Data columns (total 18 columns):\n",
      " #   Column                          Non-Null Count  Dtype  \n",
      "---  ------                          --------------  -----  \n",
      " 0   ID                              1110 non-null   int64  \n",
      " 1   Gender                          760 non-null    object \n",
      " 2   Age                             801 non-null    float64\n",
      " 3   Height                          873 non-null    float64\n",
      " 4   Weight                          753 non-null    float64\n",
      " 5   family_history_with_overweight  990 non-null    object \n",
      " 6   FAVC                            609 non-null    object \n",
      " 7   FCVC                            1110 non-null   float64\n",
      " 8   NCP                             1108 non-null   float64\n",
      " 9   CAEC                            790 non-null    object \n",
      " 10  SMOKE                           777 non-null    object \n",
      " 11  CH2O                            1110 non-null   float64\n",
      " 12  SCC                             1110 non-null   object \n",
      " 13  FAF                             1097 non-null   float64\n",
      " 14  TUE                             895 non-null    float64\n",
      " 15  CALC                            1056 non-null   object \n",
      " 16  MTRANS                          924 non-null    object \n",
      " 17  NObeyesdad                      1110 non-null   object \n",
      "dtypes: float64(8), int64(1), object(9)\n",
      "memory usage: 156.2+ KB\n"
     ]
    }
   ],
   "source": [
    "train_set_df.info()"
   ]
  },
  {
   "cell_type": "markdown",
   "metadata": {},
   "source": [
    "Only 3 features are complete (outside the ID). All the others have missing values. "
   ]
  },
  {
   "cell_type": "code",
   "execution_count": 366,
   "metadata": {},
   "outputs": [
    {
     "data": {
      "image/png": "[encoded data removed]",
      "text/plain": [
       "<Figure size 2500x1000 with 2 Axes>"
      ]
     },
     "metadata": {},
     "output_type": "display_data"
    }
   ],
   "source": [
    "msno.matrix(train_set_df)\n",
    "plt.show()"
   ]
  },
  {
   "cell_type": "markdown",
   "metadata": {},
   "source": [
    "The category that has the most of missing values is Demographic. Those features won't be helpful to implement the missing values of the other features. "
   ]
  },
  {
   "cell_type": "code",
   "execution_count": 367,
   "metadata": {},
   "outputs": [
    {
     "data": {
      "application/vnd.jupyter.widget-view+json": {
       "model_id": "936b1d2bdbbe4a059a10ddaa96c05730",
       "version_major": 2,
       "version_minor": 0
      },
      "text/plain": [
       "interactive(children=(Dropdown(description='attribute', options=('ID', 'Gender', 'Age', 'Height', 'Weight', 'f…"
      ]
     },
     "metadata": {},
     "output_type": "display_data"
    }
   ],
   "source": [
    "@widgets.interact\n",
    "def missing_vals(attribute = list(train_set_df.columns)):\n",
    "    prop = train_set_df[attribute].isna().sum()/len(train_set_df)\n",
    "    print(f\"Proportion of missing values for the column {attribute}: {prop}\")"
   ]
  },
  {
   "cell_type": "code",
   "execution_count": 368,
   "metadata": {},
   "outputs": [
    {
     "data": {
      "text/html": [
       "<div>\n",
       "<style scoped>\n",
       "    .dataframe tbody tr th:only-of-type {\n",
       "        vertical-align: middle;\n",
       "    }\n",
       "\n",
       "    .dataframe tbody tr th {\n",
       "        vertical-align: top;\n",
       "    }\n",
       "\n",
       "    .dataframe thead th {\n",
       "        text-align: right;\n",
       "    }\n",
       "</style>\n",
       "<table border=\"1\" class=\"dataframe\">\n",
       "  <thead>\n",
       "    <tr style=\"text-align: right;\">\n",
       "      <th></th>\n",
       "      <th>ID</th>\n",
       "      <th>Gender</th>\n",
       "      <th>Age</th>\n",
       "      <th>Height</th>\n",
       "      <th>Weight</th>\n",
       "      <th>family_history_with_overweight</th>\n",
       "      <th>FAVC</th>\n",
       "      <th>FCVC</th>\n",
       "      <th>NCP</th>\n",
       "      <th>CAEC</th>\n",
       "      <th>SMOKE</th>\n",
       "      <th>CH2O</th>\n",
       "      <th>SCC</th>\n",
       "      <th>FAF</th>\n",
       "      <th>TUE</th>\n",
       "      <th>CALC</th>\n",
       "      <th>MTRANS</th>\n",
       "      <th>NObeyesdad</th>\n",
       "    </tr>\n",
       "  </thead>\n",
       "  <tbody>\n",
       "    <tr>\n",
       "      <th>188</th>\n",
       "      <td>189</td>\n",
       "      <td>NaN</td>\n",
       "      <td>35.0</td>\n",
       "      <td>1.78</td>\n",
       "      <td>NaN</td>\n",
       "      <td>yes</td>\n",
       "      <td>NaN</td>\n",
       "      <td>3.000000</td>\n",
       "      <td>NaN</td>\n",
       "      <td>no</td>\n",
       "      <td>no</td>\n",
       "      <td>3.000000</td>\n",
       "      <td>no</td>\n",
       "      <td>3.0</td>\n",
       "      <td>1.000000</td>\n",
       "      <td>Frequently</td>\n",
       "      <td>Automobile</td>\n",
       "      <td>Obesity_Type_I</td>\n",
       "    </tr>\n",
       "    <tr>\n",
       "      <th>1009</th>\n",
       "      <td>1010</td>\n",
       "      <td>Male</td>\n",
       "      <td>23.0</td>\n",
       "      <td>NaN</td>\n",
       "      <td>90.0</td>\n",
       "      <td>yes</td>\n",
       "      <td>yes</td>\n",
       "      <td>2.067817</td>\n",
       "      <td>NaN</td>\n",
       "      <td>Sometimes</td>\n",
       "      <td>NaN</td>\n",
       "      <td>1.082084</td>\n",
       "      <td>no</td>\n",
       "      <td>0.0</td>\n",
       "      <td>1.922364</td>\n",
       "      <td>Sometimes</td>\n",
       "      <td>Public_Transportation</td>\n",
       "      <td>Overweight_Level_II</td>\n",
       "    </tr>\n",
       "  </tbody>\n",
       "</table>\n",
       "</div>"
      ],
      "text/plain": [
       "        ID Gender   Age  Height  Weight family_history_with_overweight FAVC  \\\n",
       "188    189    NaN  35.0    1.78     NaN                            yes  NaN   \n",
       "1009  1010   Male  23.0     NaN    90.0                            yes  yes   \n",
       "\n",
       "          FCVC  NCP       CAEC SMOKE      CH2O SCC  FAF       TUE        CALC  \\\n",
       "188   3.000000  NaN         no    no  3.000000  no  3.0  1.000000  Frequently   \n",
       "1009  2.067817  NaN  Sometimes   NaN  1.082084  no  0.0  1.922364   Sometimes   \n",
       "\n",
       "                     MTRANS           NObeyesdad  \n",
       "188              Automobile       Obesity_Type_I  \n",
       "1009  Public_Transportation  Overweight_Level_II  "
      ]
     },
     "execution_count": 368,
     "metadata": {},
     "output_type": "execute_result"
    }
   ],
   "source": [
    "miss_NCP = train_set_df[train_set_df[\"NCP\"].isna()]\n",
    "miss_NCP"
   ]
  },
  {
   "cell_type": "code",
   "execution_count": 369,
   "metadata": {},
   "outputs": [],
   "source": [
    "train_set_df = train_set_df.dropna(subset=[\"NCP\"])"
   ]
  },
  {
   "cell_type": "code",
   "execution_count": 370,
   "metadata": {},
   "outputs": [
    {
     "data": {
      "text/plain": [
       "dtype('O')"
      ]
     },
     "execution_count": 370,
     "metadata": {},
     "output_type": "execute_result"
    }
   ],
   "source": [
    "train_set_df[\"Gender\"].dtype"
   ]
  },
  {
   "cell_type": "code",
   "execution_count": 371,
   "metadata": {},
   "outputs": [
    {
     "data": {
      "text/plain": [
       "1108"
      ]
     },
     "execution_count": 371,
     "metadata": {},
     "output_type": "execute_result"
    }
   ],
   "source": [
    "len(train_set_df)"
   ]
  },
  {
   "cell_type": "markdown",
   "metadata": {},
   "source": [
    "## **Duplicates**"
   ]
  },
  {
   "cell_type": "code",
   "execution_count": 372,
   "metadata": {},
   "outputs": [
    {
     "data": {
      "text/plain": [
       "1108"
      ]
     },
     "execution_count": 372,
     "metadata": {},
     "output_type": "execute_result"
    }
   ],
   "source": [
    "len(train_set_df[\"ID\"].unique())"
   ]
  },
  {
   "cell_type": "code",
   "execution_count": 373,
   "metadata": {},
   "outputs": [
    {
     "data": {
      "text/html": [
       "<div>\n",
       "<style scoped>\n",
       "    .dataframe tbody tr th:only-of-type {\n",
       "        vertical-align: middle;\n",
       "    }\n",
       "\n",
       "    .dataframe tbody tr th {\n",
       "        vertical-align: top;\n",
       "    }\n",
       "\n",
       "    .dataframe thead th {\n",
       "        text-align: right;\n",
       "    }\n",
       "</style>\n",
       "<table border=\"1\" class=\"dataframe\">\n",
       "  <thead>\n",
       "    <tr style=\"text-align: right;\">\n",
       "      <th></th>\n",
       "      <th>ID</th>\n",
       "      <th>Gender</th>\n",
       "      <th>Age</th>\n",
       "      <th>Height</th>\n",
       "      <th>Weight</th>\n",
       "      <th>family_history_with_overweight</th>\n",
       "      <th>FAVC</th>\n",
       "      <th>FCVC</th>\n",
       "      <th>NCP</th>\n",
       "      <th>CAEC</th>\n",
       "      <th>SMOKE</th>\n",
       "      <th>CH2O</th>\n",
       "      <th>SCC</th>\n",
       "      <th>FAF</th>\n",
       "      <th>TUE</th>\n",
       "      <th>CALC</th>\n",
       "      <th>MTRANS</th>\n",
       "      <th>NObeyesdad</th>\n",
       "    </tr>\n",
       "  </thead>\n",
       "  <tbody>\n",
       "    <tr>\n",
       "      <th>179</th>\n",
       "      <td>180</td>\n",
       "      <td>NaN</td>\n",
       "      <td>21.0</td>\n",
       "      <td>1.62</td>\n",
       "      <td>70.0</td>\n",
       "      <td>no</td>\n",
       "      <td>yes</td>\n",
       "      <td>2.0</td>\n",
       "      <td>1.0</td>\n",
       "      <td>no</td>\n",
       "      <td>no</td>\n",
       "      <td>3.0</td>\n",
       "      <td>no</td>\n",
       "      <td>1.0</td>\n",
       "      <td>0.0</td>\n",
       "      <td>Sometimes</td>\n",
       "      <td>Public_Transportation</td>\n",
       "      <td>Overweight_Level_I</td>\n",
       "    </tr>\n",
       "    <tr>\n",
       "      <th>763</th>\n",
       "      <td>764</td>\n",
       "      <td>NaN</td>\n",
       "      <td>21.0</td>\n",
       "      <td>1.62</td>\n",
       "      <td>70.0</td>\n",
       "      <td>no</td>\n",
       "      <td>yes</td>\n",
       "      <td>2.0</td>\n",
       "      <td>1.0</td>\n",
       "      <td>no</td>\n",
       "      <td>no</td>\n",
       "      <td>3.0</td>\n",
       "      <td>no</td>\n",
       "      <td>1.0</td>\n",
       "      <td>0.0</td>\n",
       "      <td>Sometimes</td>\n",
       "      <td>Public_Transportation</td>\n",
       "      <td>Overweight_Level_I</td>\n",
       "    </tr>\n",
       "  </tbody>\n",
       "</table>\n",
       "</div>"
      ],
      "text/plain": [
       "      ID Gender   Age  Height  Weight family_history_with_overweight FAVC  \\\n",
       "179  180    NaN  21.0    1.62    70.0                             no  yes   \n",
       "763  764    NaN  21.0    1.62    70.0                             no  yes   \n",
       "\n",
       "     FCVC  NCP CAEC SMOKE  CH2O SCC  FAF  TUE       CALC  \\\n",
       "179   2.0  1.0   no    no   3.0  no  1.0  0.0  Sometimes   \n",
       "763   2.0  1.0   no    no   3.0  no  1.0  0.0  Sometimes   \n",
       "\n",
       "                    MTRANS          NObeyesdad  \n",
       "179  Public_Transportation  Overweight_Level_I  \n",
       "763  Public_Transportation  Overweight_Level_I  "
      ]
     },
     "execution_count": 373,
     "metadata": {},
     "output_type": "execute_result"
    }
   ],
   "source": [
    "columns_list = train_set_df.columns\n",
    "duplicates = train_set_df[train_set_df.duplicated(subset=columns_list[1:], keep=False)]\n",
    "duplicates"
   ]
  },
  {
   "cell_type": "markdown",
   "metadata": {},
   "source": [
    "Apart from the ID number, the 2 rows are exactly the same.  \n",
    "I am removing one of them."
   ]
  },
  {
   "cell_type": "code",
   "execution_count": 374,
   "metadata": {},
   "outputs": [],
   "source": [
    "train_set_df.drop(duplicates.index[0], inplace=True)"
   ]
  },
  {
   "cell_type": "code",
   "execution_count": 375,
   "metadata": {},
   "outputs": [],
   "source": [
    "train_set_df.reset_index(drop=True, inplace=True)"
   ]
  },
  {
   "cell_type": "code",
   "execution_count": 376,
   "metadata": {},
   "outputs": [
    {
     "name": "stdout",
     "output_type": "stream",
     "text": [
      "<class 'pandas.core.frame.DataFrame'>\n",
      "RangeIndex: 1107 entries, 0 to 1106\n",
      "Data columns (total 18 columns):\n",
      " #   Column                          Non-Null Count  Dtype  \n",
      "---  ------                          --------------  -----  \n",
      " 0   ID                              1107 non-null   int64  \n",
      " 1   Gender                          759 non-null    object \n",
      " 2   Age                             798 non-null    float64\n",
      " 3   Height                          871 non-null    float64\n",
      " 4   Weight                          751 non-null    float64\n",
      " 5   family_history_with_overweight  987 non-null    object \n",
      " 6   FAVC                            607 non-null    object \n",
      " 7   FCVC                            1107 non-null   float64\n",
      " 8   NCP                             1107 non-null   float64\n",
      " 9   CAEC                            787 non-null    object \n",
      " 10  SMOKE                           775 non-null    object \n",
      " 11  CH2O                            1107 non-null   float64\n",
      " 12  SCC                             1107 non-null   object \n",
      " 13  FAF                             1094 non-null   float64\n",
      " 14  TUE                             892 non-null    float64\n",
      " 15  CALC                            1053 non-null   object \n",
      " 16  MTRANS                          921 non-null    object \n",
      " 17  NObeyesdad                      1107 non-null   object \n",
      "dtypes: float64(8), int64(1), object(9)\n",
      "memory usage: 155.8+ KB\n"
     ]
    }
   ],
   "source": [
    "train_set_df.info()"
   ]
  },
  {
   "cell_type": "code",
   "execution_count": 449,
   "metadata": {},
   "outputs": [
    {
     "name": "stdout",
     "output_type": "stream",
     "text": [
      "Proportion of missing values: 0.1500050185687042\n"
     ]
    }
   ],
   "source": [
    "missing_values = pd.DataFrame(train_set_df.isna().sum(), columns=[\"missing values\"])\n",
    "missing_values[\"cummulative nan\"] = missing_values[\"missing values\"].cumsum()\n",
    "total_missing_vals = missing_values.loc[\"NObeyesdad\", \"cummulative nan\"]\n",
    "prop_missing_vals = total_missing_vals/(18*1107)\n",
    "print(f\"Proportion of missing values: {prop_missing_vals}\")"
   ]
  },
  {
   "cell_type": "markdown",
   "metadata": {},
   "source": [
    "# **One hot encoding**  \n"
   ]
  },
  {
   "cell_type": "markdown",
   "metadata": {},
   "source": [
    "## **binomial features**"
   ]
  },
  {
   "cell_type": "code",
   "execution_count": 377,
   "metadata": {},
   "outputs": [
    {
     "data": {
      "application/vnd.jupyter.widget-view+json": {
       "model_id": "edc3aa44377a4955a6d6ef73290afbd3",
       "version_major": 2,
       "version_minor": 0
      },
      "text/plain": [
       "interactive(children=(Dropdown(description='attribute', options=('Gender', 'family_history_with_overweight', '…"
      ]
     },
     "metadata": {},
     "output_type": "display_data"
    }
   ],
   "source": [
    "for col in train_set_df.columns:\n",
    "    if train_set_df[col].dtype == \"O\":\n",
    "        train_set_df[col] = train_set_df[col].astype(\"category\")\n",
    "\n",
    "@widgets.interact\n",
    "def binom_multinom(attribute=list(train_set_df.select_dtypes(\"category\").columns)):\n",
    "    n_cat = len(train_set_df[attribute].cat.categories)\n",
    "    categories = train_set_df[attribute].cat.categories\n",
    "    print(f\"the feature {attribute} has {n_cat} categories. \\nThey are: \\n{categories}\")"
   ]
  },
  {
   "cell_type": "markdown",
   "metadata": {},
   "source": [
    "Most of the categorical features are binomiale."
   ]
  },
  {
   "cell_type": "code",
   "execution_count": 378,
   "metadata": {},
   "outputs": [],
   "source": [
    "def binom_bool(df,col,cat_1):\n",
    "    new = np.where(df[col] == cat_1,0,np.where(pd.isna(df[col]),np.nan,1))\n",
    "    return new\n"
   ]
  },
  {
   "cell_type": "code",
   "execution_count": 379,
   "metadata": {},
   "outputs": [
    {
     "data": {
      "text/plain": [
       "'Female'"
      ]
     },
     "execution_count": 379,
     "metadata": {},
     "output_type": "execute_result"
    }
   ],
   "source": [
    "train_set_df[\"Gender\"].cat.categories[0]"
   ]
  },
  {
   "cell_type": "code",
   "execution_count": 380,
   "metadata": {},
   "outputs": [
    {
     "data": {
      "text/plain": [
       "nan"
      ]
     },
     "execution_count": 380,
     "metadata": {},
     "output_type": "execute_result"
    }
   ],
   "source": [
    "counts_gender = train_set_df[\"Gender\"].value_counts(dropna=False)\n",
    "counts_gender.index[2]"
   ]
  },
  {
   "cell_type": "code",
   "execution_count": 381,
   "metadata": {},
   "outputs": [
    {
     "name": "stdout",
     "output_type": "stream",
     "text": [
      "Gender\n",
      "1.0    385\n",
      "0.0    374\n",
      "NaN    348\n",
      "Name: count, dtype: int64\n",
      "Gender\n",
      "Male      385\n",
      "Female    374\n",
      "NaN       348\n",
      "Name: count, dtype: int64\n",
      "['Gender', 'family_history_with_overweight', 'FAVC', 'SMOKE', 'SCC']\n",
      "[{'Female': 0, 'Male': 1}, {'no': 0, 'yes': 1}, {'no': 0, 'yes': 1}, {'no': 0, 'yes': 1}, {'no': 0, 'yes': 1}]\n"
     ]
    }
   ],
   "source": [
    "data_num = train_set_df.copy()\n",
    "\n",
    "list_binom_bool_dict = []\n",
    "list_binom_cols = []\n",
    "for col in data_num.select_dtypes(\"category\").columns:\n",
    "    n_cat = len(data_num[col].cat.categories)\n",
    "    dict_col = {}\n",
    "    if n_cat == 2:\n",
    "        cats = data_num[col].cat.categories\n",
    "        cat_1 = cats[0]\n",
    "        data_num[col] = binom_bool(data_num,col,cat_1)\n",
    "        dict_col[cat_1] = 0\n",
    "        dict_col[cats[1]] = 1\n",
    "        list_binom_bool_dict.append(dict_col)\n",
    "        list_binom_cols.append(col)\n",
    "    \n",
    "print(data_num[\"Gender\"].value_counts(dropna=False))\n",
    "print(train_set_df[\"Gender\"].value_counts(dropna=False))\n",
    "print(list_binom_cols)\n",
    "print(list_binom_bool_dict)\n",
    "\n"
   ]
  },
  {
   "cell_type": "code",
   "execution_count": 382,
   "metadata": {},
   "outputs": [
    {
     "name": "stdout",
     "output_type": "stream",
     "text": [
      "<class 'pandas.core.frame.DataFrame'>\n",
      "RangeIndex: 1107 entries, 0 to 1106\n",
      "Data columns (total 18 columns):\n",
      " #   Column                          Non-Null Count  Dtype   \n",
      "---  ------                          --------------  -----   \n",
      " 0   ID                              1107 non-null   int64   \n",
      " 1   Gender                          759 non-null    float64 \n",
      " 2   Age                             798 non-null    float64 \n",
      " 3   Height                          871 non-null    float64 \n",
      " 4   Weight                          751 non-null    float64 \n",
      " 5   family_history_with_overweight  987 non-null    float64 \n",
      " 6   FAVC                            607 non-null    float64 \n",
      " 7   FCVC                            1107 non-null   float64 \n",
      " 8   NCP                             1107 non-null   float64 \n",
      " 9   CAEC                            787 non-null    category\n",
      " 10  SMOKE                           775 non-null    float64 \n",
      " 11  CH2O                            1107 non-null   float64 \n",
      " 12  SCC                             1107 non-null   float64 \n",
      " 13  FAF                             1094 non-null   float64 \n",
      " 14  TUE                             892 non-null    float64 \n",
      " 15  CALC                            1053 non-null   category\n",
      " 16  MTRANS                          921 non-null    category\n",
      " 17  NObeyesdad                      1107 non-null   category\n",
      "dtypes: category(4), float64(13), int64(1)\n",
      "memory usage: 126.4 KB\n"
     ]
    }
   ],
   "source": [
    "data_num.info()"
   ]
  },
  {
   "cell_type": "markdown",
   "metadata": {},
   "source": [
    "To impute the missing values, I will exclude the last columns \"NObeyesdad\". I should not include the dependent variable."
   ]
  },
  {
   "cell_type": "code",
   "execution_count": 383,
   "metadata": {},
   "outputs": [],
   "source": [
    "y = data_num[[\"NObeyesdad\"]]\n",
    "data_num.drop(\"NObeyesdad\", axis=1, inplace=True)"
   ]
  },
  {
   "cell_type": "markdown",
   "metadata": {},
   "source": [
    "## **Multinomial features**"
   ]
  },
  {
   "cell_type": "code",
   "execution_count": 384,
   "metadata": {},
   "outputs": [
    {
     "name": "stdout",
     "output_type": "stream",
     "text": [
      "<class 'pandas.core.frame.DataFrame'>\n",
      "RangeIndex: 1107 entries, 0 to 1106\n",
      "Data columns (total 17 columns):\n",
      " #   Column                          Non-Null Count  Dtype   \n",
      "---  ------                          --------------  -----   \n",
      " 0   ID                              1107 non-null   int64   \n",
      " 1   Gender                          759 non-null    float64 \n",
      " 2   Age                             798 non-null    float64 \n",
      " 3   Height                          871 non-null    float64 \n",
      " 4   Weight                          751 non-null    float64 \n",
      " 5   family_history_with_overweight  987 non-null    float64 \n",
      " 6   FAVC                            607 non-null    float64 \n",
      " 7   FCVC                            1107 non-null   float64 \n",
      " 8   NCP                             1107 non-null   float64 \n",
      " 9   CAEC                            787 non-null    category\n",
      " 10  SMOKE                           775 non-null    float64 \n",
      " 11  CH2O                            1107 non-null   float64 \n",
      " 12  SCC                             1107 non-null   float64 \n",
      " 13  FAF                             1094 non-null   float64 \n",
      " 14  TUE                             892 non-null    float64 \n",
      " 15  CALC                            1053 non-null   category\n",
      " 16  MTRANS                          921 non-null    category\n",
      "dtypes: category(3), float64(13), int64(1)\n",
      "memory usage: 125.0 KB\n"
     ]
    }
   ],
   "source": [
    "data_num.info()"
   ]
  },
  {
   "cell_type": "code",
   "execution_count": 385,
   "metadata": {},
   "outputs": [
    {
     "data": {
      "application/vnd.jupyter.widget-view+json": {
       "model_id": "60b6c7696022449c8466a0d51ab1e107",
       "version_major": 2,
       "version_minor": 0
      },
      "text/plain": [
       "interactive(children=(Dropdown(description='attribute', options=('CAEC', 'CALC', 'MTRANS'), value='CAEC'), Out…"
      ]
     },
     "metadata": {},
     "output_type": "display_data"
    }
   ],
   "source": [
    "@widgets.interact\n",
    "def binom_multinom(attribute=list(data_num.select_dtypes(\"category\").columns)):\n",
    "    n_cat = len(data_num[attribute].cat.categories)\n",
    "    categories = data_num[attribute].cat.categories\n",
    "    print(f\"the feature {attribute} has {n_cat} categories. \\nThey are: \\n{categories}\")"
   ]
  },
  {
   "cell_type": "code",
   "execution_count": 386,
   "metadata": {},
   "outputs": [],
   "source": [
    "data_num[\"CALC\"] = data_num[\"CALC\"].cat.reorder_categories(new_categories=[\"no\",\"Sometimes\",\"Frequently\"], ordered=True)\n",
    "data_num[\"CAEC\"] = data_num[\"CAEC\"].cat.reorder_categories(new_categories=[\"no\",\"Sometimes\",\"Frequently\",\"Always\"], ordered=True)\n"
   ]
  },
  {
   "cell_type": "code",
   "execution_count": 387,
   "metadata": {},
   "outputs": [
    {
     "data": {
      "application/vnd.jupyter.widget-view+json": {
       "model_id": "3d091aa63b2b490593c1adbf0b4965a6",
       "version_major": 2,
       "version_minor": 0
      },
      "text/plain": [
       "interactive(children=(Dropdown(description='attribute', options=('CAEC', 'CALC', 'MTRANS'), value='CAEC'), Out…"
      ]
     },
     "metadata": {},
     "output_type": "display_data"
    }
   ],
   "source": [
    "@widgets.interact\n",
    "def binom_multinom(attribute=list(data_num.select_dtypes(\"category\").columns)):\n",
    "    n_cat = len(data_num[attribute].cat.categories)\n",
    "    categories = data_num[attribute].cat.categories\n",
    "    print(f\"the feature {attribute} has {n_cat} categories. \\nThey are: \\n{categories}\")"
   ]
  },
  {
   "cell_type": "code",
   "execution_count": 388,
   "metadata": {},
   "outputs": [
    {
     "name": "stdout",
     "output_type": "stream",
     "text": [
      "CALC_num\n",
      "1       632\n",
      "0       363\n",
      "2        58\n",
      "<NA>     54\n",
      "Name: count, dtype: Int64\n",
      "{'no': 0, 'Sometimes': 1, 'Frequently': 2}\n"
     ]
    }
   ],
   "source": [
    "Encod_CALC = my_labelEncoder()\n",
    "Encod_CALC.fit(data_num,\"CALC\")\n",
    "dict_CALC = Encod_CALC.dict_cat\n",
    "data_num[\"CALC_num\"] = Encod_CALC.transform(data_num,\"CALC\")\n",
    "print(data_num[\"CALC_num\"].value_counts(dropna=False))\n",
    "print(dict_CALC)"
   ]
  },
  {
   "cell_type": "code",
   "execution_count": 389,
   "metadata": {},
   "outputs": [
    {
     "name": "stdout",
     "output_type": "stream",
     "text": [
      "{'no': 0, 'Sometimes': 1, 'Frequently': 2, 'Always': 3}\n"
     ]
    }
   ],
   "source": [
    "Encod_CAEC = my_labelEncoder()\n",
    "Encod_CAEC.fit(data_num,\"CAEC\")\n",
    "dict_CAEC = Encod_CAEC.dict_cat\n",
    "data_num[\"CAEC_num\"] = Encod_CAEC.transform(data_num,\"CAEC\")\n",
    "print(dict_CAEC)"
   ]
  },
  {
   "cell_type": "code",
   "execution_count": 390,
   "metadata": {},
   "outputs": [],
   "source": [
    "Encod_MTRANS = my_labelEncoder()\n",
    "Encod_MTRANS.fit(data_num,\"MTRANS\")\n",
    "dict_MTRANS = Encod_MTRANS.dict_cat\n",
    "data_num[\"MTRANS_num\"] = Encod_MTRANS.transform(data_num,\"MTRANS\")\n"
   ]
  },
  {
   "cell_type": "code",
   "execution_count": 391,
   "metadata": {},
   "outputs": [
    {
     "name": "stdout",
     "output_type": "stream",
     "text": [
      "<class 'pandas.core.frame.DataFrame'>\n",
      "RangeIndex: 1107 entries, 0 to 1106\n",
      "Data columns (total 20 columns):\n",
      " #   Column                          Non-Null Count  Dtype   \n",
      "---  ------                          --------------  -----   \n",
      " 0   ID                              1107 non-null   int64   \n",
      " 1   Gender                          759 non-null    float64 \n",
      " 2   Age                             798 non-null    float64 \n",
      " 3   Height                          871 non-null    float64 \n",
      " 4   Weight                          751 non-null    float64 \n",
      " 5   family_history_with_overweight  987 non-null    float64 \n",
      " 6   FAVC                            607 non-null    float64 \n",
      " 7   FCVC                            1107 non-null   float64 \n",
      " 8   NCP                             1107 non-null   float64 \n",
      " 9   CAEC                            787 non-null    category\n",
      " 10  SMOKE                           775 non-null    float64 \n",
      " 11  CH2O                            1107 non-null   float64 \n",
      " 12  SCC                             1107 non-null   float64 \n",
      " 13  FAF                             1094 non-null   float64 \n",
      " 14  TUE                             892 non-null    float64 \n",
      " 15  CALC                            1053 non-null   category\n",
      " 16  MTRANS                          921 non-null    category\n",
      " 17  CALC_num                        1053 non-null   Int64   \n",
      " 18  CAEC_num                        787 non-null    Int64   \n",
      " 19  MTRANS_num                      921 non-null    Int64   \n",
      "dtypes: Int64(3), category(3), float64(13), int64(1)\n",
      "memory usage: 154.2 KB\n"
     ]
    }
   ],
   "source": [
    "data_num.info()"
   ]
  },
  {
   "cell_type": "code",
   "execution_count": 392,
   "metadata": {},
   "outputs": [],
   "source": [
    "dataNum_miss = data_num.copy()\n",
    "dataNum_miss.drop([\"ID\",\"CALC\",\"CAEC\",\"MTRANS\"], axis=1, inplace=True)"
   ]
  },
  {
   "cell_type": "markdown",
   "metadata": {},
   "source": [
    "# **Imputing missing values with KNNImputer**"
   ]
  },
  {
   "cell_type": "code",
   "execution_count": 393,
   "metadata": {},
   "outputs": [],
   "source": [
    "knnImput = KNNImputer(n_neighbors=5)\n",
    "Data_num_noMiss = knnImput.fit_transform(dataNum_miss)\n",
    "Data_num_noMiss = pd.DataFrame(Data_num_noMiss, columns=dataNum_miss.columns)   "
   ]
  },
  {
   "cell_type": "code",
   "execution_count": 394,
   "metadata": {},
   "outputs": [
    {
     "name": "stdout",
     "output_type": "stream",
     "text": [
      "<class 'pandas.core.frame.DataFrame'>\n",
      "RangeIndex: 1107 entries, 0 to 1106\n",
      "Data columns (total 16 columns):\n",
      " #   Column                          Non-Null Count  Dtype  \n",
      "---  ------                          --------------  -----  \n",
      " 0   Gender                          1107 non-null   float64\n",
      " 1   Age                             1107 non-null   float64\n",
      " 2   Height                          1107 non-null   float64\n",
      " 3   Weight                          1107 non-null   float64\n",
      " 4   family_history_with_overweight  1107 non-null   float64\n",
      " 5   FAVC                            1107 non-null   float64\n",
      " 6   FCVC                            1107 non-null   float64\n",
      " 7   NCP                             1107 non-null   float64\n",
      " 8   SMOKE                           1107 non-null   float64\n",
      " 9   CH2O                            1107 non-null   float64\n",
      " 10  SCC                             1107 non-null   float64\n",
      " 11  FAF                             1107 non-null   float64\n",
      " 12  TUE                             1107 non-null   float64\n",
      " 13  CALC_num                        1107 non-null   float64\n",
      " 14  CAEC_num                        1107 non-null   float64\n",
      " 15  MTRANS_num                      1107 non-null   float64\n",
      "dtypes: float64(16)\n",
      "memory usage: 138.5 KB\n"
     ]
    }
   ],
   "source": [
    "Data_num_noMiss.info()"
   ]
  },
  {
   "cell_type": "code",
   "execution_count": 395,
   "metadata": {},
   "outputs": [
    {
     "data": {
      "text/plain": [
       "<Axes: >"
      ]
     },
     "execution_count": 395,
     "metadata": {},
     "output_type": "execute_result"
    },
    {
     "data": {
      "image/png": "[encoded data removed]",
      "text/plain": [
       "<Figure size 2500x1000 with 2 Axes>"
      ]
     },
     "metadata": {},
     "output_type": "display_data"
    }
   ],
   "source": [
    "msno.matrix(train_set_df)"
   ]
  },
  {
   "cell_type": "code",
   "execution_count": 396,
   "metadata": {},
   "outputs": [
    {
     "data": {
      "application/vnd.jupyter.widget-view+json": {
       "model_id": "cacfb4fbda764eeebb248d575699b2df",
       "version_major": 2,
       "version_minor": 0
      },
      "text/plain": [
       "interactive(children=(Dropdown(description='attribute', options=('ID', 'Gender', 'Age', 'Height', 'Weight', 'f…"
      ]
     },
     "metadata": {},
     "output_type": "display_data"
    }
   ],
   "source": [
    "@widgets.interact\n",
    "def missing_vals(attribute = list(train_set_df.columns)):\n",
    "    prop = train_set_df[attribute].isna().sum()/len(train_set_df)\n",
    "    print(f\"Proportion of missing values for the column {attribute}: {prop}\")"
   ]
  },
  {
   "cell_type": "markdown",
   "metadata": {},
   "source": [
    "45% of FAVC (Frequent High Caloric Food) has no value. Furthermore, it's only a yes/no answer. I believe therefore that this column won't be informative. "
   ]
  },
  {
   "cell_type": "markdown",
   "metadata": {},
   "source": [
    "## **Exemple of imputed feature: Age**"
   ]
  },
  {
   "cell_type": "code",
   "execution_count": 397,
   "metadata": {},
   "outputs": [
    {
     "name": "stdout",
     "output_type": "stream",
     "text": [
      "<class 'pandas.core.frame.DataFrame'>\n",
      "RangeIndex: 1107 entries, 0 to 1106\n",
      "Data columns (total 18 columns):\n",
      " #   Column                          Non-Null Count  Dtype   \n",
      "---  ------                          --------------  -----   \n",
      " 0   ID                              1107 non-null   int64   \n",
      " 1   Gender                          759 non-null    category\n",
      " 2   Age                             798 non-null    float64 \n",
      " 3   Height                          871 non-null    float64 \n",
      " 4   Weight                          751 non-null    float64 \n",
      " 5   family_history_with_overweight  987 non-null    category\n",
      " 6   FAVC                            607 non-null    category\n",
      " 7   FCVC                            1107 non-null   float64 \n",
      " 8   NCP                             1107 non-null   float64 \n",
      " 9   CAEC                            787 non-null    category\n",
      " 10  SMOKE                           775 non-null    category\n",
      " 11  CH2O                            1107 non-null   float64 \n",
      " 12  SCC                             1107 non-null   category\n",
      " 13  FAF                             1094 non-null   float64 \n",
      " 14  TUE                             892 non-null    float64 \n",
      " 15  CALC                            1053 non-null   category\n",
      " 16  MTRANS                          921 non-null    category\n",
      " 17  NObeyesdad                      1107 non-null   category\n",
      "dtypes: category(9), float64(8), int64(1)\n",
      "memory usage: 89.2 KB\n"
     ]
    }
   ],
   "source": [
    "train_set_df.info()"
   ]
  },
  {
   "cell_type": "code",
   "execution_count": 398,
   "metadata": {},
   "outputs": [
    {
     "data": {
      "image/png": "[encoded data removed]",
      "text/plain": [
       "<Figure size 640x480 with 1 Axes>"
      ]
     },
     "metadata": {},
     "output_type": "display_data"
    }
   ],
   "source": [
    "sns.histplot(train_set_df[\"Age\"], bins=20, color=\"blue\")    \n",
    "sns.histplot(Data_num_noMiss[\"Age\"], bins=20, color=\"red\", alpha=0.5)\n",
    "plt.show()"
   ]
  },
  {
   "cell_type": "markdown",
   "metadata": {},
   "source": [
    "We can see with this example that the model respected the distribution pattern."
   ]
  },
  {
   "cell_type": "markdown",
   "metadata": {},
   "source": [
    "## **Reversing from numbers to categories**"
   ]
  },
  {
   "cell_type": "markdown",
   "metadata": {},
   "source": [
    "### **Multinomiales**"
   ]
  },
  {
   "cell_type": "code",
   "execution_count": 399,
   "metadata": {},
   "outputs": [
    {
     "data": {
      "text/plain": [
       "{'Automobile': 0,\n",
       " 'Bike': 1,\n",
       " 'Motorbike': 2,\n",
       " 'Public_Transportation': 3,\n",
       " 'Walking': 4}"
      ]
     },
     "execution_count": 399,
     "metadata": {},
     "output_type": "execute_result"
    }
   ],
   "source": [
    "Encod_MTRANS.dict_cat"
   ]
  },
  {
   "cell_type": "code",
   "execution_count": 400,
   "metadata": {},
   "outputs": [
    {
     "name": "stdout",
     "output_type": "stream",
     "text": [
      "<class 'pandas.core.frame.DataFrame'>\n",
      "RangeIndex: 1107 entries, 0 to 1106\n",
      "Data columns (total 16 columns):\n",
      " #   Column                          Non-Null Count  Dtype  \n",
      "---  ------                          --------------  -----  \n",
      " 0   Gender                          1107 non-null   float64\n",
      " 1   Age                             1107 non-null   float64\n",
      " 2   Height                          1107 non-null   float64\n",
      " 3   Weight                          1107 non-null   float64\n",
      " 4   family_history_with_overweight  1107 non-null   float64\n",
      " 5   FAVC                            1107 non-null   float64\n",
      " 6   FCVC                            1107 non-null   float64\n",
      " 7   NCP                             1107 non-null   float64\n",
      " 8   SMOKE                           1107 non-null   float64\n",
      " 9   CH2O                            1107 non-null   float64\n",
      " 10  SCC                             1107 non-null   float64\n",
      " 11  FAF                             1107 non-null   float64\n",
      " 12  TUE                             1107 non-null   float64\n",
      " 13  CALC_num                        1107 non-null   float64\n",
      " 14  CAEC_num                        1107 non-null   float64\n",
      " 15  MTRANS_num                      1107 non-null   float64\n",
      "dtypes: float64(16)\n",
      "memory usage: 138.5 KB\n"
     ]
    }
   ],
   "source": [
    "X = Data_num_noMiss.copy()\n",
    "X.info()"
   ]
  },
  {
   "cell_type": "code",
   "execution_count": 401,
   "metadata": {},
   "outputs": [],
   "source": [
    "categorical_cols = [\"CALC_num\",\"CAEC_num\",\"MTRANS_num\",\"Gender\",\\\n",
    "                    \"family_history_with_overweight\",\"FAVC\",\"SMOKE\",\"SCC\"]\n",
    "for col in categorical_cols:\n",
    "    X[col] = X[col].astype(\"int32\")"
   ]
  },
  {
   "cell_type": "code",
   "execution_count": 402,
   "metadata": {},
   "outputs": [
    {
     "data": {
      "text/plain": [
       "MTRANS_num\n",
       "3.0    725\n",
       "0.0    209\n",
       "4.0     47\n",
       "2.4     44\n",
       "1.8     24\n",
       "2.0     13\n",
       "2.6     13\n",
       "3.2      8\n",
       "1.2      7\n",
       "1.0      7\n",
       "1.4      3\n",
       "2.8      2\n",
       "2.2      2\n",
       "0.6      2\n",
       "3.4      1\n",
       "Name: count, dtype: int64"
      ]
     },
     "execution_count": 402,
     "metadata": {},
     "output_type": "execute_result"
    }
   ],
   "source": [
    "Data_num_noMiss[\"MTRANS_num\"].value_counts(dropna=False)"
   ]
  },
  {
   "cell_type": "code",
   "execution_count": 403,
   "metadata": {},
   "outputs": [
    {
     "data": {
      "text/plain": [
       "MTRANS_num\n",
       "3    734\n",
       "0    211\n",
       "2     74\n",
       "4     47\n",
       "1     41\n",
       "Name: count, dtype: int64"
      ]
     },
     "execution_count": 403,
     "metadata": {},
     "output_type": "execute_result"
    }
   ],
   "source": [
    "X[\"MTRANS_num\"].value_counts(dropna=False)"
   ]
  },
  {
   "cell_type": "code",
   "execution_count": 404,
   "metadata": {},
   "outputs": [],
   "source": [
    "Data_num_noMiss[\"MTRANS_num\"] = Data_num_noMiss[\"MTRANS_num\"].astype(\"int32\")\n",
    "Data_num_noMiss[\"CAEC_num\"] = Data_num_noMiss[\"CAEC_num\"].astype(\"int32\")\n",
    "Data_num_noMiss[\"CALC_num\"] = Data_num_noMiss[\"CALC_num\"].astype(\"int32\")"
   ]
  },
  {
   "cell_type": "code",
   "execution_count": 405,
   "metadata": {},
   "outputs": [],
   "source": [
    "Data_num_noMiss[\"CALC\"] = Encod_CALC.reverse_transform(Data_num_noMiss,\"CALC_num\")\n",
    "Data_num_noMiss[\"CAEC\"] = Encod_CAEC.reverse_transform(Data_num_noMiss,\"CAEC_num\")\n",
    "Data_num_noMiss[\"MTRANS\"] = Encod_MTRANS.reverse_transform(Data_num_noMiss,\"MTRANS_num\")"
   ]
  },
  {
   "cell_type": "code",
   "execution_count": 406,
   "metadata": {},
   "outputs": [],
   "source": [
    "Data_num_noMiss.drop([\"CALC_num\",\"CAEC_num\",\"MTRANS_num\"], axis=1, inplace=True)"
   ]
  },
  {
   "cell_type": "code",
   "execution_count": 407,
   "metadata": {},
   "outputs": [
    {
     "name": "stdout",
     "output_type": "stream",
     "text": [
      "<class 'pandas.core.frame.DataFrame'>\n",
      "RangeIndex: 1107 entries, 0 to 1106\n",
      "Data columns (total 16 columns):\n",
      " #   Column                          Non-Null Count  Dtype  \n",
      "---  ------                          --------------  -----  \n",
      " 0   Gender                          1107 non-null   float64\n",
      " 1   Age                             1107 non-null   float64\n",
      " 2   Height                          1107 non-null   float64\n",
      " 3   Weight                          1107 non-null   float64\n",
      " 4   family_history_with_overweight  1107 non-null   float64\n",
      " 5   FAVC                            1107 non-null   float64\n",
      " 6   FCVC                            1107 non-null   float64\n",
      " 7   NCP                             1107 non-null   float64\n",
      " 8   SMOKE                           1107 non-null   float64\n",
      " 9   CH2O                            1107 non-null   float64\n",
      " 10  SCC                             1107 non-null   float64\n",
      " 11  FAF                             1107 non-null   float64\n",
      " 12  TUE                             1107 non-null   float64\n",
      " 13  CALC                            1107 non-null   object \n",
      " 14  CAEC                            1107 non-null   object \n",
      " 15  MTRANS                          1107 non-null   object \n",
      "dtypes: float64(13), object(3)\n",
      "memory usage: 138.5+ KB\n"
     ]
    }
   ],
   "source": [
    "Data_num_noMiss.info()"
   ]
  },
  {
   "cell_type": "markdown",
   "metadata": {},
   "source": [
    "## **Binomiale features**"
   ]
  },
  {
   "cell_type": "code",
   "execution_count": 408,
   "metadata": {},
   "outputs": [
    {
     "data": {
      "application/vnd.jupyter.widget-view+json": {
       "model_id": "298d86c714da413594d3cd8b234a309d",
       "version_major": 2,
       "version_minor": 0
      },
      "text/plain": [
       "interactive(children=(Dropdown(description='attribute', options=('Gender', 'family_history_with_overweight', '…"
      ]
     },
     "metadata": {},
     "output_type": "display_data"
    }
   ],
   "source": [
    "@widgets.interact\n",
    "def binom_multinom(attribute=list(train_set_df.select_dtypes(\"category\").columns)):\n",
    "    n_cat = len(train_set_df[attribute].cat.categories)\n",
    "    categories = train_set_df[attribute].cat.categories\n",
    "    print(f\"the feature {attribute} has {n_cat} categories. \\nThey are: \\n{categories}\")"
   ]
  },
  {
   "cell_type": "code",
   "execution_count": 409,
   "metadata": {},
   "outputs": [
    {
     "name": "stdout",
     "output_type": "stream",
     "text": [
      "[{'Female': 0, 'Male': 1}, {'no': 0, 'yes': 1}, {'no': 0, 'yes': 1}, {'no': 0, 'yes': 1}, {'no': 0, 'yes': 1}]\n",
      "['Gender', 'family_history_with_overweight', 'FAVC', 'SMOKE', 'SCC']\n"
     ]
    }
   ],
   "source": [
    "print(list_binom_bool_dict)\n",
    "print(list_binom_cols)"
   ]
  },
  {
   "cell_type": "code",
   "execution_count": 410,
   "metadata": {},
   "outputs": [],
   "source": [
    "list_bool_binom_dict = []\n",
    "for dicti in list_binom_bool_dict:\n",
    "    dicti_bool = {v:k for k,v in dicti.items()}\n",
    "    list_bool_binom_dict.append(dicti_bool)\n"
   ]
  },
  {
   "cell_type": "code",
   "execution_count": 411,
   "metadata": {},
   "outputs": [],
   "source": [
    "for col in list_binom_cols:\n",
    "    Data_num_noMiss[col] = Data_num_noMiss[col].astype(\"int32\")"
   ]
  },
  {
   "cell_type": "code",
   "execution_count": 412,
   "metadata": {},
   "outputs": [],
   "source": [
    "for col,dicti in zip(list_binom_cols,list_bool_binom_dict):\n",
    "    Data_num_noMiss[col] = Data_num_noMiss[col].map(dicti)"
   ]
  },
  {
   "cell_type": "code",
   "execution_count": 413,
   "metadata": {},
   "outputs": [
    {
     "name": "stdout",
     "output_type": "stream",
     "text": [
      "<class 'pandas.core.frame.DataFrame'>\n",
      "RangeIndex: 1107 entries, 0 to 1106\n",
      "Data columns (total 16 columns):\n",
      " #   Column                          Non-Null Count  Dtype  \n",
      "---  ------                          --------------  -----  \n",
      " 0   Gender                          1107 non-null   object \n",
      " 1   Age                             1107 non-null   float64\n",
      " 2   Height                          1107 non-null   float64\n",
      " 3   Weight                          1107 non-null   float64\n",
      " 4   family_history_with_overweight  1107 non-null   object \n",
      " 5   FAVC                            1107 non-null   object \n",
      " 6   FCVC                            1107 non-null   float64\n",
      " 7   NCP                             1107 non-null   float64\n",
      " 8   SMOKE                           1107 non-null   object \n",
      " 9   CH2O                            1107 non-null   float64\n",
      " 10  SCC                             1107 non-null   object \n",
      " 11  FAF                             1107 non-null   float64\n",
      " 12  TUE                             1107 non-null   float64\n",
      " 13  CALC                            1107 non-null   object \n",
      " 14  CAEC                            1107 non-null   object \n",
      " 15  MTRANS                          1107 non-null   object \n",
      "dtypes: float64(8), object(8)\n",
      "memory usage: 138.5+ KB\n",
      "None\n"
     ]
    }
   ],
   "source": [
    "print(Data_num_noMiss.info())"
   ]
  },
  {
   "cell_type": "code",
   "execution_count": 414,
   "metadata": {},
   "outputs": [],
   "source": [
    "Data_num_noMiss[\"NObeyesdad\"] = y"
   ]
  },
  {
   "cell_type": "code",
   "execution_count": 415,
   "metadata": {},
   "outputs": [
    {
     "name": "stdout",
     "output_type": "stream",
     "text": [
      "Gender                                     Male\n",
      "Age                                    21.84801\n",
      "Height                                     1.62\n",
      "Weight                                     53.0\n",
      "family_history_with_overweight               no\n",
      "FAVC                                        yes\n",
      "FCVC                                        2.0\n",
      "NCP                                         3.0\n",
      "SMOKE                                        no\n",
      "CH2O                                        2.0\n",
      "SCC                                          no\n",
      "FAF                                         0.0\n",
      "TUE                                    0.897674\n",
      "CALC                                  Sometimes\n",
      "CAEC                                  Sometimes\n",
      "MTRANS                               Automobile\n",
      "NObeyesdad                        Normal_Weight\n",
      "Name: 5, dtype: object\n",
      "ID                                            6\n",
      "Gender                                     Male\n",
      "Age                                         NaN\n",
      "Height                                     1.62\n",
      "Weight                                     53.0\n",
      "family_history_with_overweight               no\n",
      "FAVC                                        yes\n",
      "FCVC                                        2.0\n",
      "NCP                                         3.0\n",
      "CAEC                                  Sometimes\n",
      "SMOKE                                        no\n",
      "CH2O                                        2.0\n",
      "SCC                                          no\n",
      "FAF                                         0.0\n",
      "TUE                                         NaN\n",
      "CALC                                  Sometimes\n",
      "MTRANS                               Automobile\n",
      "NObeyesdad                        Normal_Weight\n",
      "Name: 5, dtype: object\n"
     ]
    }
   ],
   "source": [
    "print(Data_num_noMiss.iloc[5])\n",
    "print(train_set_df.iloc[5])"
   ]
  },
  {
   "cell_type": "markdown",
   "metadata": {},
   "source": [
    "# **EDA**"
   ]
  },
  {
   "cell_type": "markdown",
   "metadata": {},
   "source": [
    "## **1) From Demographic, dietary and lifestyle, which one is more prevalent to determine the obesity?**"
   ]
  },
  {
   "cell_type": "markdown",
   "metadata": {},
   "source": [
    "All the features can be divided into these 3 categories.  \n",
    "One would think the Dietary would be more prevalent, however, not only this category has at the begining the least number of features (4), but I am removing one of them FAVC since it has too many null values (45%) to be interpretable and the imputed values trusted.  \n",
    "Hence, would the 3 remaining features be the most influencial?  "
   ]
  },
  {
   "cell_type": "code",
   "execution_count": 416,
   "metadata": {},
   "outputs": [],
   "source": [
    "new_obesity = Data_num_noMiss.copy()\n",
    "new_obesity.drop(\"FAVC\", axis=1, inplace=True)"
   ]
  },
  {
   "cell_type": "code",
   "execution_count": 417,
   "metadata": {},
   "outputs": [
    {
     "name": "stdout",
     "output_type": "stream",
     "text": [
      "<class 'pandas.core.frame.DataFrame'>\n",
      "RangeIndex: 1107 entries, 0 to 1106\n",
      "Data columns (total 16 columns):\n",
      " #   Column                          Non-Null Count  Dtype   \n",
      "---  ------                          --------------  -----   \n",
      " 0   Gender                          1107 non-null   object  \n",
      " 1   Age                             1107 non-null   float64 \n",
      " 2   Height                          1107 non-null   float64 \n",
      " 3   Weight                          1107 non-null   float64 \n",
      " 4   family_history_with_overweight  1107 non-null   object  \n",
      " 5   FCVC                            1107 non-null   float64 \n",
      " 6   NCP                             1107 non-null   float64 \n",
      " 7   SMOKE                           1107 non-null   object  \n",
      " 8   CH2O                            1107 non-null   float64 \n",
      " 9   SCC                             1107 non-null   object  \n",
      " 10  FAF                             1107 non-null   float64 \n",
      " 11  TUE                             1107 non-null   float64 \n",
      " 12  CALC                            1107 non-null   object  \n",
      " 13  CAEC                            1107 non-null   object  \n",
      " 14  MTRANS                          1107 non-null   object  \n",
      " 15  NObeyesdad                      1107 non-null   category\n",
      "dtypes: category(1), float64(8), object(7)\n",
      "memory usage: 131.3+ KB\n"
     ]
    }
   ],
   "source": [
    "new_obesity.info()"
   ]
  },
  {
   "cell_type": "code",
   "execution_count": 418,
   "metadata": {},
   "outputs": [
    {
     "data": {
      "text/plain": [
       "Gender  NObeyesdad         \n",
       "Female  Insufficient_Weight    186\n",
       "        Normal_Weight          174\n",
       "        Overweight_Level_I     161\n",
       "        Overweight_Level_II    104\n",
       "        Obesity_Type_I          24\n",
       "        Obesity_Type_III        12\n",
       "        Obesity_Type_II          3\n",
       "Male    Overweight_Level_I     128\n",
       "        Normal_Weight          113\n",
       "        Insufficient_Weight     86\n",
       "        Overweight_Level_II     86\n",
       "        Obesity_Type_I          22\n",
       "        Obesity_Type_II          8\n",
       "        Obesity_Type_III         0\n",
       "Name: count, dtype: int64"
      ]
     },
     "execution_count": 418,
     "metadata": {},
     "output_type": "execute_result"
    }
   ],
   "source": [
    "new_obesity.groupby(\"Gender\")[\"NObeyesdad\"].value_counts(dropna=False)"
   ]
  },
  {
   "cell_type": "markdown",
   "metadata": {},
   "source": [
    "Since here the goal is not to build a predictive model, but to class the features by importance, I am going to use the entire dataset and apply a simple LogisticRegression model for multiclasses. "
   ]
  },
  {
   "cell_type": "code",
   "execution_count": 419,
   "metadata": {},
   "outputs": [
    {
     "name": "stdout",
     "output_type": "stream",
     "text": [
      "NObeyesdad         \n",
      "Overweight_Level_I     0.261066\n",
      "Normal_Weight          0.259259\n",
      "Insufficient_Weight    0.245709\n",
      "Overweight_Level_II    0.171635\n",
      "Obesity_Type_I         0.041554\n",
      "Obesity_Type_III       0.010840\n",
      "Obesity_Type_II        0.009937\n",
      "Name: proportion, dtype: float64\n"
     ]
    },
    {
     "name": "stderr",
     "output_type": "stream",
     "text": [
      "C:\\Users\\Angelique\\AppData\\Local\\Temp\\ipykernel_9868\\4111886037.py:3: SettingWithCopyWarning: \n",
      "A value is trying to be set on a copy of a slice from a DataFrame.\n",
      "Try using .loc[row_indexer,col_indexer] = value instead\n",
      "\n",
      "See the caveats in the documentation: https://pandas.pydata.org/pandas-docs/stable/user_guide/indexing.html#returning-a-view-versus-a-copy\n",
      "  y[\"NObeyesdad\"] = y[\"NObeyesdad\"].cat.reorder_categories(new_categories=order_classes, ordered=True)\n"
     ]
    },
    {
     "data": {
      "text/plain": [
       "Index(['Insufficient_Weight', 'Normal_Weight', 'Overweight_Level_I',\n",
       "       'Overweight_Level_II', 'Obesity_Type_I', 'Obesity_Type_II',\n",
       "       'Obesity_Type_III'],\n",
       "      dtype='object')"
      ]
     },
     "execution_count": 419,
     "metadata": {},
     "output_type": "execute_result"
    }
   ],
   "source": [
    "print(y.value_counts(normalize=True))\n",
    "order_classes = [\"Insufficient_Weight\",\"Normal_Weight\",\"Overweight_Level_I\",\"Overweight_Level_II\",\"Obesity_Type_I\",\"Obesity_Type_II\",\"Obesity_Type_III\"]\n",
    "y[\"NObeyesdad\"] = y[\"NObeyesdad\"].cat.reorder_categories(new_categories=order_classes, ordered=True)\n",
    "\n",
    "classes = y[\"NObeyesdad\"].cat.categories\n",
    "classes"
   ]
  },
  {
   "cell_type": "code",
   "execution_count": 420,
   "metadata": {},
   "outputs": [],
   "source": [
    "new_obesity[\"NObeyesdad\"] = new_obesity[\"NObeyesdad\"].cat.reorder_categories(new_categories=order_classes, ordered=True)"
   ]
  },
  {
   "cell_type": "code",
   "execution_count": 421,
   "metadata": {},
   "outputs": [
    {
     "data": {
      "text/plain": [
       "(1107, 1)"
      ]
     },
     "execution_count": 421,
     "metadata": {},
     "output_type": "execute_result"
    }
   ],
   "source": [
    "y.shape"
   ]
  },
  {
   "cell_type": "code",
   "execution_count": 422,
   "metadata": {},
   "outputs": [
    {
     "data": {
      "text/plain": [
       "(1107,)"
      ]
     },
     "execution_count": 422,
     "metadata": {},
     "output_type": "execute_result"
    }
   ],
   "source": [
    "y_resh = y.values.reshape(-1)\n",
    "y_resh.shape"
   ]
  },
  {
   "cell_type": "code",
   "execution_count": 423,
   "metadata": {},
   "outputs": [
    {
     "name": "stdout",
     "output_type": "stream",
     "text": [
      "<class 'pandas.core.frame.DataFrame'>\n",
      "RangeIndex: 1107 entries, 0 to 1106\n",
      "Data columns (total 16 columns):\n",
      " #   Column                          Non-Null Count  Dtype  \n",
      "---  ------                          --------------  -----  \n",
      " 0   Gender                          1107 non-null   int32  \n",
      " 1   Age                             1107 non-null   float64\n",
      " 2   Height                          1107 non-null   float64\n",
      " 3   Weight                          1107 non-null   float64\n",
      " 4   family_history_with_overweight  1107 non-null   int32  \n",
      " 5   FAVC                            1107 non-null   int32  \n",
      " 6   FCVC                            1107 non-null   float64\n",
      " 7   NCP                             1107 non-null   float64\n",
      " 8   SMOKE                           1107 non-null   int32  \n",
      " 9   CH2O                            1107 non-null   float64\n",
      " 10  SCC                             1107 non-null   int32  \n",
      " 11  FAF                             1107 non-null   float64\n",
      " 12  TUE                             1107 non-null   float64\n",
      " 13  CALC_num                        1107 non-null   int32  \n",
      " 14  CAEC_num                        1107 non-null   int32  \n",
      " 15  MTRANS_num                      1107 non-null   int32  \n",
      "dtypes: float64(8), int32(8)\n",
      "memory usage: 103.9 KB\n"
     ]
    }
   ],
   "source": [
    "X.info()"
   ]
  },
  {
   "cell_type": "code",
   "execution_count": 424,
   "metadata": {},
   "outputs": [
    {
     "data": {
      "text/html": [
       "<style>#sk-container-id-6 {\n",
       "  /* Definition of color scheme common for light and dark mode */\n",
       "  --sklearn-color-text: black;\n",
       "  --sklearn-color-line: gray;\n",
       "  /* Definition of color scheme for unfitted estimators */\n",
       "  --sklearn-color-unfitted-level-0: #fff5e6;\n",
       "  --sklearn-color-unfitted-level-1: #f6e4d2;\n",
       "  --sklearn-color-unfitted-level-2: #ffe0b3;\n",
       "  --sklearn-color-unfitted-level-3: chocolate;\n",
       "  /* Definition of color scheme for fitted estimators */\n",
       "  --sklearn-color-fitted-level-0: #f0f8ff;\n",
       "  --sklearn-color-fitted-level-1: #d4ebff;\n",
       "  --sklearn-color-fitted-level-2: #b3dbfd;\n",
       "  --sklearn-color-fitted-level-3: cornflowerblue;\n",
       "\n",
       "  /* Specific color for light theme */\n",
       "  --sklearn-color-text-on-default-background: var(--sg-text-color, var(--theme-code-foreground, var(--jp-content-font-color1, black)));\n",
       "  --sklearn-color-background: var(--sg-background-color, var(--theme-background, var(--jp-layout-color0, white)));\n",
       "  --sklearn-color-border-box: var(--sg-text-color, var(--theme-code-foreground, var(--jp-content-font-color1, black)));\n",
       "  --sklearn-color-icon: #696969;\n",
       "\n",
       "  @media (prefers-color-scheme: dark) {\n",
       "    /* Redefinition of color scheme for dark theme */\n",
       "    --sklearn-color-text-on-default-background: var(--sg-text-color, var(--theme-code-foreground, var(--jp-content-font-color1, white)));\n",
       "    --sklearn-color-background: var(--sg-background-color, var(--theme-background, var(--jp-layout-color0, #111)));\n",
       "    --sklearn-color-border-box: var(--sg-text-color, var(--theme-code-foreground, var(--jp-content-font-color1, white)));\n",
       "    --sklearn-color-icon: #878787;\n",
       "  }\n",
       "}\n",
       "\n",
       "#sk-container-id-6 {\n",
       "  color: var(--sklearn-color-text);\n",
       "}\n",
       "\n",
       "#sk-container-id-6 pre {\n",
       "  padding: 0;\n",
       "}\n",
       "\n",
       "#sk-container-id-6 input.sk-hidden--visually {\n",
       "  border: 0;\n",
       "  clip: rect(1px 1px 1px 1px);\n",
       "  clip: rect(1px, 1px, 1px, 1px);\n",
       "  height: 1px;\n",
       "  margin: -1px;\n",
       "  overflow: hidden;\n",
       "  padding: 0;\n",
       "  position: absolute;\n",
       "  width: 1px;\n",
       "}\n",
       "\n",
       "#sk-container-id-6 div.sk-dashed-wrapped {\n",
       "  border: 1px dashed var(--sklearn-color-line);\n",
       "  margin: 0 0.4em 0.5em 0.4em;\n",
       "  box-sizing: border-box;\n",
       "  padding-bottom: 0.4em;\n",
       "  background-color: var(--sklearn-color-background);\n",
       "}\n",
       "\n",
       "#sk-container-id-6 div.sk-container {\n",
       "  /* jupyter's `normalize.less` sets `[hidden] { display: none; }`\n",
       "     but bootstrap.min.css set `[hidden] { display: none !important; }`\n",
       "     so we also need the `!important` here to be able to override the\n",
       "     default hidden behavior on the sphinx rendered scikit-learn.org.\n",
       "     See: https://github.com/scikit-learn/scikit-learn/issues/21755 */\n",
       "  display: inline-block !important;\n",
       "  position: relative;\n",
       "}\n",
       "\n",
       "#sk-container-id-6 div.sk-text-repr-fallback {\n",
       "  display: none;\n",
       "}\n",
       "\n",
       "div.sk-parallel-item,\n",
       "div.sk-serial,\n",
       "div.sk-item {\n",
       "  /* draw centered vertical line to link estimators */\n",
       "  background-image: linear-gradient(var(--sklearn-color-text-on-default-background), var(--sklearn-color-text-on-default-background));\n",
       "  background-size: 2px 100%;\n",
       "  background-repeat: no-repeat;\n",
       "  background-position: center center;\n",
       "}\n",
       "\n",
       "/* Parallel-specific style estimator block */\n",
       "\n",
       "#sk-container-id-6 div.sk-parallel-item::after {\n",
       "  content: \"\";\n",
       "  width: 100%;\n",
       "  border-bottom: 2px solid var(--sklearn-color-text-on-default-background);\n",
       "  flex-grow: 1;\n",
       "}\n",
       "\n",
       "#sk-container-id-6 div.sk-parallel {\n",
       "  display: flex;\n",
       "  align-items: stretch;\n",
       "  justify-content: center;\n",
       "  background-color: var(--sklearn-color-background);\n",
       "  position: relative;\n",
       "}\n",
       "\n",
       "#sk-container-id-6 div.sk-parallel-item {\n",
       "  display: flex;\n",
       "  flex-direction: column;\n",
       "}\n",
       "\n",
       "#sk-container-id-6 div.sk-parallel-item:first-child::after {\n",
       "  align-self: flex-end;\n",
       "  width: 50%;\n",
       "}\n",
       "\n",
       "#sk-container-id-6 div.sk-parallel-item:last-child::after {\n",
       "  align-self: flex-start;\n",
       "  width: 50%;\n",
       "}\n",
       "\n",
       "#sk-container-id-6 div.sk-parallel-item:only-child::after {\n",
       "  width: 0;\n",
       "}\n",
       "\n",
       "/* Serial-specific style estimator block */\n",
       "\n",
       "#sk-container-id-6 div.sk-serial {\n",
       "  display: flex;\n",
       "  flex-direction: column;\n",
       "  align-items: center;\n",
       "  background-color: var(--sklearn-color-background);\n",
       "  padding-right: 1em;\n",
       "  padding-left: 1em;\n",
       "}\n",
       "\n",
       "\n",
       "/* Toggleable style: style used for estimator/Pipeline/ColumnTransformer box that is\n",
       "clickable and can be expanded/collapsed.\n",
       "- Pipeline and ColumnTransformer use this feature and define the default style\n",
       "- Estimators will overwrite some part of the style using the `sk-estimator` class\n",
       "*/\n",
       "\n",
       "/* Pipeline and ColumnTransformer style (default) */\n",
       "\n",
       "#sk-container-id-6 div.sk-toggleable {\n",
       "  /* Default theme specific background. It is overwritten whether we have a\n",
       "  specific estimator or a Pipeline/ColumnTransformer */\n",
       "  background-color: var(--sklearn-color-background);\n",
       "}\n",
       "\n",
       "/* Toggleable label */\n",
       "#sk-container-id-6 label.sk-toggleable__label {\n",
       "  cursor: pointer;\n",
       "  display: block;\n",
       "  width: 100%;\n",
       "  margin-bottom: 0;\n",
       "  padding: 0.5em;\n",
       "  box-sizing: border-box;\n",
       "  text-align: center;\n",
       "}\n",
       "\n",
       "#sk-container-id-6 label.sk-toggleable__label-arrow:before {\n",
       "  /* Arrow on the left of the label */\n",
       "  content: \"▸\";\n",
       "  float: left;\n",
       "  margin-right: 0.25em;\n",
       "  color: var(--sklearn-color-icon);\n",
       "}\n",
       "\n",
       "#sk-container-id-6 label.sk-toggleable__label-arrow:hover:before {\n",
       "  color: var(--sklearn-color-text);\n",
       "}\n",
       "\n",
       "/* Toggleable content - dropdown */\n",
       "\n",
       "#sk-container-id-6 div.sk-toggleable__content {\n",
       "  max-height: 0;\n",
       "  max-width: 0;\n",
       "  overflow: hidden;\n",
       "  text-align: left;\n",
       "  /* unfitted */\n",
       "  background-color: var(--sklearn-color-unfitted-level-0);\n",
       "}\n",
       "\n",
       "#sk-container-id-6 div.sk-toggleable__content.fitted {\n",
       "  /* fitted */\n",
       "  background-color: var(--sklearn-color-fitted-level-0);\n",
       "}\n",
       "\n",
       "#sk-container-id-6 div.sk-toggleable__content pre {\n",
       "  margin: 0.2em;\n",
       "  border-radius: 0.25em;\n",
       "  color: var(--sklearn-color-text);\n",
       "  /* unfitted */\n",
       "  background-color: var(--sklearn-color-unfitted-level-0);\n",
       "}\n",
       "\n",
       "#sk-container-id-6 div.sk-toggleable__content.fitted pre {\n",
       "  /* unfitted */\n",
       "  background-color: var(--sklearn-color-fitted-level-0);\n",
       "}\n",
       "\n",
       "#sk-container-id-6 input.sk-toggleable__control:checked~div.sk-toggleable__content {\n",
       "  /* Expand drop-down */\n",
       "  max-height: 200px;\n",
       "  max-width: 100%;\n",
       "  overflow: auto;\n",
       "}\n",
       "\n",
       "#sk-container-id-6 input.sk-toggleable__control:checked~label.sk-toggleable__label-arrow:before {\n",
       "  content: \"▾\";\n",
       "}\n",
       "\n",
       "/* Pipeline/ColumnTransformer-specific style */\n",
       "\n",
       "#sk-container-id-6 div.sk-label input.sk-toggleable__control:checked~label.sk-toggleable__label {\n",
       "  color: var(--sklearn-color-text);\n",
       "  background-color: var(--sklearn-color-unfitted-level-2);\n",
       "}\n",
       "\n",
       "#sk-container-id-6 div.sk-label.fitted input.sk-toggleable__control:checked~label.sk-toggleable__label {\n",
       "  background-color: var(--sklearn-color-fitted-level-2);\n",
       "}\n",
       "\n",
       "/* Estimator-specific style */\n",
       "\n",
       "/* Colorize estimator box */\n",
       "#sk-container-id-6 div.sk-estimator input.sk-toggleable__control:checked~label.sk-toggleable__label {\n",
       "  /* unfitted */\n",
       "  background-color: var(--sklearn-color-unfitted-level-2);\n",
       "}\n",
       "\n",
       "#sk-container-id-6 div.sk-estimator.fitted input.sk-toggleable__control:checked~label.sk-toggleable__label {\n",
       "  /* fitted */\n",
       "  background-color: var(--sklearn-color-fitted-level-2);\n",
       "}\n",
       "\n",
       "#sk-container-id-6 div.sk-label label.sk-toggleable__label,\n",
       "#sk-container-id-6 div.sk-label label {\n",
       "  /* The background is the default theme color */\n",
       "  color: var(--sklearn-color-text-on-default-background);\n",
       "}\n",
       "\n",
       "/* On hover, darken the color of the background */\n",
       "#sk-container-id-6 div.sk-label:hover label.sk-toggleable__label {\n",
       "  color: var(--sklearn-color-text);\n",
       "  background-color: var(--sklearn-color-unfitted-level-2);\n",
       "}\n",
       "\n",
       "/* Label box, darken color on hover, fitted */\n",
       "#sk-container-id-6 div.sk-label.fitted:hover label.sk-toggleable__label.fitted {\n",
       "  color: var(--sklearn-color-text);\n",
       "  background-color: var(--sklearn-color-fitted-level-2);\n",
       "}\n",
       "\n",
       "/* Estimator label */\n",
       "\n",
       "#sk-container-id-6 div.sk-label label {\n",
       "  font-family: monospace;\n",
       "  font-weight: bold;\n",
       "  display: inline-block;\n",
       "  line-height: 1.2em;\n",
       "}\n",
       "\n",
       "#sk-container-id-6 div.sk-label-container {\n",
       "  text-align: center;\n",
       "}\n",
       "\n",
       "/* Estimator-specific */\n",
       "#sk-container-id-6 div.sk-estimator {\n",
       "  font-family: monospace;\n",
       "  border: 1px dotted var(--sklearn-color-border-box);\n",
       "  border-radius: 0.25em;\n",
       "  box-sizing: border-box;\n",
       "  margin-bottom: 0.5em;\n",
       "  /* unfitted */\n",
       "  background-color: var(--sklearn-color-unfitted-level-0);\n",
       "}\n",
       "\n",
       "#sk-container-id-6 div.sk-estimator.fitted {\n",
       "  /* fitted */\n",
       "  background-color: var(--sklearn-color-fitted-level-0);\n",
       "}\n",
       "\n",
       "/* on hover */\n",
       "#sk-container-id-6 div.sk-estimator:hover {\n",
       "  /* unfitted */\n",
       "  background-color: var(--sklearn-color-unfitted-level-2);\n",
       "}\n",
       "\n",
       "#sk-container-id-6 div.sk-estimator.fitted:hover {\n",
       "  /* fitted */\n",
       "  background-color: var(--sklearn-color-fitted-level-2);\n",
       "}\n",
       "\n",
       "/* Specification for estimator info (e.g. \"i\" and \"?\") */\n",
       "\n",
       "/* Common style for \"i\" and \"?\" */\n",
       "\n",
       ".sk-estimator-doc-link,\n",
       "a:link.sk-estimator-doc-link,\n",
       "a:visited.sk-estimator-doc-link {\n",
       "  float: right;\n",
       "  font-size: smaller;\n",
       "  line-height: 1em;\n",
       "  font-family: monospace;\n",
       "  background-color: var(--sklearn-color-background);\n",
       "  border-radius: 1em;\n",
       "  height: 1em;\n",
       "  width: 1em;\n",
       "  text-decoration: none !important;\n",
       "  margin-left: 1ex;\n",
       "  /* unfitted */\n",
       "  border: var(--sklearn-color-unfitted-level-1) 1pt solid;\n",
       "  color: var(--sklearn-color-unfitted-level-1);\n",
       "}\n",
       "\n",
       ".sk-estimator-doc-link.fitted,\n",
       "a:link.sk-estimator-doc-link.fitted,\n",
       "a:visited.sk-estimator-doc-link.fitted {\n",
       "  /* fitted */\n",
       "  border: var(--sklearn-color-fitted-level-1) 1pt solid;\n",
       "  color: var(--sklearn-color-fitted-level-1);\n",
       "}\n",
       "\n",
       "/* On hover */\n",
       "div.sk-estimator:hover .sk-estimator-doc-link:hover,\n",
       ".sk-estimator-doc-link:hover,\n",
       "div.sk-label-container:hover .sk-estimator-doc-link:hover,\n",
       ".sk-estimator-doc-link:hover {\n",
       "  /* unfitted */\n",
       "  background-color: var(--sklearn-color-unfitted-level-3);\n",
       "  color: var(--sklearn-color-background);\n",
       "  text-decoration: none;\n",
       "}\n",
       "\n",
       "div.sk-estimator.fitted:hover .sk-estimator-doc-link.fitted:hover,\n",
       ".sk-estimator-doc-link.fitted:hover,\n",
       "div.sk-label-container:hover .sk-estimator-doc-link.fitted:hover,\n",
       ".sk-estimator-doc-link.fitted:hover {\n",
       "  /* fitted */\n",
       "  background-color: var(--sklearn-color-fitted-level-3);\n",
       "  color: var(--sklearn-color-background);\n",
       "  text-decoration: none;\n",
       "}\n",
       "\n",
       "/* Span, style for the box shown on hovering the info icon */\n",
       ".sk-estimator-doc-link span {\n",
       "  display: none;\n",
       "  z-index: 9999;\n",
       "  position: relative;\n",
       "  font-weight: normal;\n",
       "  right: .2ex;\n",
       "  padding: .5ex;\n",
       "  margin: .5ex;\n",
       "  width: min-content;\n",
       "  min-width: 20ex;\n",
       "  max-width: 50ex;\n",
       "  color: var(--sklearn-color-text);\n",
       "  box-shadow: 2pt 2pt 4pt #999;\n",
       "  /* unfitted */\n",
       "  background: var(--sklearn-color-unfitted-level-0);\n",
       "  border: .5pt solid var(--sklearn-color-unfitted-level-3);\n",
       "}\n",
       "\n",
       ".sk-estimator-doc-link.fitted span {\n",
       "  /* fitted */\n",
       "  background: var(--sklearn-color-fitted-level-0);\n",
       "  border: var(--sklearn-color-fitted-level-3);\n",
       "}\n",
       "\n",
       ".sk-estimator-doc-link:hover span {\n",
       "  display: block;\n",
       "}\n",
       "\n",
       "/* \"?\"-specific style due to the `<a>` HTML tag */\n",
       "\n",
       "#sk-container-id-6 a.estimator_doc_link {\n",
       "  float: right;\n",
       "  font-size: 1rem;\n",
       "  line-height: 1em;\n",
       "  font-family: monospace;\n",
       "  background-color: var(--sklearn-color-background);\n",
       "  border-radius: 1rem;\n",
       "  height: 1rem;\n",
       "  width: 1rem;\n",
       "  text-decoration: none;\n",
       "  /* unfitted */\n",
       "  color: var(--sklearn-color-unfitted-level-1);\n",
       "  border: var(--sklearn-color-unfitted-level-1) 1pt solid;\n",
       "}\n",
       "\n",
       "#sk-container-id-6 a.estimator_doc_link.fitted {\n",
       "  /* fitted */\n",
       "  border: var(--sklearn-color-fitted-level-1) 1pt solid;\n",
       "  color: var(--sklearn-color-fitted-level-1);\n",
       "}\n",
       "\n",
       "/* On hover */\n",
       "#sk-container-id-6 a.estimator_doc_link:hover {\n",
       "  /* unfitted */\n",
       "  background-color: var(--sklearn-color-unfitted-level-3);\n",
       "  color: var(--sklearn-color-background);\n",
       "  text-decoration: none;\n",
       "}\n",
       "\n",
       "#sk-container-id-6 a.estimator_doc_link.fitted:hover {\n",
       "  /* fitted */\n",
       "  background-color: var(--sklearn-color-fitted-level-3);\n",
       "}\n",
       "</style><div id=\"sk-container-id-6\" class=\"sk-top-container\"><div class=\"sk-text-repr-fallback\"><pre>LogisticRegression(max_iter=1000)</pre><b>In a Jupyter environment, please rerun this cell to show the HTML representation or trust the notebook. <br />On GitHub, the HTML representation is unable to render, please try loading this page with nbviewer.org.</b></div><div class=\"sk-container\" hidden><div class=\"sk-item\"><div class=\"sk-estimator fitted sk-toggleable\"><input class=\"sk-toggleable__control sk-hidden--visually\" id=\"sk-estimator-id-6\" type=\"checkbox\" checked><label for=\"sk-estimator-id-6\" class=\"sk-toggleable__label fitted sk-toggleable__label-arrow fitted\">&nbsp;&nbsp;LogisticRegression<a class=\"sk-estimator-doc-link fitted\" rel=\"noreferrer\" target=\"_blank\" href=\"https://scikit-learn.org/1.5/modules/generated/sklearn.linear_model.LogisticRegression.html\">?<span>Documentation for LogisticRegression</span></a><span class=\"sk-estimator-doc-link fitted\">i<span>Fitted</span></span></label><div class=\"sk-toggleable__content fitted\"><pre>LogisticRegression(max_iter=1000)</pre></div> </div></div></div></div>"
      ],
      "text/plain": [
       "LogisticRegression(max_iter=1000)"
      ]
     },
     "execution_count": 424,
     "metadata": {},
     "output_type": "execute_result"
    }
   ],
   "source": [
    "X.drop(\"FAVC\", axis=1, inplace=True)\n",
    "logReg = LogisticRegression(max_iter=1000)\n",
    "stScale = StandardScaler()\n",
    "X_scale = stScale.fit_transform(X)\n",
    "logReg.fit(X_scale,y_resh)"
   ]
  },
  {
   "cell_type": "code",
   "execution_count": 425,
   "metadata": {},
   "outputs": [
    {
     "data": {
      "text/plain": [
       "(7, 15)"
      ]
     },
     "execution_count": 425,
     "metadata": {},
     "output_type": "execute_result"
    }
   ],
   "source": [
    "feature_coefs = logReg.coef_\n",
    "feature_coefs.shape"
   ]
  },
  {
   "cell_type": "code",
   "execution_count": 426,
   "metadata": {},
   "outputs": [],
   "source": [
    "df_coefs = pd.DataFrame(feature_coefs, columns=X.columns, index=classes)\n"
   ]
  },
  {
   "cell_type": "code",
   "execution_count": 427,
   "metadata": {},
   "outputs": [],
   "source": [
    "def most_import_negFeature(df_coefs, weight_class):\n",
    "    sorted_coefs = df_coefs.loc[weight_class].sort_values()\n",
    "    return sorted_coefs[:3]\n",
    "\n",
    "def most_import_posFeature(df_coefs, weight_class):\n",
    "    sorted_coefs = df_coefs.loc[weight_class].sort_values(ascending=False)\n",
    "    return sorted_coefs[:3]"
   ]
  },
  {
   "cell_type": "code",
   "execution_count": 428,
   "metadata": {},
   "outputs": [
    {
     "data": {
      "application/vnd.jupyter.widget-view+json": {
       "model_id": "6dc369a3d407472fbbd629ed3ec5b7ad",
       "version_major": 2,
       "version_minor": 0
      },
      "text/plain": [
       "interactive(children=(Dropdown(description='weight_class', options=('Insufficient_Weight', 'Normal_Weight', 'O…"
      ]
     },
     "metadata": {},
     "output_type": "display_data"
    }
   ],
   "source": [
    "@widgets.interact\n",
    "def most_important_negFeature(weight_class = classes):\n",
    "    print(most_import_negFeature(df_coefs, weight_class))"
   ]
  },
  {
   "cell_type": "code",
   "execution_count": 429,
   "metadata": {},
   "outputs": [
    {
     "data": {
      "application/vnd.jupyter.widget-view+json": {
       "model_id": "3bd7bd3f27ee4b9e97e7000285458ede",
       "version_major": 2,
       "version_minor": 0
      },
      "text/plain": [
       "interactive(children=(Dropdown(description='weight_class', options=('Insufficient_Weight', 'Normal_Weight', 'O…"
      ]
     },
     "metadata": {},
     "output_type": "display_data"
    }
   ],
   "source": [
    "@widgets.interact\n",
    "def most_important_posFeature(weight_class = classes):\n",
    "    print(most_import_posFeature(df_coefs, weight_class))"
   ]
  },
  {
   "cell_type": "markdown",
   "metadata": {},
   "source": [
    "Overall height and weight taken together would be sufficient to determine the weight class. This is what the coeficients illustrate here. So I will remove both of them to see better the influence of the others."
   ]
  },
  {
   "cell_type": "code",
   "execution_count": 430,
   "metadata": {},
   "outputs": [],
   "source": [
    "new_X = X.drop([\"Weight\",\"Height\"], axis=1)\n",
    "new_X_scale = stScale.fit_transform(new_X)\n",
    "logReg.fit(new_X_scale,y_resh)\n",
    "feature_coefs = logReg.coef_\n",
    "df_coefs = pd.DataFrame(feature_coefs, columns=new_X.columns, index=classes)"
   ]
  },
  {
   "cell_type": "code",
   "execution_count": 431,
   "metadata": {},
   "outputs": [
    {
     "data": {
      "application/vnd.jupyter.widget-view+json": {
       "model_id": "c663e086e5174023b2b82a2d5079846d",
       "version_major": 2,
       "version_minor": 0
      },
      "text/plain": [
       "interactive(children=(Dropdown(description='weight_class', options=('Insufficient_Weight', 'Normal_Weight', 'O…"
      ]
     },
     "metadata": {},
     "output_type": "display_data"
    }
   ],
   "source": [
    "@widgets.interact\n",
    "def most_important_negFeature(weight_class = classes):\n",
    "    print(most_import_negFeature(df_coefs, weight_class))"
   ]
  },
  {
   "cell_type": "code",
   "execution_count": 432,
   "metadata": {},
   "outputs": [
    {
     "data": {
      "application/vnd.jupyter.widget-view+json": {
       "model_id": "da3ee705303e4365b3bb0c6310bcb510",
       "version_major": 2,
       "version_minor": 0
      },
      "text/plain": [
       "interactive(children=(Dropdown(description='weight_class', options=('Insufficient_Weight', 'Normal_Weight', 'O…"
      ]
     },
     "metadata": {},
     "output_type": "display_data"
    }
   ],
   "source": [
    "@widgets.interact\n",
    "def most_important_posFeature(weight_class = classes):\n",
    "    print(most_import_posFeature(df_coefs, weight_class))"
   ]
  },
  {
   "cell_type": "markdown",
   "metadata": {},
   "source": [
    "**Influence of the 3 categories (Demographic, diet, life style) on the weight classes.**    \n",
    ". *Insufficient weight*: While demographic (Age and family history) and lifestyle (transportation. This one is difficult to understand as I haven't ordered it) negatively influence the insufficient weight class, the dietary (snacking and nb of daily meals) and lifestyle (physical act frq) positively influence this class. Interestingly, if we believe the model, this class would have a tendency to snack (although 0.58 is not that much). Nonetheless, the **demographic** category has more influence. The insufficient weight are on average slightly younger and are less likely to have a family history of overweight.  \n",
    ". *Normal weight*: Here the influence is a bit more distributed with **demographic** (family history) being the more negative influencer and **dietery** (snacking) being the most positive. Then comes lifestyle with physical act (FAF) and calories  monitoring (SCC).  \n",
    ". *Overweight Level I*: Although the values here again are not so high, we can say that clearly **Dietary** has a strong influence (FCVC, NCP, CAEC). Comes after the demographic (Age and gender).  \n",
    ". *Overweight Level II*: Interestingly for this class **lifestyle** is the most influencial (CH2O, FAF, transportation). Note the negative influence of the number of daily meal (NCP) suggesting that this class is more likely to eat on average less frequently than the other classes.  \n",
    ". *Obesity type I*: If we believe the model, FCVC (Vegetables consumption frequency) has a positive influence. This class would be on average more likely to eat frequently vegetables (this needs to be verify manually). Also snacking (CAEC) is the second most negative influencer suggesting (if we believe the model) that this class is less likely to snack frequently but slightly more likely to eat more daily meals. Nonetheless, overall, the **dietary** is the category more prevalent for this class.  \n",
    ". *Obesity type II*: Here clearly **lifestyle** is the most prevalent category for this class (SMOKE, SCC, CALC, CH2O).  \n",
    ". *Obesity type III*: **Dietary and demographic** are here the most prevalent. Interestingly, family history only arrives second in the most positive factors. "
   ]
  },
  {
   "cell_type": "markdown",
   "metadata": {},
   "source": [
    "## **2) Difference between male and female**"
   ]
  },
  {
   "cell_type": "code",
   "execution_count": 433,
   "metadata": {},
   "outputs": [
    {
     "data": {
      "text/plain": [
       "Gender\n",
       "0    664\n",
       "1    443\n",
       "Name: count, dtype: int64"
      ]
     },
     "execution_count": 433,
     "metadata": {},
     "output_type": "execute_result"
    }
   ],
   "source": [
    "X[\"Gender\"].value_counts()"
   ]
  },
  {
   "cell_type": "code",
   "execution_count": 435,
   "metadata": {},
   "outputs": [
    {
     "data": {
      "image/png": "[encoded data removed]",
      "text/plain": [
       "<Figure size 600.25x500 with 1 Axes>"
      ]
     },
     "metadata": {},
     "output_type": "display_data"
    }
   ],
   "source": [
    "sns.displot(x=\"NObeyesdad\", data=new_obesity, hue=\"Gender\")\n",
    "plt.xticks(rotation=90)\n",
    "plt.show()"
   ]
  },
  {
   "cell_type": "code",
   "execution_count": 438,
   "metadata": {},
   "outputs": [
    {
     "data": {
      "text/plain": [
       "Gender  NObeyesdad         \n",
       "Female  Insufficient_Weight    186\n",
       "        Normal_Weight          174\n",
       "        Overweight_Level_I     161\n",
       "        Overweight_Level_II    104\n",
       "        Obesity_Type_I          24\n",
       "        Obesity_Type_II          3\n",
       "        Obesity_Type_III        12\n",
       "Male    Insufficient_Weight     86\n",
       "        Normal_Weight          113\n",
       "        Overweight_Level_I     128\n",
       "        Overweight_Level_II     86\n",
       "        Obesity_Type_I          22\n",
       "        Obesity_Type_II          8\n",
       "        Obesity_Type_III         0\n",
       "Name: count, dtype: int64"
      ]
     },
     "execution_count": 438,
     "metadata": {},
     "output_type": "execute_result"
    }
   ],
   "source": [
    "new_obesity.groupby(\"Gender\")[\"NObeyesdad\"].value_counts(sort=False)"
   ]
  },
  {
   "cell_type": "code",
   "execution_count": 439,
   "metadata": {},
   "outputs": [
    {
     "data": {
      "text/plain": [
       "Gender\n",
       "Female    664\n",
       "Male      443\n",
       "Name: count, dtype: int64"
      ]
     },
     "execution_count": 439,
     "metadata": {},
     "output_type": "execute_result"
    }
   ],
   "source": [
    "new_obesity[\"Gender\"].value_counts()"
   ]
  },
  {
   "cell_type": "code",
   "execution_count": 440,
   "metadata": {},
   "outputs": [
    {
     "data": {
      "text/plain": [
       "Gender\n",
       "Male      385\n",
       "Female    374\n",
       "NaN       348\n",
       "Name: count, dtype: int64"
      ]
     },
     "execution_count": 440,
     "metadata": {},
     "output_type": "execute_result"
    }
   ],
   "source": [
    "train_set_df[\"Gender\"].value_counts(dropna=False)"
   ]
  },
  {
   "cell_type": "code",
   "execution_count": 441,
   "metadata": {},
   "outputs": [
    {
     "data": {
      "image/png": "[encoded data removed]",
      "text/plain": [
       "<Figure size 600.25x500 with 1 Axes>"
      ]
     },
     "metadata": {},
     "output_type": "display_data"
    }
   ],
   "source": [
    "sns.displot(x=\"NObeyesdad\", data=train_set_df, hue=\"Gender\")\n",
    "plt.xticks(rotation=90)\n",
    "plt.show()"
   ]
  }
 ],
 "metadata": {
  "kernelspec": {
   "display_name": "Essai",
   "language": "python",
   "name": "python3"
  },
  "language_info": {
   "codemirror_mode": {
    "name": "ipython",
    "version": 3
   },
   "file_extension": ".py",
   "mimetype": "text/x-python",
   "name": "python",
   "nbconvert_exporter": "python",
   "pygments_lexer": "ipython3",
   "version": "3.12.3"
  }
 },
 "nbformat": 4,
 "nbformat_minor": 2
}
